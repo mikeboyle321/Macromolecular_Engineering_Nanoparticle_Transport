{
  "nbformat": 4,
  "nbformat_minor": 0,
  "metadata": {
    "colab": {
      "name": "Langmuir_ode_solution.ipynb",
      "provenance": [],
      "collapsed_sections": [],
      "authorship_tag": "ABX9TyM7b3qDji/RIIOFfzoHeFpG",
      "include_colab_link": true
    },
    "kernelspec": {
      "name": "python3",
      "display_name": "Python 3"
    }
  },
  "cells": [
    {
      "cell_type": "markdown",
      "metadata": {
        "id": "view-in-github",
        "colab_type": "text"
      },
      "source": [
        "<a href=\"https://colab.research.google.com/github/mikeboyle321/Macromolecular_Engineering_Nanoparticle_Transport/blob/main/Langmuir_ode_solution.ipynb\" target=\"_parent\"><img src=\"https://colab.research.google.com/assets/colab-badge.svg\" alt=\"Open In Colab\"/></a>"
      ]
    },
    {
      "cell_type": "code",
      "metadata": {
        "id": "oDWIqROojrY8"
      },
      "source": [
        "import numpy as np\r\n",
        "import matplotlib.pyplot as plt\r\n",
        "plt.rcParams.update({'font.size': 14})\r\n",
        "from scipy.integrate import odeint\r\n",
        "from scipy.integrate import ode\r\n",
        "# Refrence for numerical integration :https://physics.nyu.edu/pine/pymanual/html/chap9/chap9_scipy.html\r\n",
        "# https://sam-dolan.staff.shef.ac.uk/mas212/notebooks/ODE_Example.html"
      ],
      "execution_count": 1,
      "outputs": []
    },
    {
      "cell_type": "code",
      "metadata": {
        "id": "g_SW-UWRv2g-"
      },
      "source": [
        "# numerical integration - define the ode\r\n",
        "def dtheta_dt(theta, t, c, ka, kd):\r\n",
        "    return ka*c*(1-theta) - kd*theta\r\n",
        "\r\n",
        "# define a function to numerically integrate fucntions\r\n",
        "def langmuir_kinetic_integration(ka, kd, c, theta_0, t0, int_time, steps=10000):\r\n",
        "  t_ads = np.linspace(t0, t0 + int_time, steps)\r\n",
        "  theta = odeint(dtheta_dt, theta_0, t_ads, args=(c, ka, kd))\r\n",
        "  return t_ads, theta"
      ],
      "execution_count": 2,
      "outputs": []
    },
    {
      "cell_type": "code",
      "metadata": {
        "id": "PF9IppcxoBn_"
      },
      "source": [
        "# Test parameters\r\n",
        "k_a = [0.1, 1, 10, 100] # /s\r\n",
        "k_d = 1 # /s\r\n",
        "cs_ads = 50 # nM\r\n",
        "ads_time = 1 # seconds\r\n",
        "steps = 10000"
      ],
      "execution_count": 105,
      "outputs": []
    },
    {
      "cell_type": "code",
      "metadata": {
        "colab": {
          "base_uri": "https://localhost:8080/",
          "height": 283
        },
        "id": "yw3OPFIwoLM5",
        "outputId": "7966868f-6f7b-4df8-902f-0c4c913d7937"
      },
      "source": [
        "for i, value in enumerate(k_a):\r\n",
        "  t, theta_ads = langmuir_kinetic_integration(ka=value, kd=k_d, c=cs_ads, theta_0=0.0, t0=0.0, int_time=ads_time, steps=steps)\r\n",
        "  plt.plot(t/60, theta_ads, color =  plt.cm.Greys((1/len(k_a))*(i+1)), label = '$k_{a}$ = ' + str(value) + r' $s^{-1}$')\r\n",
        "plt.xlabel('time [s]', fontsize=14)\r\n",
        "plt.ylabel(r'$\\theta(t)$', fontsize=14)\r\n",
        "plt.legend()\r\n",
        "plt.savefig('langmuir_time_integration.svg')"
      ],
      "execution_count": 106,
      "outputs": [
        {
          "output_type": "display_data",
          "data": {
            "image/png": "[encoded data removed]",
            "text/plain": [
              "<Figure size 432x288 with 1 Axes>"
            ]
          },
          "metadata": {
            "tags": [],
            "needs_background": "light"
          }
        }
      ]
    },
    {
      "cell_type": "code",
      "metadata": {
        "id": "yotT4xV8oNfE"
      },
      "source": [
        ""
      ],
      "execution_count": 4,
      "outputs": []
    },
    {
      "cell_type": "code",
      "metadata": {
        "id": "NdesLWJ6oRVk"
      },
      "source": [
        ""
      ],
      "execution_count": 4,
      "outputs": []
    },
    {
      "cell_type": "code",
      "metadata": {
        "id": "nr-P1NTGpG4E"
      },
      "source": [
        ""
      ],
      "execution_count": 4,
      "outputs": []
    },
    {
      "cell_type": "code",
      "metadata": {
        "id": "oQ2DK8Q7pfnc"
      },
      "source": [
        ""
      ],
      "execution_count": null,
      "outputs": []
    }
  ]
}