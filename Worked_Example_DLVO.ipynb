{
  "nbformat": 4,
  "nbformat_minor": 0,
  "metadata": {
    "colab": {
      "name": "Worked_Example_DLVO.ipynb",
      "provenance": [],
      "collapsed_sections": [],
      "include_colab_link": true
    },
    "kernelspec": {
      "name": "python3",
      "display_name": "Python 3"
    },
    "widgets": {
      "application/vnd.jupyter.widget-state+json": {
        "def555603c77413c9d6c3031eba988ee": {
          "model_module": "@jupyter-widgets/controls",
          "model_name": "VBoxModel",
          "model_module_version": "1.5.0",
          "state": {
            "_view_name": "VBoxView",
            "_dom_classes": [
              "widget-interact"
            ],
            "_model_name": "VBoxModel",
            "_view_module": "@jupyter-widgets/controls",
            "_model_module_version": "1.5.0",
            "_view_count": null,
            "_view_module_version": "1.5.0",
            "box_style": "",
            "layout": "IPY_MODEL_3b5c60c7ba904bdd8b4f4277e55b265c",
            "_model_module": "@jupyter-widgets/controls",
            "children": [
              "IPY_MODEL_4176ee42dc184fdb9bb6ec44da1c89b7",
              "IPY_MODEL_5f7da1a607f64a08ac40926d2d000489",
              "IPY_MODEL_ef3a5b9450f1407d997e08302f87386e",
              "IPY_MODEL_7dacf3d32a4840f3a892867b9d5e712e",
              "IPY_MODEL_e4094f199f214e3faa9b8f7195e83641",
              "IPY_MODEL_086cc1db0de145c0b5ba4109f0e9138d",
              "IPY_MODEL_5900726574ab4421bc65342a0241cf29",
              "IPY_MODEL_51477f6b7f45400c82ca157cbb05ed34",
              "IPY_MODEL_a2ae85e1655743d9a2d0c0e2f369cd6c",
              "IPY_MODEL_0483426ea67546088af2abfc4583e37e",
              "IPY_MODEL_bae56dd7ad60437fbe2da29b71dd5a2c"
            ]
          }
        },
        "3b5c60c7ba904bdd8b4f4277e55b265c": {
          "model_module": "@jupyter-widgets/base",
          "model_name": "LayoutModel",
          "model_module_version": "1.2.0",
          "state": {
            "_view_name": "LayoutView",
            "grid_template_rows": null,
            "right": null,
            "justify_content": null,
            "_view_module": "@jupyter-widgets/base",
            "overflow": null,
            "_model_module_version": "1.2.0",
            "_view_count": null,
            "flex_flow": null,
            "width": null,
            "min_width": null,
            "border": null,
            "align_items": null,
            "bottom": null,
            "_model_module": "@jupyter-widgets/base",
            "top": null,
            "grid_column": null,
            "overflow_y": null,
            "overflow_x": null,
            "grid_auto_flow": null,
            "grid_area": null,
            "grid_template_columns": null,
            "flex": null,
            "_model_name": "LayoutModel",
            "justify_items": null,
            "grid_row": null,
            "max_height": null,
            "align_content": null,
            "visibility": null,
            "align_self": null,
            "height": null,
            "min_height": null,
            "padding": null,
            "grid_auto_rows": null,
            "grid_gap": null,
            "max_width": null,
            "order": null,
            "_view_module_version": "1.2.0",
            "grid_template_areas": null,
            "object_position": null,
            "object_fit": null,
            "grid_auto_columns": null,
            "margin": null,
            "display": null,
            "left": null
          }
        },
        "4176ee42dc184fdb9bb6ec44da1c89b7": {
          "model_module": "@jupyter-widgets/controls",
          "model_name": "FloatTextModel",
          "model_module_version": "1.5.0",
          "state": {
            "_view_name": "FloatTextView",
            "style": "IPY_MODEL_c72a3ce16b0b44b5aeb7245569407403",
            "_dom_classes": [],
            "description": "Separation Range Minimum [nm]",
            "_model_name": "FloatTextModel",
            "_view_module": "@jupyter-widgets/controls",
            "_model_module_version": "1.5.0",
            "value": 0.001,
            "_view_count": null,
            "disabled": false,
            "_view_module_version": "1.5.0",
            "continuous_update": true,
            "step": null,
            "description_tooltip": null,
            "_model_module": "@jupyter-widgets/controls",
            "layout": "IPY_MODEL_cbbc1a2859bb490cb32b44d51c977096"
          }
        },
        "5f7da1a607f64a08ac40926d2d000489": {
          "model_module": "@jupyter-widgets/controls",
          "model_name": "FloatTextModel",
          "model_module_version": "1.5.0",
          "state": {
            "_view_name": "FloatTextView",
            "style": "IPY_MODEL_d7f4184ffe4848fba7226ba529ed868f",
            "_dom_classes": [],
            "description": "Separation Range Maximum [nm]",
            "_model_name": "FloatTextModel",
            "_view_module": "@jupyter-widgets/controls",
            "_model_module_version": "1.5.0",
            "value": 50,
            "_view_count": null,
            "disabled": false,
            "_view_module_version": "1.5.0",
            "continuous_update": true,
            "step": null,
            "description_tooltip": null,
            "_model_module": "@jupyter-widgets/controls",
            "layout": "IPY_MODEL_d41320953e6942d6b24c90d88e27bb4b"
          }
        },
        "ef3a5b9450f1407d997e08302f87386e": {
          "model_module": "@jupyter-widgets/controls",
          "model_name": "FloatSliderModel",
          "model_module_version": "1.5.0",
          "state": {
            "_view_name": "FloatSliderView",
            "style": "IPY_MODEL_6f0dea3addaf4dd7a205b6b6a5707103",
            "_dom_classes": [],
            "description": "Particle Radius (nm)",
            "step": 1,
            "_model_name": "FloatSliderModel",
            "orientation": "horizontal",
            "max": 100,
            "_view_module": "@jupyter-widgets/controls",
            "_model_module_version": "1.5.0",
            "value": 10,
            "_view_count": null,
            "disabled": false,
            "_view_module_version": "1.5.0",
            "min": 1,
            "continuous_update": true,
            "readout_format": ".2f",
            "description_tooltip": null,
            "readout": true,
            "_model_module": "@jupyter-widgets/controls",
            "layout": "IPY_MODEL_328004fb433341498d0a45737991d2d8"
          }
        },
        "7dacf3d32a4840f3a892867b9d5e712e": {
          "model_module": "@jupyter-widgets/controls",
          "model_name": "FloatSliderModel",
          "model_module_version": "1.5.0",
          "state": {
            "_view_name": "FloatSliderView",
            "style": "IPY_MODEL_b215f20e08cb49d29893374b444f479b",
            "_dom_classes": [],
            "description": "Hamaker Constant (10^-20 J)",
            "step": 0.1,
            "_model_name": "FloatSliderModel",
            "orientation": "horizontal",
            "max": 100,
            "_view_module": "@jupyter-widgets/controls",
            "_model_module_version": "1.5.0",
            "value": 1.5,
            "_view_count": null,
            "disabled": false,
            "_view_module_version": "1.5.0",
            "min": 0.1,
            "continuous_update": true,
            "readout_format": ".2f",
            "description_tooltip": null,
            "readout": true,
            "_model_module": "@jupyter-widgets/controls",
            "layout": "IPY_MODEL_a5c0d7d0f2f049afa2cad6f111710a29"
          }
        },
        "e4094f199f214e3faa9b8f7195e83641": {
          "model_module": "@jupyter-widgets/controls",
          "model_name": "FloatSliderModel",
          "model_module_version": "1.5.0",
          "state": {
            "_view_name": "FloatSliderView",
            "style": "IPY_MODEL_00faca0c38d44fdbb7d0424ebf1eb0ed",
            "_dom_classes": [],
            "description": "Particle Potential (mV)",
            "step": 1,
            "_model_name": "FloatSliderModel",
            "orientation": "horizontal",
            "max": 100,
            "_view_module": "@jupyter-widgets/controls",
            "_model_module_version": "1.5.0",
            "value": -25,
            "_view_count": null,
            "disabled": false,
            "_view_module_version": "1.5.0",
            "min": -100,
            "continuous_update": true,
            "readout_format": ".2f",
            "description_tooltip": null,
            "readout": true,
            "_model_module": "@jupyter-widgets/controls",
            "layout": "IPY_MODEL_e3072840a28e4d4f80d212250460d2ef"
          }
        },
        "086cc1db0de145c0b5ba4109f0e9138d": {
          "model_module": "@jupyter-widgets/controls",
          "model_name": "FloatSliderModel",
          "model_module_version": "1.5.0",
          "state": {
            "_view_name": "FloatSliderView",
            "style": "IPY_MODEL_58a29361d97e4567a1d0098e234d862c",
            "_dom_classes": [],
            "description": "Substrate Potential (mV)",
            "step": 1,
            "_model_name": "FloatSliderModel",
            "orientation": "horizontal",
            "max": 100,
            "_view_module": "@jupyter-widgets/controls",
            "_model_module_version": "1.5.0",
            "value": 20,
            "_view_count": null,
            "disabled": false,
            "_view_module_version": "1.5.0",
            "min": -100,
            "continuous_update": true,
            "readout_format": ".2f",
            "description_tooltip": null,
            "readout": true,
            "_model_module": "@jupyter-widgets/controls",
            "layout": "IPY_MODEL_2ff85dfe417c47ac8e83c3543e0e22b3"
          }
        },
        "5900726574ab4421bc65342a0241cf29": {
          "model_module": "@jupyter-widgets/controls",
          "model_name": "FloatSliderModel",
          "model_module_version": "1.5.0",
          "state": {
            "_view_name": "FloatSliderView",
            "style": "IPY_MODEL_ca4dfde26fa046ba83a6e6aae0edf64f",
            "_dom_classes": [],
            "description": "[NaCl](M)",
            "step": 0.01,
            "_model_name": "FloatSliderModel",
            "orientation": "horizontal",
            "max": 1,
            "_view_module": "@jupyter-widgets/controls",
            "_model_module_version": "1.5.0",
            "value": 0.003,
            "_view_count": null,
            "disabled": false,
            "_view_module_version": "1.5.0",
            "min": 0,
            "continuous_update": true,
            "readout_format": ".5f",
            "description_tooltip": null,
            "readout": true,
            "_model_module": "@jupyter-widgets/controls",
            "layout": "IPY_MODEL_8803e8c08c304e458259e2f24175b3ff"
          }
        },
        "51477f6b7f45400c82ca157cbb05ed34": {
          "model_module": "@jupyter-widgets/controls",
          "model_name": "FloatSliderModel",
          "model_module_version": "1.5.0",
          "state": {
            "_view_name": "FloatSliderView",
            "style": "IPY_MODEL_f7a2e61fdba44f7496bb30f05ec39938",
            "_dom_classes": [],
            "description": "Born Collision Diamete [nm]",
            "step": 0.1,
            "_model_name": "FloatSliderModel",
            "orientation": "horizontal",
            "max": 2,
            "_view_module": "@jupyter-widgets/controls",
            "_model_module_version": "1.5.0",
            "value": 0.5,
            "_view_count": null,
            "disabled": false,
            "_view_module_version": "1.5.0",
            "min": 0,
            "continuous_update": true,
            "readout_format": ".2f",
            "description_tooltip": null,
            "readout": true,
            "_model_module": "@jupyter-widgets/controls",
            "layout": "IPY_MODEL_ce0fd40b61da4048a35856bf3b580ba6"
          }
        },
        "a2ae85e1655743d9a2d0c0e2f369cd6c": {
          "model_module": "@jupyter-widgets/controls",
          "model_name": "FloatTextModel",
          "model_module_version": "1.5.0",
          "state": {
            "_view_name": "FloatTextView",
            "style": "IPY_MODEL_3d9bb18f80ea481c91803363c7841f78",
            "_dom_classes": [],
            "description": "Plot kT Range Minimum",
            "_model_name": "FloatTextModel",
            "_view_module": "@jupyter-widgets/controls",
            "_model_module_version": "1.5.0",
            "value": -10,
            "_view_count": null,
            "disabled": false,
            "_view_module_version": "1.5.0",
            "continuous_update": true,
            "step": null,
            "description_tooltip": null,
            "_model_module": "@jupyter-widgets/controls",
            "layout": "IPY_MODEL_9a5143ebbfc54eb9bebc2030f3b3c250"
          }
        },
        "0483426ea67546088af2abfc4583e37e": {
          "model_module": "@jupyter-widgets/controls",
          "model_name": "FloatTextModel",
          "model_module_version": "1.5.0",
          "state": {
            "_view_name": "FloatTextView",
            "style": "IPY_MODEL_f9836cb8cde04295add32e937f24b1f7",
            "_dom_classes": [],
            "description": "Plot kT Range Maximum",
            "_model_name": "FloatTextModel",
            "_view_module": "@jupyter-widgets/controls",
            "_model_module_version": "1.5.0",
            "value": 10,
            "_view_count": null,
            "disabled": false,
            "_view_module_version": "1.5.0",
            "continuous_update": true,
            "step": null,
            "description_tooltip": null,
            "_model_module": "@jupyter-widgets/controls",
            "layout": "IPY_MODEL_3f971b83fc4b420f9712e6c991a979c3"
          }
        },
        "bae56dd7ad60437fbe2da29b71dd5a2c": {
          "model_module": "@jupyter-widgets/output",
          "model_name": "OutputModel",
          "model_module_version": "1.0.0",
          "state": {
            "_view_name": "OutputView",
            "msg_id": "",
            "_dom_classes": [],
            "_model_name": "OutputModel",
            "outputs": [
              {
                "output_type": "stream",
                "name": "stdout",
                "text": [
                  "Debye Length for [NaCl]=0.003 M is 5.165201596076153 nm\n",
                  "k*r_np is 1.9360328564129419\n"
                ]
              },
              {
                "output_type": "display_data",
                "data": {
                  "image/png": "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\n",
                  "text/plain": "<Figure size 432x288 with 1 Axes>"
                },
                "metadata": {
                  "needs_background": "light"
                }
              }
            ],
            "_view_module": "@jupyter-widgets/output",
            "_model_module_version": "1.0.0",
            "_view_count": null,
            "_view_module_version": "1.0.0",
            "layout": "IPY_MODEL_425aefb3ab184ef386a6191acfe78e5e",
            "_model_module": "@jupyter-widgets/output"
          }
        },
        "c72a3ce16b0b44b5aeb7245569407403": {
          "model_module": "@jupyter-widgets/controls",
          "model_name": "DescriptionStyleModel",
          "model_module_version": "1.5.0",
          "state": {
            "_view_name": "StyleView",
            "_model_name": "DescriptionStyleModel",
            "description_width": "initial",
            "_view_module": "@jupyter-widgets/base",
            "_model_module_version": "1.5.0",
            "_view_count": null,
            "_view_module_version": "1.2.0",
            "_model_module": "@jupyter-widgets/controls"
          }
        },
        "cbbc1a2859bb490cb32b44d51c977096": {
          "model_module": "@jupyter-widgets/base",
          "model_name": "LayoutModel",
          "model_module_version": "1.2.0",
          "state": {
            "_view_name": "LayoutView",
            "grid_template_rows": null,
            "right": null,
            "justify_content": null,
            "_view_module": "@jupyter-widgets/base",
            "overflow": null,
            "_model_module_version": "1.2.0",
            "_view_count": null,
            "flex_flow": null,
            "width": null,
            "min_width": null,
            "border": null,
            "align_items": null,
            "bottom": null,
            "_model_module": "@jupyter-widgets/base",
            "top": null,
            "grid_column": null,
            "overflow_y": null,
            "overflow_x": null,
            "grid_auto_flow": null,
            "grid_area": null,
            "grid_template_columns": null,
            "flex": null,
            "_model_name": "LayoutModel",
            "justify_items": null,
            "grid_row": null,
            "max_height": null,
            "align_content": null,
            "visibility": null,
            "align_self": null,
            "height": null,
            "min_height": null,
            "padding": null,
            "grid_auto_rows": null,
            "grid_gap": null,
            "max_width": null,
            "order": null,
            "_view_module_version": "1.2.0",
            "grid_template_areas": null,
            "object_position": null,
            "object_fit": null,
            "grid_auto_columns": null,
            "margin": null,
            "display": null,
            "left": null
          }
        },
        "d7f4184ffe4848fba7226ba529ed868f": {
          "model_module": "@jupyter-widgets/controls",
          "model_name": "DescriptionStyleModel",
          "model_module_version": "1.5.0",
          "state": {
            "_view_name": "StyleView",
            "_model_name": "DescriptionStyleModel",
            "description_width": "initial",
            "_view_module": "@jupyter-widgets/base",
            "_model_module_version": "1.5.0",
            "_view_count": null,
            "_view_module_version": "1.2.0",
            "_model_module": "@jupyter-widgets/controls"
          }
        },
        "d41320953e6942d6b24c90d88e27bb4b": {
          "model_module": "@jupyter-widgets/base",
          "model_name": "LayoutModel",
          "model_module_version": "1.2.0",
          "state": {
            "_view_name": "LayoutView",
            "grid_template_rows": null,
            "right": null,
            "justify_content": null,
            "_view_module": "@jupyter-widgets/base",
            "overflow": null,
            "_model_module_version": "1.2.0",
            "_view_count": null,
            "flex_flow": null,
            "width": null,
            "min_width": null,
            "border": null,
            "align_items": null,
            "bottom": null,
            "_model_module": "@jupyter-widgets/base",
            "top": null,
            "grid_column": null,
            "overflow_y": null,
            "overflow_x": null,
            "grid_auto_flow": null,
            "grid_area": null,
            "grid_template_columns": null,
            "flex": null,
            "_model_name": "LayoutModel",
            "justify_items": null,
            "grid_row": null,
            "max_height": null,
            "align_content": null,
            "visibility": null,
            "align_self": null,
            "height": null,
            "min_height": null,
            "padding": null,
            "grid_auto_rows": null,
            "grid_gap": null,
            "max_width": null,
            "order": null,
            "_view_module_version": "1.2.0",
            "grid_template_areas": null,
            "object_position": null,
            "object_fit": null,
            "grid_auto_columns": null,
            "margin": null,
            "display": null,
            "left": null
          }
        },
        "6f0dea3addaf4dd7a205b6b6a5707103": {
          "model_module": "@jupyter-widgets/controls",
          "model_name": "SliderStyleModel",
          "model_module_version": "1.5.0",
          "state": {
            "_view_name": "StyleView",
            "handle_color": null,
            "_model_name": "SliderStyleModel",
            "description_width": "initial",
            "_view_module": "@jupyter-widgets/base",
            "_model_module_version": "1.5.0",
            "_view_count": null,
            "_view_module_version": "1.2.0",
            "_model_module": "@jupyter-widgets/controls"
          }
        },
        "328004fb433341498d0a45737991d2d8": {
          "model_module": "@jupyter-widgets/base",
          "model_name": "LayoutModel",
          "model_module_version": "1.2.0",
          "state": {
            "_view_name": "LayoutView",
            "grid_template_rows": null,
            "right": null,
            "justify_content": null,
            "_view_module": "@jupyter-widgets/base",
            "overflow": null,
            "_model_module_version": "1.2.0",
            "_view_count": null,
            "flex_flow": null,
            "width": null,
            "min_width": null,
            "border": null,
            "align_items": null,
            "bottom": null,
            "_model_module": "@jupyter-widgets/base",
            "top": null,
            "grid_column": null,
            "overflow_y": null,
            "overflow_x": null,
            "grid_auto_flow": null,
            "grid_area": null,
            "grid_template_columns": null,
            "flex": null,
            "_model_name": "LayoutModel",
            "justify_items": null,
            "grid_row": null,
            "max_height": null,
            "align_content": null,
            "visibility": null,
            "align_self": null,
            "height": null,
            "min_height": null,
            "padding": null,
            "grid_auto_rows": null,
            "grid_gap": null,
            "max_width": null,
            "order": null,
            "_view_module_version": "1.2.0",
            "grid_template_areas": null,
            "object_position": null,
            "object_fit": null,
            "grid_auto_columns": null,
            "margin": null,
            "display": null,
            "left": null
          }
        },
        "b215f20e08cb49d29893374b444f479b": {
          "model_module": "@jupyter-widgets/controls",
          "model_name": "SliderStyleModel",
          "model_module_version": "1.5.0",
          "state": {
            "_view_name": "StyleView",
            "handle_color": null,
            "_model_name": "SliderStyleModel",
            "description_width": "initial",
            "_view_module": "@jupyter-widgets/base",
            "_model_module_version": "1.5.0",
            "_view_count": null,
            "_view_module_version": "1.2.0",
            "_model_module": "@jupyter-widgets/controls"
          }
        },
        "a5c0d7d0f2f049afa2cad6f111710a29": {
          "model_module": "@jupyter-widgets/base",
          "model_name": "LayoutModel",
          "model_module_version": "1.2.0",
          "state": {
            "_view_name": "LayoutView",
            "grid_template_rows": null,
            "right": null,
            "justify_content": null,
            "_view_module": "@jupyter-widgets/base",
            "overflow": null,
            "_model_module_version": "1.2.0",
            "_view_count": null,
            "flex_flow": null,
            "width": null,
            "min_width": null,
            "border": null,
            "align_items": null,
            "bottom": null,
            "_model_module": "@jupyter-widgets/base",
            "top": null,
            "grid_column": null,
            "overflow_y": null,
            "overflow_x": null,
            "grid_auto_flow": null,
            "grid_area": null,
            "grid_template_columns": null,
            "flex": null,
            "_model_name": "LayoutModel",
            "justify_items": null,
            "grid_row": null,
            "max_height": null,
            "align_content": null,
            "visibility": null,
            "align_self": null,
            "height": null,
            "min_height": null,
            "padding": null,
            "grid_auto_rows": null,
            "grid_gap": null,
            "max_width": null,
            "order": null,
            "_view_module_version": "1.2.0",
            "grid_template_areas": null,
            "object_position": null,
            "object_fit": null,
            "grid_auto_columns": null,
            "margin": null,
            "display": null,
            "left": null
          }
        },
        "00faca0c38d44fdbb7d0424ebf1eb0ed": {
          "model_module": "@jupyter-widgets/controls",
          "model_name": "SliderStyleModel",
          "model_module_version": "1.5.0",
          "state": {
            "_view_name": "StyleView",
            "handle_color": null,
            "_model_name": "SliderStyleModel",
            "description_width": "initial",
            "_view_module": "@jupyter-widgets/base",
            "_model_module_version": "1.5.0",
            "_view_count": null,
            "_view_module_version": "1.2.0",
            "_model_module": "@jupyter-widgets/controls"
          }
        },
        "e3072840a28e4d4f80d212250460d2ef": {
          "model_module": "@jupyter-widgets/base",
          "model_name": "LayoutModel",
          "model_module_version": "1.2.0",
          "state": {
            "_view_name": "LayoutView",
            "grid_template_rows": null,
            "right": null,
            "justify_content": null,
            "_view_module": "@jupyter-widgets/base",
            "overflow": null,
            "_model_module_version": "1.2.0",
            "_view_count": null,
            "flex_flow": null,
            "width": null,
            "min_width": null,
            "border": null,
            "align_items": null,
            "bottom": null,
            "_model_module": "@jupyter-widgets/base",
            "top": null,
            "grid_column": null,
            "overflow_y": null,
            "overflow_x": null,
            "grid_auto_flow": null,
            "grid_area": null,
            "grid_template_columns": null,
            "flex": null,
            "_model_name": "LayoutModel",
            "justify_items": null,
            "grid_row": null,
            "max_height": null,
            "align_content": null,
            "visibility": null,
            "align_self": null,
            "height": null,
            "min_height": null,
            "padding": null,
            "grid_auto_rows": null,
            "grid_gap": null,
            "max_width": null,
            "order": null,
            "_view_module_version": "1.2.0",
            "grid_template_areas": null,
            "object_position": null,
            "object_fit": null,
            "grid_auto_columns": null,
            "margin": null,
            "display": null,
            "left": null
          }
        },
        "58a29361d97e4567a1d0098e234d862c": {
          "model_module": "@jupyter-widgets/controls",
          "model_name": "SliderStyleModel",
          "model_module_version": "1.5.0",
          "state": {
            "_view_name": "StyleView",
            "handle_color": null,
            "_model_name": "SliderStyleModel",
            "description_width": "initial",
            "_view_module": "@jupyter-widgets/base",
            "_model_module_version": "1.5.0",
            "_view_count": null,
            "_view_module_version": "1.2.0",
            "_model_module": "@jupyter-widgets/controls"
          }
        },
        "2ff85dfe417c47ac8e83c3543e0e22b3": {
          "model_module": "@jupyter-widgets/base",
          "model_name": "LayoutModel",
          "model_module_version": "1.2.0",
          "state": {
            "_view_name": "LayoutView",
            "grid_template_rows": null,
            "right": null,
            "justify_content": null,
            "_view_module": "@jupyter-widgets/base",
            "overflow": null,
            "_model_module_version": "1.2.0",
            "_view_count": null,
            "flex_flow": null,
            "width": null,
            "min_width": null,
            "border": null,
            "align_items": null,
            "bottom": null,
            "_model_module": "@jupyter-widgets/base",
            "top": null,
            "grid_column": null,
            "overflow_y": null,
            "overflow_x": null,
            "grid_auto_flow": null,
            "grid_area": null,
            "grid_template_columns": null,
            "flex": null,
            "_model_name": "LayoutModel",
            "justify_items": null,
            "grid_row": null,
            "max_height": null,
            "align_content": null,
            "visibility": null,
            "align_self": null,
            "height": null,
            "min_height": null,
            "padding": null,
            "grid_auto_rows": null,
            "grid_gap": null,
            "max_width": null,
            "order": null,
            "_view_module_version": "1.2.0",
            "grid_template_areas": null,
            "object_position": null,
            "object_fit": null,
            "grid_auto_columns": null,
            "margin": null,
            "display": null,
            "left": null
          }
        },
        "ca4dfde26fa046ba83a6e6aae0edf64f": {
          "model_module": "@jupyter-widgets/controls",
          "model_name": "SliderStyleModel",
          "model_module_version": "1.5.0",
          "state": {
            "_view_name": "StyleView",
            "handle_color": null,
            "_model_name": "SliderStyleModel",
            "description_width": "initial",
            "_view_module": "@jupyter-widgets/base",
            "_model_module_version": "1.5.0",
            "_view_count": null,
            "_view_module_version": "1.2.0",
            "_model_module": "@jupyter-widgets/controls"
          }
        },
        "8803e8c08c304e458259e2f24175b3ff": {
          "model_module": "@jupyter-widgets/base",
          "model_name": "LayoutModel",
          "model_module_version": "1.2.0",
          "state": {
            "_view_name": "LayoutView",
            "grid_template_rows": null,
            "right": null,
            "justify_content": null,
            "_view_module": "@jupyter-widgets/base",
            "overflow": null,
            "_model_module_version": "1.2.0",
            "_view_count": null,
            "flex_flow": null,
            "width": null,
            "min_width": null,
            "border": null,
            "align_items": null,
            "bottom": null,
            "_model_module": "@jupyter-widgets/base",
            "top": null,
            "grid_column": null,
            "overflow_y": null,
            "overflow_x": null,
            "grid_auto_flow": null,
            "grid_area": null,
            "grid_template_columns": null,
            "flex": null,
            "_model_name": "LayoutModel",
            "justify_items": null,
            "grid_row": null,
            "max_height": null,
            "align_content": null,
            "visibility": null,
            "align_self": null,
            "height": null,
            "min_height": null,
            "padding": null,
            "grid_auto_rows": null,
            "grid_gap": null,
            "max_width": null,
            "order": null,
            "_view_module_version": "1.2.0",
            "grid_template_areas": null,
            "object_position": null,
            "object_fit": null,
            "grid_auto_columns": null,
            "margin": null,
            "display": null,
            "left": null
          }
        },
        "f7a2e61fdba44f7496bb30f05ec39938": {
          "model_module": "@jupyter-widgets/controls",
          "model_name": "SliderStyleModel",
          "model_module_version": "1.5.0",
          "state": {
            "_view_name": "StyleView",
            "handle_color": null,
            "_model_name": "SliderStyleModel",
            "description_width": "initial",
            "_view_module": "@jupyter-widgets/base",
            "_model_module_version": "1.5.0",
            "_view_count": null,
            "_view_module_version": "1.2.0",
            "_model_module": "@jupyter-widgets/controls"
          }
        },
        "ce0fd40b61da4048a35856bf3b580ba6": {
          "model_module": "@jupyter-widgets/base",
          "model_name": "LayoutModel",
          "model_module_version": "1.2.0",
          "state": {
            "_view_name": "LayoutView",
            "grid_template_rows": null,
            "right": null,
            "justify_content": null,
            "_view_module": "@jupyter-widgets/base",
            "overflow": null,
            "_model_module_version": "1.2.0",
            "_view_count": null,
            "flex_flow": null,
            "width": null,
            "min_width": null,
            "border": null,
            "align_items": null,
            "bottom": null,
            "_model_module": "@jupyter-widgets/base",
            "top": null,
            "grid_column": null,
            "overflow_y": null,
            "overflow_x": null,
            "grid_auto_flow": null,
            "grid_area": null,
            "grid_template_columns": null,
            "flex": null,
            "_model_name": "LayoutModel",
            "justify_items": null,
            "grid_row": null,
            "max_height": null,
            "align_content": null,
            "visibility": null,
            "align_self": null,
            "height": null,
            "min_height": null,
            "padding": null,
            "grid_auto_rows": null,
            "grid_gap": null,
            "max_width": null,
            "order": null,
            "_view_module_version": "1.2.0",
            "grid_template_areas": null,
            "object_position": null,
            "object_fit": null,
            "grid_auto_columns": null,
            "margin": null,
            "display": null,
            "left": null
          }
        },
        "3d9bb18f80ea481c91803363c7841f78": {
          "model_module": "@jupyter-widgets/controls",
          "model_name": "DescriptionStyleModel",
          "model_module_version": "1.5.0",
          "state": {
            "_view_name": "StyleView",
            "_model_name": "DescriptionStyleModel",
            "description_width": "initial",
            "_view_module": "@jupyter-widgets/base",
            "_model_module_version": "1.5.0",
            "_view_count": null,
            "_view_module_version": "1.2.0",
            "_model_module": "@jupyter-widgets/controls"
          }
        },
        "9a5143ebbfc54eb9bebc2030f3b3c250": {
          "model_module": "@jupyter-widgets/base",
          "model_name": "LayoutModel",
          "model_module_version": "1.2.0",
          "state": {
            "_view_name": "LayoutView",
            "grid_template_rows": null,
            "right": null,
            "justify_content": null,
            "_view_module": "@jupyter-widgets/base",
            "overflow": null,
            "_model_module_version": "1.2.0",
            "_view_count": null,
            "flex_flow": null,
            "width": null,
            "min_width": null,
            "border": null,
            "align_items": null,
            "bottom": null,
            "_model_module": "@jupyter-widgets/base",
            "top": null,
            "grid_column": null,
            "overflow_y": null,
            "overflow_x": null,
            "grid_auto_flow": null,
            "grid_area": null,
            "grid_template_columns": null,
            "flex": null,
            "_model_name": "LayoutModel",
            "justify_items": null,
            "grid_row": null,
            "max_height": null,
            "align_content": null,
            "visibility": null,
            "align_self": null,
            "height": null,
            "min_height": null,
            "padding": null,
            "grid_auto_rows": null,
            "grid_gap": null,
            "max_width": null,
            "order": null,
            "_view_module_version": "1.2.0",
            "grid_template_areas": null,
            "object_position": null,
            "object_fit": null,
            "grid_auto_columns": null,
            "margin": null,
            "display": null,
            "left": null
          }
        },
        "f9836cb8cde04295add32e937f24b1f7": {
          "model_module": "@jupyter-widgets/controls",
          "model_name": "DescriptionStyleModel",
          "model_module_version": "1.5.0",
          "state": {
            "_view_name": "StyleView",
            "_model_name": "DescriptionStyleModel",
            "description_width": "initial",
            "_view_module": "@jupyter-widgets/base",
            "_model_module_version": "1.5.0",
            "_view_count": null,
            "_view_module_version": "1.2.0",
            "_model_module": "@jupyter-widgets/controls"
          }
        },
        "3f971b83fc4b420f9712e6c991a979c3": {
          "model_module": "@jupyter-widgets/base",
          "model_name": "LayoutModel",
          "model_module_version": "1.2.0",
          "state": {
            "_view_name": "LayoutView",
            "grid_template_rows": null,
            "right": null,
            "justify_content": null,
            "_view_module": "@jupyter-widgets/base",
            "overflow": null,
            "_model_module_version": "1.2.0",
            "_view_count": null,
            "flex_flow": null,
            "width": null,
            "min_width": null,
            "border": null,
            "align_items": null,
            "bottom": null,
            "_model_module": "@jupyter-widgets/base",
            "top": null,
            "grid_column": null,
            "overflow_y": null,
            "overflow_x": null,
            "grid_auto_flow": null,
            "grid_area": null,
            "grid_template_columns": null,
            "flex": null,
            "_model_name": "LayoutModel",
            "justify_items": null,
            "grid_row": null,
            "max_height": null,
            "align_content": null,
            "visibility": null,
            "align_self": null,
            "height": null,
            "min_height": null,
            "padding": null,
            "grid_auto_rows": null,
            "grid_gap": null,
            "max_width": null,
            "order": null,
            "_view_module_version": "1.2.0",
            "grid_template_areas": null,
            "object_position": null,
            "object_fit": null,
            "grid_auto_columns": null,
            "margin": null,
            "display": null,
            "left": null
          }
        },
        "425aefb3ab184ef386a6191acfe78e5e": {
          "model_module": "@jupyter-widgets/base",
          "model_name": "LayoutModel",
          "model_module_version": "1.2.0",
          "state": {
            "_view_name": "LayoutView",
            "grid_template_rows": null,
            "right": null,
            "justify_content": null,
            "_view_module": "@jupyter-widgets/base",
            "overflow": null,
            "_model_module_version": "1.2.0",
            "_view_count": null,
            "flex_flow": null,
            "width": null,
            "min_width": null,
            "border": null,
            "align_items": null,
            "bottom": null,
            "_model_module": "@jupyter-widgets/base",
            "top": null,
            "grid_column": null,
            "overflow_y": null,
            "overflow_x": null,
            "grid_auto_flow": null,
            "grid_area": null,
            "grid_template_columns": null,
            "flex": null,
            "_model_name": "LayoutModel",
            "justify_items": null,
            "grid_row": null,
            "max_height": null,
            "align_content": null,
            "visibility": null,
            "align_self": null,
            "height": null,
            "min_height": null,
            "padding": null,
            "grid_auto_rows": null,
            "grid_gap": null,
            "max_width": null,
            "order": null,
            "_view_module_version": "1.2.0",
            "grid_template_areas": null,
            "object_position": null,
            "object_fit": null,
            "grid_auto_columns": null,
            "margin": null,
            "display": null,
            "left": null
          }
        }
      }
    }
  },
  "cells": [
    {
      "cell_type": "markdown",
      "metadata": {
        "id": "view-in-github",
        "colab_type": "text"
      },
      "source": [
        "<a href=\"https://colab.research.google.com/github/mikeboyle321/Macromolecular_Engineering_Nanoparticle_Transport/blob/main/Worked_Example_DLVO.ipynb\" target=\"_parent\"><img src=\"https://colab.research.google.com/assets/colab-badge.svg\" alt=\"Open In Colab\"/></a>"
      ]
    },
    {
      "cell_type": "markdown",
      "metadata": {
        "id": "dA5hpQmWu_37"
      },
      "source": [
        "# Extended DLVO - colloid interactions with a substrate in electrolyte solutions.\n",
        "\n",
        "This notebook walks through the analysis of a PS Nanoparticle Interacting with a silica substrate as a function of distance from the substrate using an extended DLVO model adapted from \n",
        "\n",
        "Handol Lee, Doris Segets, Sebastian Süß, Wolfgang Peukert, Sheng-Chieh Chen, David Y.H. Pui,\n",
        "Liquid filtration of nanoparticles through track-etched membrane filters under unfavorable and different ionic strength conditions: Experiments and modeling,\n",
        "Journal of Membrane Science,\n",
        "Volume 524,\n",
        "2017,\n",
        "Pages 682-690,\n",
        "ISSN 0376-7388,\n",
        "https://doi.org/10.1016/j.memsci.2016.11.023.\n",
        "(https://www.sciencedirect.com/science/article/pii/S0376738816312352)\n"
      ]
    },
    {
      "cell_type": "code",
      "metadata": {
        "id": "9Uerd1r3rDtd"
      },
      "source": [
        "# Import key python packages\n",
        "import numpy as np\n",
        "import pandas as pd\n",
        "import matplotlib.pyplot as plt\n",
        "from matplotlib import cm, rc\n",
        "from ipywidgets import interactive, IntSlider, RadioButtons, FloatText, IntText, FloatSlider\n",
        "# set font size for plots globally\n",
        "plt.rcParams.update({'font.size': 14})"
      ],
      "execution_count": 1,
      "outputs": []
    },
    {
      "cell_type": "markdown",
      "metadata": {
        "id": "GxvJxSJlv8tO"
      },
      "source": [
        "## First we need to define some key constants"
      ]
    },
    {
      "cell_type": "code",
      "metadata": {
        "id": "1LvnoiD9v1W3"
      },
      "source": [
        "kb = 1.38064852E-23 # J/K, boltzmann constant\n",
        "lambda_char = 100*1E-9 # m, 100 nm characteristic retardation wavelength ~ ionization wavelength\n",
        "e_0 = 8.85418782E-12 # F/m\n",
        "e_r = 78.4 # relative permittivity of water\n",
        "e_coulomb = 1.602176634E-19 # C \n",
        "T = 237.15 + 21.04 # K\n",
        "Na = 6.022E23 #/mol, Avogadro"
      ],
      "execution_count": 2,
      "outputs": []
    },
    {
      "cell_type": "markdown",
      "metadata": {
        "id": "CeQxNTfRuyT6"
      },
      "source": [
        "## Plot the VdW interaction potential for varying separation particle sizes\n",
        "* Van der Waals interaction constants from Israelachvili, J.N., Intermolecular and Surface Forces, Third Edition 2011\n"
      ]
    },
    {
      "cell_type": "code",
      "metadata": {
        "colab": {
          "base_uri": "https://localhost:8080/",
          "height": 320
        },
        "id": "6lZ8bZ1CkML3",
        "outputId": "2914ac99-15c8-4c2d-9f29-6113cdfc25b8"
      },
      "source": [
        "# Define a function for calcuating VdW forces\n",
        "def calc_vdw(h_min, h_max, r_np_calc, A_vdw, lambda_ion):\n",
        "  h_calc = np.linspace(h_min, h_max, 1000)*1E-9 # m\n",
        "  r_calc = r_np_calc*1E-9 # converts nm to m\n",
        "  phi_vdw_calc = (-A_vdw*r_calc*(1 + 14*h_calc/lambda_ion)**(-1))/(6*h_calc) # J\n",
        "  return h_calc, phi_vdw_calc # returns m, J\n",
        "\n",
        "# Use combination rule to estimate Hamaker Constant, A_eff\n",
        "A_ps = np.mean([6.6E-20, 7.9E-20])  # J\n",
        "A_h2o = np.mean([3.7E-20, 5.5E-20]) # J\n",
        "A_sio2 = np.mean([5E-20, 6E-20]) # J\n",
        "A_eff = (np.sqrt(A_ps) - np.sqrt(A_h2o))*(np.sqrt(A_sio2) - np.sqrt(A_h2o)) # J\n",
        "print(f'A_eff = {A_eff} J')\n",
        "\n",
        "# define constants\n",
        "r_np = [1,10, 20, 100, 1000] #test  differnt parictle diameters, nm\n",
        "sep_min = 0.001 # nm\n",
        "sep_max = 10 # nm\n",
        "kT = kb*T\n",
        "for i, value in enumerate(r_np):\n",
        "  h, phi_vdw = calc_vdw(h_min = sep_min, h_max = sep_max, r_np_calc = value, A_vdw=A_eff, lambda_ion = lambda_char)\n",
        "  plt.plot(h*1E9, phi_vdw/kT, color =  plt.cm.Greys((1/len(r_np))*(i+1)), label = ('Particle Radius = ' + str(value) + ' nm'))\n",
        "  plt.legend()\n",
        "plt.ylim([-10,10])\n",
        "plt.xlabel('Separation Distance [nm]')\n",
        "plt.ylabel(r'$\\frac{\\phi_{VdW}}{k_{b}T}$', fontsize=18)"
      ],
      "execution_count": 3,
      "outputs": [
        {
          "output_type": "stream",
          "name": "stdout",
          "text": [
            "A_eff = 1.0980904698146341e-21 J\n"
          ]
        },
        {
          "output_type": "execute_result",
          "data": {
            "text/plain": [
              "Text(0, 0.5, '$\\\\frac{\\\\phi_{VdW}}{k_{b}T}$')"
            ]
          },
          "metadata": {},
          "execution_count": 3
        },
        {
          "output_type": "display_data",
          "data": {
            "image/png": "[encoded data removed]",
            "text/plain": [
              "<Figure size 432x288 with 1 Axes>"
            ]
          },
          "metadata": {
            "needs_background": "light"
          }
        }
      ]
    },
    {
      "cell_type": "markdown",
      "metadata": {
        "id": "BtQnYHvuOSmI"
      },
      "source": [
        "# Plot the Electric Double Layer ion concentration profile for varying salt concentration"
      ]
    },
    {
      "cell_type": "code",
      "metadata": {
        "colab": {
          "base_uri": "https://localhost:8080/",
          "height": 448
        },
        "id": "6xO5EVM1Oix6",
        "outputId": "89509009-1eed-4a6a-aeb7-db69cff028d4"
      },
      "source": [
        "# Define a function for calcuating EDL forces\n",
        "def calc_edl(h_min, h_max, r_np_calc, c_s_bulk_calc, z_ion_calc, psi_p_calc, psi_s_calc):\n",
        "  psi_p_calc = psi_p_calc*1E-3 # converts mV to volts\n",
        "  psi_s_calc = psi_s_calc*1E-3 # converts mV to volts\n",
        "  h_calc = np.linspace(h_min, h_max, 1000)*1E-9 # m\n",
        "  r_calc = r_np_calc*1E-9 # converts nm to m\n",
        "  debye_param_calc = np.sqrt(2*(1000*c_s_bulk_calc*Na*e_coulomb**2*z_ion_calc**2)/(e_0*e_r*kb*T)) # m^-1\n",
        "  # From Lee et. al\n",
        "  # phi_edl_calc = (((64*np.pi*e_r*e_0)/debye_param_calc)*\n",
        "  #                 (kb*T/(z_ion_calc*e_coulomb))**2*\n",
        "  #                 np.tanh(z_ion_calc*e_coulomb*psi_s_calc/(4*kb*T))*\n",
        "  #                 np.tanh(z_ion_calc*e_coulomb*psi_p_calc/(4*kb*T))*\n",
        "  #                 ((debye_param_calc*r_calc - 1)*np.exp(-debye_param_calc*h_calc) + (debye_param_calc*r_calc + 1)*np.exp(-debye_param_calc*(h_calc+2*r_calc)))\n",
        "  #                 )\n",
        "  # from Adsorption and Desorption of Particles and Their Chromatographic Separation, Ruckenstein, Eli Prieve, Dennis C., AIChE Journal 1976\n",
        "  # phi_edl_calc = (16*e_r*e_0*(kb*T/e_coulomb)**2*\n",
        "  #                 r_calc*\n",
        "  #                 np.tanh(z_ion_calc*e_coulomb*psi_s_calc/(4*kb*T))*\n",
        "  #                 np.tanh(z_ion_calc*e_coulomb*psi_p_calc/(4*kb*T))*\n",
        "  #                 np.exp(-debye_param_calc*h_calc)\n",
        "  #                )\n",
        "  # from Intermolecular and Surface Forces, Israelachvili\n",
        "  phi_edl_calc = (r_calc*\n",
        "                  ((64*np.pi*e_r*e_0))*\n",
        "                  (kb*T/(z_ion_calc*e_coulomb))**2*\n",
        "                  np.tanh(z_ion_calc*e_coulomb*psi_s_calc/(4*kb*T))*\n",
        "                  np.tanh(z_ion_calc*e_coulomb*psi_p_calc/(4*kb*T))*\n",
        "                  np.exp(-debye_param_calc*h_calc)\n",
        "                  )\n",
        "  print(f'Debye Length for [NaCl]={c_s_bulk_calc} M is {1/debye_param_calc*1E9} nm')\n",
        "  print(f'k*r_np is {debye_param_calc*r_calc}')\n",
        "  return h_calc, phi_edl_calc, 1/debye_param_calc*1E9 # returns m, J, nm - debye length\n",
        "\n",
        "r_np = 50 # nm\n",
        "psi_s = -25# mV\n",
        "psi_p = -25 # mV\n",
        "z = 1 # salt valency - 1 for monovalent salt like NaCl\n",
        "c_salt = [0.001, 0.01, 0.1, 1] # concentration of salt in the bulk soltuion in mol/L\n",
        "kT = kb*T\n",
        "# define constants\n",
        "sep_min = 0.001 # nm\n",
        "sep_max = 50 # nm\n",
        "kT = kb*T\n",
        "for i, value in enumerate(c_salt):\n",
        "  h, phi_edl, debye_length = calc_edl(h_min=sep_min, h_max=sep_max, r_np_calc=r_np, c_s_bulk_calc=value, z_ion_calc=z, psi_p_calc=psi_p, psi_s_calc=psi_s)\n",
        "  plt.plot(h*1E9, phi_edl/kT, color =  plt.cm.Greys((1/len(c_salt))*(i+1)), label = ('Salt Concentration = ' + str(value) + ' M'))\n",
        "plt.legend(fontsize=12)\n",
        "plt.ylim([-100,100])\n",
        "# plt.title('EDL for 100 nm PS particle in NaCl')\n",
        "plt.xlabel('Separation Distance [nm]')\n",
        "plt.ylabel(r'$\\frac{\\phi_{EDL}}{k_{b}T}$', fontsize=18)"
      ],
      "execution_count": 5,
      "outputs": [
        {
          "output_type": "stream",
          "name": "stdout",
          "text": [
            "Debye Length for [NaCl]=0.001 M is 8.946391595739755 nm\n",
            "k*r_np is 5.58884545404986\n",
            "Debye Length for [NaCl]=0.01 M is 2.8290974282325965 nm\n",
            "k*r_np is 17.673481125475476\n",
            "Debye Length for [NaCl]=0.1 M is 0.8946391595739754 nm\n",
            "k*r_np is 55.88845454049861\n",
            "Debye Length for [NaCl]=1 M is 0.28290974282325965 nm\n",
            "k*r_np is 176.73481125475476\n"
          ]
        },
        {
          "output_type": "execute_result",
          "data": {
            "text/plain": [
              "Text(0, 0.5, '$\\\\frac{\\\\phi_{EDL}}{k_{b}T}$')"
            ]
          },
          "metadata": {},
          "execution_count": 5
        },
        {
          "output_type": "display_data",
          "data": {
            "image/png": "[encoded data removed]",
            "text/plain": [
              "<Figure size 432x288 with 1 Axes>"
            ]
          },
          "metadata": {
            "needs_background": "light"
          }
        }
      ]
    },
    {
      "cell_type": "markdown",
      "metadata": {
        "id": "cQNDG0FKIGIb"
      },
      "source": [
        "## VdW Interaction potentials have a minimum at -inf as the separation between particle and substrate approaches 0. This is clearly non-physical. In real experiments (ignoring molecular complications of the continuum assumption breakdown), repulsive forces (solvation, steric hidrances from polymers layers) increase the interaction potential as a particle approceas the surface. To account for this, Lee .et *al* model short range repulsion (Pauli exclusion) from overlapping molecular orbitals via a Born Repulsion term with a potential shown below. It is based on a Hamaker type summation of the molecular expression of the Born repulsion following a distance dependency of h−12 for the sphere-plate geometry"
      ]
    },
    {
      "cell_type": "code",
      "metadata": {
        "colab": {
          "base_uri": "https://localhost:8080/",
          "height": 301
        },
        "id": "-LwG5CAiIGab",
        "outputId": "fa1ecf52-6d89-4bb7-802a-df491ae160d7"
      },
      "source": [
        "def calc_born_rep(h_min, h_max, A_vdw, sigma_collision, r_np_calc):\n",
        "  h_calc = np.linspace(h_min, h_max, 1000)*1E-9 # m\n",
        "  r_calc = r_np_calc*1E-9 # converts nm to m\n",
        "  sigma_calc = sigma_collision*1E-9 # converts nm to m\n",
        "  phi_born_calc = ((A_vdw*sigma_calc**6/7560)*\n",
        "                   ((8*r_calc + h_calc)/((2*r_calc + h_calc)**7) + (6*r_calc - h_calc)/(h_calc**7))\n",
        "                  )\n",
        "  return h_calc, phi_born_calc\n",
        "\n",
        "r_np = 10 # nm\n",
        "sep_min = 0.001 # nm\n",
        "sep_max = 1 # nm\n",
        "sigma_collision_plot = [0.3, 0.5, 0.7, 0.9] # nm\n",
        "kT = kb*T\n",
        "for i, value in enumerate(sigma_collision_plot):\n",
        "  h, phi_born = calc_born_rep(h_min=sep_min, h_max=sep_max, r_np_calc=r_np, A_vdw=A_eff, sigma_collision=value)\n",
        "  plt.plot(h*1E9, phi_born/kT, color =  plt.cm.Greys((1/len(sigma_collision_plot))*(i+1)), label = ('Collision Diameter = ' + str(value) + ' nm'))\n",
        "plt.legend(fontsize=12)\n",
        "plt.ylim([-10,10])\n",
        "# plt.title('EDL for 100 nm PS particle in NaCl')\n",
        "plt.xlabel('Separation Distance [nm]')\n",
        "plt.ylabel(r'$\\frac{\\phi_{Born}}{k_{b}T}$', fontsize=18)"
      ],
      "execution_count": 6,
      "outputs": [
        {
          "output_type": "execute_result",
          "data": {
            "text/plain": [
              "Text(0, 0.5, '$\\\\frac{\\\\phi_{Born}}{k_{b}T}$')"
            ]
          },
          "metadata": {},
          "execution_count": 6
        },
        {
          "output_type": "display_data",
          "data": {
            "image/png": "[encoded data removed]",
            "text/plain": [
              "<Figure size 432x288 with 1 Axes>"
            ]
          },
          "metadata": {
            "needs_background": "light"
          }
        }
      ]
    },
    {
      "cell_type": "markdown",
      "metadata": {
        "id": "frVCnlRcK7d8"
      },
      "source": [
        "# Interactively plot the competition between all of them, with option to change any parameters"
      ]
    },
    {
      "cell_type": "code",
      "metadata": {
        "colab": {
          "base_uri": "https://localhost:8080/",
          "height": 656,
          "referenced_widgets": [
            "def555603c77413c9d6c3031eba988ee",
            "3b5c60c7ba904bdd8b4f4277e55b265c",
            "4176ee42dc184fdb9bb6ec44da1c89b7",
            "5f7da1a607f64a08ac40926d2d000489",
            "ef3a5b9450f1407d997e08302f87386e",
            "7dacf3d32a4840f3a892867b9d5e712e",
            "e4094f199f214e3faa9b8f7195e83641",
            "086cc1db0de145c0b5ba4109f0e9138d",
            "5900726574ab4421bc65342a0241cf29",
            "51477f6b7f45400c82ca157cbb05ed34",
            "a2ae85e1655743d9a2d0c0e2f369cd6c",
            "0483426ea67546088af2abfc4583e37e",
            "bae56dd7ad60437fbe2da29b71dd5a2c",
            "c72a3ce16b0b44b5aeb7245569407403",
            "cbbc1a2859bb490cb32b44d51c977096",
            "d7f4184ffe4848fba7226ba529ed868f",
            "d41320953e6942d6b24c90d88e27bb4b",
            "6f0dea3addaf4dd7a205b6b6a5707103",
            "328004fb433341498d0a45737991d2d8",
            "b215f20e08cb49d29893374b444f479b",
            "a5c0d7d0f2f049afa2cad6f111710a29",
            "00faca0c38d44fdbb7d0424ebf1eb0ed",
            "e3072840a28e4d4f80d212250460d2ef",
            "58a29361d97e4567a1d0098e234d862c",
            "2ff85dfe417c47ac8e83c3543e0e22b3",
            "ca4dfde26fa046ba83a6e6aae0edf64f",
            "8803e8c08c304e458259e2f24175b3ff",
            "f7a2e61fdba44f7496bb30f05ec39938",
            "ce0fd40b61da4048a35856bf3b580ba6",
            "3d9bb18f80ea481c91803363c7841f78",
            "9a5143ebbfc54eb9bebc2030f3b3c250",
            "f9836cb8cde04295add32e937f24b1f7",
            "3f971b83fc4b420f9712e6c991a979c3",
            "425aefb3ab184ef386a6191acfe78e5e"
          ]
        },
        "id": "UEzZspI0G6E5",
        "outputId": "23b6d82c-a678-4b34-a834-ea98aa40022f"
      },
      "source": [
        "def interactive_potential(h_min_int,\n",
        "                          h_max_int,\n",
        "                          r_np_calc_int,\n",
        "                          A_vdw_int,\n",
        "                          psi_p_calc_int,\n",
        "                          psi_s_calc_int,\n",
        "                          c_s_bulk_calc_int,\n",
        "                          sigma_collision_int,\n",
        "                          y_plot_min_int,\n",
        "                          y_plot_max_int):\n",
        "  \n",
        "  h_vdw, phi_vdw = calc_vdw(h_min = h_min_int, \n",
        "                            h_max = h_max_int, \n",
        "                            r_np_calc = r_np_calc_int, \n",
        "                            A_vdw=A_vdw_int*1E-20, \n",
        "                            lambda_ion = lambda_char)\n",
        "\n",
        "  h_edl, phi_edl, debye_l = calc_edl(h_min=h_min_int,\n",
        "                            h_max=h_max_int,\n",
        "                            r_np_calc=r_np_calc_int, \n",
        "                            c_s_bulk_calc=c_s_bulk_calc_int, \n",
        "                            z_ion_calc=1, \n",
        "                            psi_p_calc=psi_p_calc_int, \n",
        "                            psi_s_calc=psi_s_calc_int)\n",
        "  \n",
        "  h_born, phi_born = calc_born_rep(h_min=h_min_int,\n",
        "                                   h_max=h_max_int, \n",
        "                                   A_vdw = A_vdw_int*1E-20, \n",
        "                                   sigma_collision=sigma_collision_int,\n",
        "                                   r_np_calc=r_np_calc_int)\n",
        "  \n",
        "  phi_total = phi_born + phi_edl + phi_vdw\n",
        "  # phi_total = phi_edl + phi_vdw\n",
        "\n",
        "  fig = plt.figure()\n",
        "  ax = fig.add_subplot(1, 1, 1)\n",
        "  ax.plot(h_vdw*1E9, phi_vdw/kT, 'k', linestyle='dotted', label='VdW')\n",
        "  ax.plot(h_vdw*1E9, phi_edl/kT, 'k', linestyle='dashed', label='EDL')\n",
        "  ax.plot(h_vdw*1E9, phi_born/kT, 'k', linestyle='dashdot', label='Born')\n",
        "  ax.plot(h_vdw*1E9, phi_total/kT, 'k', linestyle='solid', label='Total')\n",
        "  # ax.spines['bottom'].set_position('center')\n",
        "  ax.set_xlabel('Separation Distance (nm)')\n",
        "  ax.axhline(color='black', lw=1)\n",
        "  ax.set_ylabel(r'$\\frac{\\phi}{k_{b}T}$', fontsize=18)\n",
        "  ax.set_ylim([y_plot_min_int, y_plot_max_int])\n",
        "  ax.set_xlim([0,h_max_int])\n",
        "  plt.tight_layout()\n",
        "  plt.savefig('interaction_potential.svg')\n",
        "  ax.legend()\n",
        "\n",
        "  data_frame_for_saving = pd.DataFrame()\n",
        "  data_frame_for_saving['separation_distance (nm)'] = h_vdw*1E9\n",
        "  data_frame_for_saving['phi_vdw (kt)'] = phi_vdw/kT\n",
        "  data_frame_for_saving['phi_edl (kt)'] = phi_edl/kT\n",
        "  data_frame_for_saving['phi_born (kt)'] = phi_born/kT\n",
        "  data_frame_for_saving['phi_total (kt)'] = phi_total/kT\n",
        "  data_frame_for_saving.to_csv('energy_separation.csv', index=None)\n",
        "\n",
        "  params_df_for_saving_calcs = pd.DataFrame()\n",
        "  params_df_for_saving_calcs['Temperature'] = [T]\n",
        "  params_df_for_saving_calcs['r_np (nm)'] = [r_np_calc_int]\n",
        "  params_df_for_saving_calcs['hamaker_constant (1E-20 J)'] = [A_vdw_int]\n",
        "  params_df_for_saving_calcs['particle_zetap (mV)'] = [psi_p_calc_int]\n",
        "  params_df_for_saving_calcs['substrate_zetap (mV)'] = [psi_s_calc_int]\n",
        "  params_df_for_saving_calcs['salt_conc'] = [c_s_bulk_calc_int]\n",
        "  params_df_for_saving_calcs['debye_l (nm)'] = [debye_l]\n",
        "  params_df_for_saving_calcs['born_coll_diam (nm)'] = [sigma_collision_int]\n",
        "  params_df_for_saving_calcs.to_csv('params.csv', index=None)\n",
        "\n",
        "style = {'description_width': 'initial'}\n",
        "interactive_potential_plot = interactive(interactive_potential, \n",
        "                                         h_min_int= FloatText(value=0.001,min=0.001, description='Separation Range Minimum [nm]', continuous_update=True, style=style),\n",
        "                                         h_max_int= FloatText(value=15.0, description='Separation Range Maximum [nm]', continuous_update=True, style=style),\n",
        "                                         r_np_calc_int = FloatSlider(value = r_np, min=1.0, max=100.0, step=1, description='Particle Radius (nm)', continuous_update=True, style=style),\n",
        "                                         A_vdw_int = FloatSlider(value = 1.5, min=0.1, max=100, step=0.1, description='Hamaker Constant (10^-20 J)', continuous_update=True, style=style),\n",
        "                                         psi_p_calc_int = FloatSlider(value = psi_p, min=-100, max=100, step=1, description='Particle Potential (mV)', continuous_update=True, style=style),\n",
        "                                         psi_s_calc_int = FloatSlider(value = psi_s, min=-100, max=100, step=1, description='Substrate Potential (mV)', continuous_update=True, style=style),\n",
        "                                         c_s_bulk_calc_int = FloatSlider(value = 0.01, min=0, max=1.0, step=0.01, description='[NaCl](M)', continuous_update=True, style=style, readout_format='.5f'),\n",
        "                                         sigma_collision_int = FloatSlider(value = 0.5, min=0, max=2.0, step=0.1, description='Born Collision Diamete [nm]', continuous_update=True, style=style),\n",
        "                                         y_plot_min_int = FloatText(value=-10, description='Plot kT Range Minimum', continuous_update=True, style=style),\n",
        "                                         y_plot_max_int = FloatText(value=10, description='Plot kT Range Maximum', continuous_update=True, style=style)\n",
        "                                         )\n",
        "\n",
        "output = interactive_potential_plot.children[-1]\n",
        "interactive_potential_plot"
      ],
      "execution_count": 9,
      "outputs": [
        {
          "output_type": "display_data",
          "data": {
            "application/vnd.jupyter.widget-view+json": {
              "model_id": "def555603c77413c9d6c3031eba988ee",
              "version_minor": 0,
              "version_major": 2
            },
            "text/plain": [
              "interactive(children=(FloatText(value=0.001, continuous_update=True, description='Separation Range Minimum [nm…"
            ]
          },
          "metadata": {}
        }
      ]
    },
    {
      "cell_type": "code",
      "metadata": {
        "colab": {
          "base_uri": "https://localhost:8080/"
        },
        "id": "5_eBSYcYKJlU",
        "outputId": "5f501646-5c9b-45d4-b69b-6f0fc51ae006"
      },
      "source": [
        "interactive_potential_plot.close"
      ],
      "execution_count": 8,
      "outputs": [
        {
          "output_type": "execute_result",
          "data": {
            "text/plain": [
              "<bound method Widget.close of interactive(children=(FloatText(value=0.001, continuous_update=True, description='Separation Range Minimum [nm]', style=DescriptionStyle(description_width='initial')), FloatText(value=15.0, continuous_update=True, description='Separation Range Maximum [nm]', style=DescriptionStyle(description_width='initial')), FloatSlider(value=10.0, description='Particle Radius (nm)', min=1.0, step=1.0, style=SliderStyle(description_width='initial')), FloatSlider(value=1.5, description='Hamaker Constant (10^-20 J)', min=0.1, style=SliderStyle(description_width='initial')), FloatSlider(value=-25.0, description='Particle Potential (mV)', min=-100.0, step=1.0, style=SliderStyle(description_width='initial')), FloatSlider(value=-25.0, description='Substrate Potential (mV)', min=-100.0, step=1.0, style=SliderStyle(description_width='initial')), FloatSlider(value=0.01, description='[NaCl](M)', max=1.0, readout_format='.5f', step=0.01, style=SliderStyle(description_width='initial')), FloatSlider(value=0.5, description='Born Collision Diamete [nm]', max=2.0, style=SliderStyle(description_width='initial')), FloatText(value=-10.0, continuous_update=True, description='Plot kT Range Minimum', style=DescriptionStyle(description_width='initial')), FloatText(value=10.0, continuous_update=True, description='Plot kT Range Maximum', style=DescriptionStyle(description_width='initial')), Output()), _dom_classes=('widget-interact',))>"
            ]
          },
          "metadata": {},
          "execution_count": 8
        }
      ]
    },
    {
      "cell_type": "code",
      "metadata": {
        "id": "TXL10I0VKrgL"
      },
      "source": [
        ""
      ],
      "execution_count": null,
      "outputs": []
    }
  ]
}