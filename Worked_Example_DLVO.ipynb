{
  "nbformat": 4,
  "nbformat_minor": 0,
  "metadata": {
    "colab": {
      "name": "Worked_Example_DLVO.ipynb",
      "provenance": [],
      "collapsed_sections": [],
      "toc_visible": true,
      "authorship_tag": "ABX9TyOBsk5kNiilcccGXUlBNaRl",
      "include_colab_link": true
    },
    "kernelspec": {
      "name": "python3",
      "display_name": "Python 3"
    },
    "widgets": {
      "application/vnd.jupyter.widget-state+json": {
        "1123fd38d1f048d1a545b61d15aa270b": {
          "model_module": "@jupyter-widgets/controls",
          "model_name": "VBoxModel",
          "state": {
            "_view_name": "VBoxView",
            "_dom_classes": [
              "widget-interact"
            ],
            "_model_name": "VBoxModel",
            "_view_module": "@jupyter-widgets/controls",
            "_model_module_version": "1.5.0",
            "_view_count": null,
            "_view_module_version": "1.5.0",
            "box_style": "",
            "layout": "IPY_MODEL_5c1c7c054f8f48fa9c84d13796fa1fb7",
            "_model_module": "@jupyter-widgets/controls",
            "children": [
              "IPY_MODEL_3f1f18f45d814fb49874a039625916ab",
              "IPY_MODEL_dd95475bae4f45e5988473d3973149f8",
              "IPY_MODEL_53eda00cf69a48209cc58b4bfaf278a5",
              "IPY_MODEL_09d05ab0579e47d4ad54039f5351608f",
              "IPY_MODEL_7968c65ef2dc4df7a2e64f76edd2ea4b",
              "IPY_MODEL_cefdb3a7a01847a587db6cba5f5741a3",
              "IPY_MODEL_546ad6487a804636a473f9cbd2abfbb3",
              "IPY_MODEL_36884971f91b4a409027d047c0c6837e",
              "IPY_MODEL_3eb5b080a1554c1fbbebb43a11af5a9d",
              "IPY_MODEL_fd56fead0f2b4328afac961ad82fef9c",
              "IPY_MODEL_9bc874c303c4410882692629a204e4c8"
            ]
          }
        },
        "5c1c7c054f8f48fa9c84d13796fa1fb7": {
          "model_module": "@jupyter-widgets/base",
          "model_name": "LayoutModel",
          "state": {
            "_view_name": "LayoutView",
            "grid_template_rows": null,
            "right": null,
            "justify_content": null,
            "_view_module": "@jupyter-widgets/base",
            "overflow": null,
            "_model_module_version": "1.2.0",
            "_view_count": null,
            "flex_flow": null,
            "width": null,
            "min_width": null,
            "border": null,
            "align_items": null,
            "bottom": null,
            "_model_module": "@jupyter-widgets/base",
            "top": null,
            "grid_column": null,
            "overflow_y": null,
            "overflow_x": null,
            "grid_auto_flow": null,
            "grid_area": null,
            "grid_template_columns": null,
            "flex": null,
            "_model_name": "LayoutModel",
            "justify_items": null,
            "grid_row": null,
            "max_height": null,
            "align_content": null,
            "visibility": null,
            "align_self": null,
            "height": null,
            "min_height": null,
            "padding": null,
            "grid_auto_rows": null,
            "grid_gap": null,
            "max_width": null,
            "order": null,
            "_view_module_version": "1.2.0",
            "grid_template_areas": null,
            "object_position": null,
            "object_fit": null,
            "grid_auto_columns": null,
            "margin": null,
            "display": null,
            "left": null
          }
        },
        "3f1f18f45d814fb49874a039625916ab": {
          "model_module": "@jupyter-widgets/controls",
          "model_name": "FloatTextModel",
          "state": {
            "_view_name": "FloatTextView",
            "style": "IPY_MODEL_ef9ad3ff5f8d48e49c970b614ee314ed",
            "_dom_classes": [],
            "description": "Separation Range Minimum [nm]",
            "_model_name": "FloatTextModel",
            "_view_module": "@jupyter-widgets/controls",
            "_model_module_version": "1.5.0",
            "value": 0.001,
            "_view_count": null,
            "disabled": false,
            "_view_module_version": "1.5.0",
            "continuous_update": true,
            "step": null,
            "description_tooltip": null,
            "_model_module": "@jupyter-widgets/controls",
            "layout": "IPY_MODEL_c2655be8b2564e6da5ec238a84fee41b"
          }
        },
        "dd95475bae4f45e5988473d3973149f8": {
          "model_module": "@jupyter-widgets/controls",
          "model_name": "FloatTextModel",
          "state": {
            "_view_name": "FloatTextView",
            "style": "IPY_MODEL_3d8426db5c1e487c9449a8a99dec81a0",
            "_dom_classes": [],
            "description": "Separation Range Maximum [nm]",
            "_model_name": "FloatTextModel",
            "_view_module": "@jupyter-widgets/controls",
            "_model_module_version": "1.5.0",
            "value": 15,
            "_view_count": null,
            "disabled": false,
            "_view_module_version": "1.5.0",
            "continuous_update": true,
            "step": null,
            "description_tooltip": null,
            "_model_module": "@jupyter-widgets/controls",
            "layout": "IPY_MODEL_2778d9930323497d82fe2869873fd99a"
          }
        },
        "53eda00cf69a48209cc58b4bfaf278a5": {
          "model_module": "@jupyter-widgets/controls",
          "model_name": "FloatSliderModel",
          "state": {
            "_view_name": "FloatSliderView",
            "style": "IPY_MODEL_5829405f58ef478f9b9bb249bdb32b21",
            "_dom_classes": [],
            "description": "Particle Radius (nm)",
            "step": 1,
            "_model_name": "FloatSliderModel",
            "orientation": "horizontal",
            "max": 100,
            "_view_module": "@jupyter-widgets/controls",
            "_model_module_version": "1.5.0",
            "value": 10,
            "_view_count": null,
            "disabled": false,
            "_view_module_version": "1.5.0",
            "min": 1,
            "continuous_update": true,
            "readout_format": ".2f",
            "description_tooltip": null,
            "readout": true,
            "_model_module": "@jupyter-widgets/controls",
            "layout": "IPY_MODEL_aa3e2546e5f54fe59c43772c58788c3f"
          }
        },
        "09d05ab0579e47d4ad54039f5351608f": {
          "model_module": "@jupyter-widgets/controls",
          "model_name": "FloatSliderModel",
          "state": {
            "_view_name": "FloatSliderView",
            "style": "IPY_MODEL_938daca8fa1147bba8207b72570073ae",
            "_dom_classes": [],
            "description": "Hamaker Constant (10^-20 J)",
            "step": 0.1,
            "_model_name": "FloatSliderModel",
            "orientation": "horizontal",
            "max": 100,
            "_view_module": "@jupyter-widgets/controls",
            "_model_module_version": "1.5.0",
            "value": 1.5,
            "_view_count": null,
            "disabled": false,
            "_view_module_version": "1.5.0",
            "min": 0.1,
            "continuous_update": true,
            "readout_format": ".2f",
            "description_tooltip": null,
            "readout": true,
            "_model_module": "@jupyter-widgets/controls",
            "layout": "IPY_MODEL_3059fb8d5077417f8bda1f663e790979"
          }
        },
        "7968c65ef2dc4df7a2e64f76edd2ea4b": {
          "model_module": "@jupyter-widgets/controls",
          "model_name": "FloatSliderModel",
          "state": {
            "_view_name": "FloatSliderView",
            "style": "IPY_MODEL_070dce698e4748b596feccda3c546ddf",
            "_dom_classes": [],
            "description": "Particle Potential (mV)",
            "step": 1,
            "_model_name": "FloatSliderModel",
            "orientation": "horizontal",
            "max": 100,
            "_view_module": "@jupyter-widgets/controls",
            "_model_module_version": "1.5.0",
            "value": -25,
            "_view_count": null,
            "disabled": false,
            "_view_module_version": "1.5.0",
            "min": -100,
            "continuous_update": true,
            "readout_format": ".2f",
            "description_tooltip": null,
            "readout": true,
            "_model_module": "@jupyter-widgets/controls",
            "layout": "IPY_MODEL_93a6202e7c9249b2a0067cb80974c5a5"
          }
        },
        "cefdb3a7a01847a587db6cba5f5741a3": {
          "model_module": "@jupyter-widgets/controls",
          "model_name": "FloatSliderModel",
          "state": {
            "_view_name": "FloatSliderView",
            "style": "IPY_MODEL_f373fdab0ce44c989c451d2449b7ac51",
            "_dom_classes": [],
            "description": "Substrate Potential (mV)",
            "step": 1,
            "_model_name": "FloatSliderModel",
            "orientation": "horizontal",
            "max": 100,
            "_view_module": "@jupyter-widgets/controls",
            "_model_module_version": "1.5.0",
            "value": -25,
            "_view_count": null,
            "disabled": false,
            "_view_module_version": "1.5.0",
            "min": -100,
            "continuous_update": true,
            "readout_format": ".2f",
            "description_tooltip": null,
            "readout": true,
            "_model_module": "@jupyter-widgets/controls",
            "layout": "IPY_MODEL_fbce38aab03c4ac68b09a901b1a0ffe7"
          }
        },
        "546ad6487a804636a473f9cbd2abfbb3": {
          "model_module": "@jupyter-widgets/controls",
          "model_name": "FloatSliderModel",
          "state": {
            "_view_name": "FloatSliderView",
            "style": "IPY_MODEL_667df843eaa64bf082b03d05b55d2755",
            "_dom_classes": [],
            "description": "[NaCl](M)",
            "step": 0.01,
            "_model_name": "FloatSliderModel",
            "orientation": "horizontal",
            "max": 1,
            "_view_module": "@jupyter-widgets/controls",
            "_model_module_version": "1.5.0",
            "value": 0.01,
            "_view_count": null,
            "disabled": false,
            "_view_module_version": "1.5.0",
            "min": 0,
            "continuous_update": true,
            "readout_format": ".5f",
            "description_tooltip": null,
            "readout": true,
            "_model_module": "@jupyter-widgets/controls",
            "layout": "IPY_MODEL_506229ee8abd421ba62b594b4457e1ae"
          }
        },
        "36884971f91b4a409027d047c0c6837e": {
          "model_module": "@jupyter-widgets/controls",
          "model_name": "FloatSliderModel",
          "state": {
            "_view_name": "FloatSliderView",
            "style": "IPY_MODEL_31afb57ffd944875b8bd8c779ae31051",
            "_dom_classes": [],
            "description": "Born Collision Diamete [nm]",
            "step": 0.1,
            "_model_name": "FloatSliderModel",
            "orientation": "horizontal",
            "max": 2,
            "_view_module": "@jupyter-widgets/controls",
            "_model_module_version": "1.5.0",
            "value": 0.5,
            "_view_count": null,
            "disabled": false,
            "_view_module_version": "1.5.0",
            "min": 0,
            "continuous_update": true,
            "readout_format": ".2f",
            "description_tooltip": null,
            "readout": true,
            "_model_module": "@jupyter-widgets/controls",
            "layout": "IPY_MODEL_3d980cf70e9d4393a1a734790d5eb8bd"
          }
        },
        "3eb5b080a1554c1fbbebb43a11af5a9d": {
          "model_module": "@jupyter-widgets/controls",
          "model_name": "FloatTextModel",
          "state": {
            "_view_name": "FloatTextView",
            "style": "IPY_MODEL_32b6b752c48b4bf18ff3365cbf45581a",
            "_dom_classes": [],
            "description": "Plot kT Range Minimum",
            "_model_name": "FloatTextModel",
            "_view_module": "@jupyter-widgets/controls",
            "_model_module_version": "1.5.0",
            "value": -10,
            "_view_count": null,
            "disabled": false,
            "_view_module_version": "1.5.0",
            "continuous_update": true,
            "step": null,
            "description_tooltip": null,
            "_model_module": "@jupyter-widgets/controls",
            "layout": "IPY_MODEL_326e3e43081a45308790efb0b180a3da"
          }
        },
        "fd56fead0f2b4328afac961ad82fef9c": {
          "model_module": "@jupyter-widgets/controls",
          "model_name": "FloatTextModel",
          "state": {
            "_view_name": "FloatTextView",
            "style": "IPY_MODEL_b046eafbbc58412482071a06c6aebb38",
            "_dom_classes": [],
            "description": "Plot kT Range Maximum",
            "_model_name": "FloatTextModel",
            "_view_module": "@jupyter-widgets/controls",
            "_model_module_version": "1.5.0",
            "value": 10,
            "_view_count": null,
            "disabled": false,
            "_view_module_version": "1.5.0",
            "continuous_update": true,
            "step": null,
            "description_tooltip": null,
            "_model_module": "@jupyter-widgets/controls",
            "layout": "IPY_MODEL_8e0afc569f3146b89398280db3dfea9a"
          }
        },
        "9bc874c303c4410882692629a204e4c8": {
          "model_module": "@jupyter-widgets/output",
          "model_name": "OutputModel",
          "state": {
            "_view_name": "OutputView",
            "msg_id": "",
            "_dom_classes": [],
            "_model_name": "OutputModel",
            "outputs": [
              {
                "output_type": "stream",
                "metadata": {
                  "tags": []
                },
                "text": "Debye Length for [NaCl]=0.01 M is 3.0393892787498658 nm\nk*r_np is 3.2901346562994753\n",
                "stream": "stdout"
              },
              {
                "output_type": "display_data",
                "metadata": {
                  "tags": [],
                  "needs_background": "light"
                },
                "image/png": "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\n",
                "text/plain": "<Figure size 432x288 with 1 Axes>"
              }
            ],
            "_view_module": "@jupyter-widgets/output",
            "_model_module_version": "1.0.0",
            "_view_count": null,
            "_view_module_version": "1.0.0",
            "layout": "IPY_MODEL_e5e418f7868d4846972e4956ebcbdc2a",
            "_model_module": "@jupyter-widgets/output"
          }
        },
        "ef9ad3ff5f8d48e49c970b614ee314ed": {
          "model_module": "@jupyter-widgets/controls",
          "model_name": "DescriptionStyleModel",
          "state": {
            "_view_name": "StyleView",
            "_model_name": "DescriptionStyleModel",
            "description_width": "initial",
            "_view_module": "@jupyter-widgets/base",
            "_model_module_version": "1.5.0",
            "_view_count": null,
            "_view_module_version": "1.2.0",
            "_model_module": "@jupyter-widgets/controls"
          }
        },
        "c2655be8b2564e6da5ec238a84fee41b": {
          "model_module": "@jupyter-widgets/base",
          "model_name": "LayoutModel",
          "state": {
            "_view_name": "LayoutView",
            "grid_template_rows": null,
            "right": null,
            "justify_content": null,
            "_view_module": "@jupyter-widgets/base",
            "overflow": null,
            "_model_module_version": "1.2.0",
            "_view_count": null,
            "flex_flow": null,
            "width": null,
            "min_width": null,
            "border": null,
            "align_items": null,
            "bottom": null,
            "_model_module": "@jupyter-widgets/base",
            "top": null,
            "grid_column": null,
            "overflow_y": null,
            "overflow_x": null,
            "grid_auto_flow": null,
            "grid_area": null,
            "grid_template_columns": null,
            "flex": null,
            "_model_name": "LayoutModel",
            "justify_items": null,
            "grid_row": null,
            "max_height": null,
            "align_content": null,
            "visibility": null,
            "align_self": null,
            "height": null,
            "min_height": null,
            "padding": null,
            "grid_auto_rows": null,
            "grid_gap": null,
            "max_width": null,
            "order": null,
            "_view_module_version": "1.2.0",
            "grid_template_areas": null,
            "object_position": null,
            "object_fit": null,
            "grid_auto_columns": null,
            "margin": null,
            "display": null,
            "left": null
          }
        },
        "3d8426db5c1e487c9449a8a99dec81a0": {
          "model_module": "@jupyter-widgets/controls",
          "model_name": "DescriptionStyleModel",
          "state": {
            "_view_name": "StyleView",
            "_model_name": "DescriptionStyleModel",
            "description_width": "initial",
            "_view_module": "@jupyter-widgets/base",
            "_model_module_version": "1.5.0",
            "_view_count": null,
            "_view_module_version": "1.2.0",
            "_model_module": "@jupyter-widgets/controls"
          }
        },
        "2778d9930323497d82fe2869873fd99a": {
          "model_module": "@jupyter-widgets/base",
          "model_name": "LayoutModel",
          "state": {
            "_view_name": "LayoutView",
            "grid_template_rows": null,
            "right": null,
            "justify_content": null,
            "_view_module": "@jupyter-widgets/base",
            "overflow": null,
            "_model_module_version": "1.2.0",
            "_view_count": null,
            "flex_flow": null,
            "width": null,
            "min_width": null,
            "border": null,
            "align_items": null,
            "bottom": null,
            "_model_module": "@jupyter-widgets/base",
            "top": null,
            "grid_column": null,
            "overflow_y": null,
            "overflow_x": null,
            "grid_auto_flow": null,
            "grid_area": null,
            "grid_template_columns": null,
            "flex": null,
            "_model_name": "LayoutModel",
            "justify_items": null,
            "grid_row": null,
            "max_height": null,
            "align_content": null,
            "visibility": null,
            "align_self": null,
            "height": null,
            "min_height": null,
            "padding": null,
            "grid_auto_rows": null,
            "grid_gap": null,
            "max_width": null,
            "order": null,
            "_view_module_version": "1.2.0",
            "grid_template_areas": null,
            "object_position": null,
            "object_fit": null,
            "grid_auto_columns": null,
            "margin": null,
            "display": null,
            "left": null
          }
        },
        "5829405f58ef478f9b9bb249bdb32b21": {
          "model_module": "@jupyter-widgets/controls",
          "model_name": "SliderStyleModel",
          "state": {
            "_view_name": "StyleView",
            "handle_color": null,
            "_model_name": "SliderStyleModel",
            "description_width": "initial",
            "_view_module": "@jupyter-widgets/base",
            "_model_module_version": "1.5.0",
            "_view_count": null,
            "_view_module_version": "1.2.0",
            "_model_module": "@jupyter-widgets/controls"
          }
        },
        "aa3e2546e5f54fe59c43772c58788c3f": {
          "model_module": "@jupyter-widgets/base",
          "model_name": "LayoutModel",
          "state": {
            "_view_name": "LayoutView",
            "grid_template_rows": null,
            "right": null,
            "justify_content": null,
            "_view_module": "@jupyter-widgets/base",
            "overflow": null,
            "_model_module_version": "1.2.0",
            "_view_count": null,
            "flex_flow": null,
            "width": null,
            "min_width": null,
            "border": null,
            "align_items": null,
            "bottom": null,
            "_model_module": "@jupyter-widgets/base",
            "top": null,
            "grid_column": null,
            "overflow_y": null,
            "overflow_x": null,
            "grid_auto_flow": null,
            "grid_area": null,
            "grid_template_columns": null,
            "flex": null,
            "_model_name": "LayoutModel",
            "justify_items": null,
            "grid_row": null,
            "max_height": null,
            "align_content": null,
            "visibility": null,
            "align_self": null,
            "height": null,
            "min_height": null,
            "padding": null,
            "grid_auto_rows": null,
            "grid_gap": null,
            "max_width": null,
            "order": null,
            "_view_module_version": "1.2.0",
            "grid_template_areas": null,
            "object_position": null,
            "object_fit": null,
            "grid_auto_columns": null,
            "margin": null,
            "display": null,
            "left": null
          }
        },
        "938daca8fa1147bba8207b72570073ae": {
          "model_module": "@jupyter-widgets/controls",
          "model_name": "SliderStyleModel",
          "state": {
            "_view_name": "StyleView",
            "handle_color": null,
            "_model_name": "SliderStyleModel",
            "description_width": "initial",
            "_view_module": "@jupyter-widgets/base",
            "_model_module_version": "1.5.0",
            "_view_count": null,
            "_view_module_version": "1.2.0",
            "_model_module": "@jupyter-widgets/controls"
          }
        },
        "3059fb8d5077417f8bda1f663e790979": {
          "model_module": "@jupyter-widgets/base",
          "model_name": "LayoutModel",
          "state": {
            "_view_name": "LayoutView",
            "grid_template_rows": null,
            "right": null,
            "justify_content": null,
            "_view_module": "@jupyter-widgets/base",
            "overflow": null,
            "_model_module_version": "1.2.0",
            "_view_count": null,
            "flex_flow": null,
            "width": null,
            "min_width": null,
            "border": null,
            "align_items": null,
            "bottom": null,
            "_model_module": "@jupyter-widgets/base",
            "top": null,
            "grid_column": null,
            "overflow_y": null,
            "overflow_x": null,
            "grid_auto_flow": null,
            "grid_area": null,
            "grid_template_columns": null,
            "flex": null,
            "_model_name": "LayoutModel",
            "justify_items": null,
            "grid_row": null,
            "max_height": null,
            "align_content": null,
            "visibility": null,
            "align_self": null,
            "height": null,
            "min_height": null,
            "padding": null,
            "grid_auto_rows": null,
            "grid_gap": null,
            "max_width": null,
            "order": null,
            "_view_module_version": "1.2.0",
            "grid_template_areas": null,
            "object_position": null,
            "object_fit": null,
            "grid_auto_columns": null,
            "margin": null,
            "display": null,
            "left": null
          }
        },
        "070dce698e4748b596feccda3c546ddf": {
          "model_module": "@jupyter-widgets/controls",
          "model_name": "SliderStyleModel",
          "state": {
            "_view_name": "StyleView",
            "handle_color": null,
            "_model_name": "SliderStyleModel",
            "description_width": "initial",
            "_view_module": "@jupyter-widgets/base",
            "_model_module_version": "1.5.0",
            "_view_count": null,
            "_view_module_version": "1.2.0",
            "_model_module": "@jupyter-widgets/controls"
          }
        },
        "93a6202e7c9249b2a0067cb80974c5a5": {
          "model_module": "@jupyter-widgets/base",
          "model_name": "LayoutModel",
          "state": {
            "_view_name": "LayoutView",
            "grid_template_rows": null,
            "right": null,
            "justify_content": null,
            "_view_module": "@jupyter-widgets/base",
            "overflow": null,
            "_model_module_version": "1.2.0",
            "_view_count": null,
            "flex_flow": null,
            "width": null,
            "min_width": null,
            "border": null,
            "align_items": null,
            "bottom": null,
            "_model_module": "@jupyter-widgets/base",
            "top": null,
            "grid_column": null,
            "overflow_y": null,
            "overflow_x": null,
            "grid_auto_flow": null,
            "grid_area": null,
            "grid_template_columns": null,
            "flex": null,
            "_model_name": "LayoutModel",
            "justify_items": null,
            "grid_row": null,
            "max_height": null,
            "align_content": null,
            "visibility": null,
            "align_self": null,
            "height": null,
            "min_height": null,
            "padding": null,
            "grid_auto_rows": null,
            "grid_gap": null,
            "max_width": null,
            "order": null,
            "_view_module_version": "1.2.0",
            "grid_template_areas": null,
            "object_position": null,
            "object_fit": null,
            "grid_auto_columns": null,
            "margin": null,
            "display": null,
            "left": null
          }
        },
        "f373fdab0ce44c989c451d2449b7ac51": {
          "model_module": "@jupyter-widgets/controls",
          "model_name": "SliderStyleModel",
          "state": {
            "_view_name": "StyleView",
            "handle_color": null,
            "_model_name": "SliderStyleModel",
            "description_width": "initial",
            "_view_module": "@jupyter-widgets/base",
            "_model_module_version": "1.5.0",
            "_view_count": null,
            "_view_module_version": "1.2.0",
            "_model_module": "@jupyter-widgets/controls"
          }
        },
        "fbce38aab03c4ac68b09a901b1a0ffe7": {
          "model_module": "@jupyter-widgets/base",
          "model_name": "LayoutModel",
          "state": {
            "_view_name": "LayoutView",
            "grid_template_rows": null,
            "right": null,
            "justify_content": null,
            "_view_module": "@jupyter-widgets/base",
            "overflow": null,
            "_model_module_version": "1.2.0",
            "_view_count": null,
            "flex_flow": null,
            "width": null,
            "min_width": null,
            "border": null,
            "align_items": null,
            "bottom": null,
            "_model_module": "@jupyter-widgets/base",
            "top": null,
            "grid_column": null,
            "overflow_y": null,
            "overflow_x": null,
            "grid_auto_flow": null,
            "grid_area": null,
            "grid_template_columns": null,
            "flex": null,
            "_model_name": "LayoutModel",
            "justify_items": null,
            "grid_row": null,
            "max_height": null,
            "align_content": null,
            "visibility": null,
            "align_self": null,
            "height": null,
            "min_height": null,
            "padding": null,
            "grid_auto_rows": null,
            "grid_gap": null,
            "max_width": null,
            "order": null,
            "_view_module_version": "1.2.0",
            "grid_template_areas": null,
            "object_position": null,
            "object_fit": null,
            "grid_auto_columns": null,
            "margin": null,
            "display": null,
            "left": null
          }
        },
        "667df843eaa64bf082b03d05b55d2755": {
          "model_module": "@jupyter-widgets/controls",
          "model_name": "SliderStyleModel",
          "state": {
            "_view_name": "StyleView",
            "handle_color": null,
            "_model_name": "SliderStyleModel",
            "description_width": "initial",
            "_view_module": "@jupyter-widgets/base",
            "_model_module_version": "1.5.0",
            "_view_count": null,
            "_view_module_version": "1.2.0",
            "_model_module": "@jupyter-widgets/controls"
          }
        },
        "506229ee8abd421ba62b594b4457e1ae": {
          "model_module": "@jupyter-widgets/base",
          "model_name": "LayoutModel",
          "state": {
            "_view_name": "LayoutView",
            "grid_template_rows": null,
            "right": null,
            "justify_content": null,
            "_view_module": "@jupyter-widgets/base",
            "overflow": null,
            "_model_module_version": "1.2.0",
            "_view_count": null,
            "flex_flow": null,
            "width": null,
            "min_width": null,
            "border": null,
            "align_items": null,
            "bottom": null,
            "_model_module": "@jupyter-widgets/base",
            "top": null,
            "grid_column": null,
            "overflow_y": null,
            "overflow_x": null,
            "grid_auto_flow": null,
            "grid_area": null,
            "grid_template_columns": null,
            "flex": null,
            "_model_name": "LayoutModel",
            "justify_items": null,
            "grid_row": null,
            "max_height": null,
            "align_content": null,
            "visibility": null,
            "align_self": null,
            "height": null,
            "min_height": null,
            "padding": null,
            "grid_auto_rows": null,
            "grid_gap": null,
            "max_width": null,
            "order": null,
            "_view_module_version": "1.2.0",
            "grid_template_areas": null,
            "object_position": null,
            "object_fit": null,
            "grid_auto_columns": null,
            "margin": null,
            "display": null,
            "left": null
          }
        },
        "31afb57ffd944875b8bd8c779ae31051": {
          "model_module": "@jupyter-widgets/controls",
          "model_name": "SliderStyleModel",
          "state": {
            "_view_name": "StyleView",
            "handle_color": null,
            "_model_name": "SliderStyleModel",
            "description_width": "initial",
            "_view_module": "@jupyter-widgets/base",
            "_model_module_version": "1.5.0",
            "_view_count": null,
            "_view_module_version": "1.2.0",
            "_model_module": "@jupyter-widgets/controls"
          }
        },
        "3d980cf70e9d4393a1a734790d5eb8bd": {
          "model_module": "@jupyter-widgets/base",
          "model_name": "LayoutModel",
          "state": {
            "_view_name": "LayoutView",
            "grid_template_rows": null,
            "right": null,
            "justify_content": null,
            "_view_module": "@jupyter-widgets/base",
            "overflow": null,
            "_model_module_version": "1.2.0",
            "_view_count": null,
            "flex_flow": null,
            "width": null,
            "min_width": null,
            "border": null,
            "align_items": null,
            "bottom": null,
            "_model_module": "@jupyter-widgets/base",
            "top": null,
            "grid_column": null,
            "overflow_y": null,
            "overflow_x": null,
            "grid_auto_flow": null,
            "grid_area": null,
            "grid_template_columns": null,
            "flex": null,
            "_model_name": "LayoutModel",
            "justify_items": null,
            "grid_row": null,
            "max_height": null,
            "align_content": null,
            "visibility": null,
            "align_self": null,
            "height": null,
            "min_height": null,
            "padding": null,
            "grid_auto_rows": null,
            "grid_gap": null,
            "max_width": null,
            "order": null,
            "_view_module_version": "1.2.0",
            "grid_template_areas": null,
            "object_position": null,
            "object_fit": null,
            "grid_auto_columns": null,
            "margin": null,
            "display": null,
            "left": null
          }
        },
        "32b6b752c48b4bf18ff3365cbf45581a": {
          "model_module": "@jupyter-widgets/controls",
          "model_name": "DescriptionStyleModel",
          "state": {
            "_view_name": "StyleView",
            "_model_name": "DescriptionStyleModel",
            "description_width": "initial",
            "_view_module": "@jupyter-widgets/base",
            "_model_module_version": "1.5.0",
            "_view_count": null,
            "_view_module_version": "1.2.0",
            "_model_module": "@jupyter-widgets/controls"
          }
        },
        "326e3e43081a45308790efb0b180a3da": {
          "model_module": "@jupyter-widgets/base",
          "model_name": "LayoutModel",
          "state": {
            "_view_name": "LayoutView",
            "grid_template_rows": null,
            "right": null,
            "justify_content": null,
            "_view_module": "@jupyter-widgets/base",
            "overflow": null,
            "_model_module_version": "1.2.0",
            "_view_count": null,
            "flex_flow": null,
            "width": null,
            "min_width": null,
            "border": null,
            "align_items": null,
            "bottom": null,
            "_model_module": "@jupyter-widgets/base",
            "top": null,
            "grid_column": null,
            "overflow_y": null,
            "overflow_x": null,
            "grid_auto_flow": null,
            "grid_area": null,
            "grid_template_columns": null,
            "flex": null,
            "_model_name": "LayoutModel",
            "justify_items": null,
            "grid_row": null,
            "max_height": null,
            "align_content": null,
            "visibility": null,
            "align_self": null,
            "height": null,
            "min_height": null,
            "padding": null,
            "grid_auto_rows": null,
            "grid_gap": null,
            "max_width": null,
            "order": null,
            "_view_module_version": "1.2.0",
            "grid_template_areas": null,
            "object_position": null,
            "object_fit": null,
            "grid_auto_columns": null,
            "margin": null,
            "display": null,
            "left": null
          }
        },
        "b046eafbbc58412482071a06c6aebb38": {
          "model_module": "@jupyter-widgets/controls",
          "model_name": "DescriptionStyleModel",
          "state": {
            "_view_name": "StyleView",
            "_model_name": "DescriptionStyleModel",
            "description_width": "initial",
            "_view_module": "@jupyter-widgets/base",
            "_model_module_version": "1.5.0",
            "_view_count": null,
            "_view_module_version": "1.2.0",
            "_model_module": "@jupyter-widgets/controls"
          }
        },
        "8e0afc569f3146b89398280db3dfea9a": {
          "model_module": "@jupyter-widgets/base",
          "model_name": "LayoutModel",
          "state": {
            "_view_name": "LayoutView",
            "grid_template_rows": null,
            "right": null,
            "justify_content": null,
            "_view_module": "@jupyter-widgets/base",
            "overflow": null,
            "_model_module_version": "1.2.0",
            "_view_count": null,
            "flex_flow": null,
            "width": null,
            "min_width": null,
            "border": null,
            "align_items": null,
            "bottom": null,
            "_model_module": "@jupyter-widgets/base",
            "top": null,
            "grid_column": null,
            "overflow_y": null,
            "overflow_x": null,
            "grid_auto_flow": null,
            "grid_area": null,
            "grid_template_columns": null,
            "flex": null,
            "_model_name": "LayoutModel",
            "justify_items": null,
            "grid_row": null,
            "max_height": null,
            "align_content": null,
            "visibility": null,
            "align_self": null,
            "height": null,
            "min_height": null,
            "padding": null,
            "grid_auto_rows": null,
            "grid_gap": null,
            "max_width": null,
            "order": null,
            "_view_module_version": "1.2.0",
            "grid_template_areas": null,
            "object_position": null,
            "object_fit": null,
            "grid_auto_columns": null,
            "margin": null,
            "display": null,
            "left": null
          }
        },
        "e5e418f7868d4846972e4956ebcbdc2a": {
          "model_module": "@jupyter-widgets/base",
          "model_name": "LayoutModel",
          "state": {
            "_view_name": "LayoutView",
            "grid_template_rows": null,
            "right": null,
            "justify_content": null,
            "_view_module": "@jupyter-widgets/base",
            "overflow": null,
            "_model_module_version": "1.2.0",
            "_view_count": null,
            "flex_flow": null,
            "width": null,
            "min_width": null,
            "border": null,
            "align_items": null,
            "bottom": null,
            "_model_module": "@jupyter-widgets/base",
            "top": null,
            "grid_column": null,
            "overflow_y": null,
            "overflow_x": null,
            "grid_auto_flow": null,
            "grid_area": null,
            "grid_template_columns": null,
            "flex": null,
            "_model_name": "LayoutModel",
            "justify_items": null,
            "grid_row": null,
            "max_height": null,
            "align_content": null,
            "visibility": null,
            "align_self": null,
            "height": null,
            "min_height": null,
            "padding": null,
            "grid_auto_rows": null,
            "grid_gap": null,
            "max_width": null,
            "order": null,
            "_view_module_version": "1.2.0",
            "grid_template_areas": null,
            "object_position": null,
            "object_fit": null,
            "grid_auto_columns": null,
            "margin": null,
            "display": null,
            "left": null
          }
        }
      }
    }
  },
  "cells": [
    {
      "cell_type": "markdown",
      "metadata": {
        "id": "view-in-github",
        "colab_type": "text"
      },
      "source": [
        "<a href=\"https://colab.research.google.com/github/mikeboyle321/Macromolecular_Engineering_Nanoparticle_Transport/blob/main/Worked_Example_DLVO.ipynb\" target=\"_parent\"><img src=\"https://colab.research.google.com/assets/colab-badge.svg\" alt=\"Open In Colab\"/></a>"
      ]
    },
    {
      "cell_type": "markdown",
      "metadata": {
        "id": "dA5hpQmWu_37"
      },
      "source": [
        "# Extended DLVO - colloid interactions with a substrate in electrolyte solutions.\r\n",
        "\r\n",
        "This notebook walks through the analysis of a PS Nanoparticle Interacting with a silica substrate as a function of distance from the substrate using an extended DLVO model adapted from \r\n",
        "\r\n",
        "Handol Lee, Doris Segets, Sebastian Süß, Wolfgang Peukert, Sheng-Chieh Chen, David Y.H. Pui,\r\n",
        "Liquid filtration of nanoparticles through track-etched membrane filters under unfavorable and different ionic strength conditions: Experiments and modeling,\r\n",
        "Journal of Membrane Science,\r\n",
        "Volume 524,\r\n",
        "2017,\r\n",
        "Pages 682-690,\r\n",
        "ISSN 0376-7388,\r\n",
        "https://doi.org/10.1016/j.memsci.2016.11.023.\r\n",
        "(https://www.sciencedirect.com/science/article/pii/S0376738816312352)\r\n"
      ]
    },
    {
      "cell_type": "code",
      "metadata": {
        "id": "9Uerd1r3rDtd"
      },
      "source": [
        "# Import key python packages\r\n",
        "import numpy as np\r\n",
        "import pandas as pd\r\n",
        "import matplotlib.pyplot as plt\r\n",
        "from matplotlib import cm, rc\r\n",
        "from ipywidgets import interactive, IntSlider, RadioButtons, FloatText, IntText, FloatSlider\r\n",
        "# set font size for plots globally\r\n",
        "plt.rcParams.update({'font.size': 14})"
      ],
      "execution_count": 1,
      "outputs": []
    },
    {
      "cell_type": "markdown",
      "metadata": {
        "id": "GxvJxSJlv8tO"
      },
      "source": [
        "## First we need to define some key constants"
      ]
    },
    {
      "cell_type": "code",
      "metadata": {
        "id": "1LvnoiD9v1W3"
      },
      "source": [
        "kb = 1.38064852E-23 # J/K, boltzmann constant\r\n",
        "lambda_char = 100*1E-9 # m, 100 nm characteristic retardation wavelength ~ ionization wavelength\r\n",
        "e_0 = 8.85418782E-12 # F/m\r\n",
        "e_r = 78.4 # relative permittivity of water\r\n",
        "e_coulomb = 1.602176634E-19 # C \r\n",
        "T = 298 # K\r\n",
        "Na = 6.022E23 #/mol, Avogadro"
      ],
      "execution_count": 2,
      "outputs": []
    },
    {
      "cell_type": "markdown",
      "metadata": {
        "id": "CeQxNTfRuyT6"
      },
      "source": [
        "## Plot the VdW interaction potential for varying separation particle sizes\r\n",
        "* Van der Waals interaction constants from Israelachvili, J.N., Intermolecular and Surface Forces, Third Edition 2011\r\n"
      ]
    },
    {
      "cell_type": "code",
      "metadata": {
        "colab": {
          "base_uri": "https://localhost:8080/",
          "height": 338
        },
        "id": "6lZ8bZ1CkML3",
        "outputId": "953cf6ae-150d-4f59-dde8-089f08be9013"
      },
      "source": [
        "# Define a function for calcuating VdW forces\r\n",
        "def calc_vdw(h_min, h_max, r_np_calc, A_vdw, lambda_ion):\r\n",
        "  h_calc = np.linspace(h_min, h_max, 1000)*1E-9 # m\r\n",
        "  r_calc = r_np_calc*1E-9 # converts nm to m\r\n",
        "  phi_vdw_calc = (-A_vdw*r_calc*(1 + 14*h_calc/lambda_ion)**(-1))/(6*h_calc) # J\r\n",
        "  return h_calc, phi_vdw_calc # returns m, J\r\n",
        "\r\n",
        "# Use combination rule to estimate Hamaker Constant, A_eff\r\n",
        "A_ps = np.mean([6.6E-20, 7.9E-20])  # J\r\n",
        "A_h2o = np.mean([3.7E-20, 5.5E-20]) # J\r\n",
        "A_sio2 = np.mean([5E-20, 6E-20]) # J\r\n",
        "A_eff = (np.sqrt(A_ps) - np.sqrt(A_h2o))*(np.sqrt(A_sio2) - np.sqrt(A_h2o)) # J\r\n",
        "print(f'A_eff = {A_eff} J')\r\n",
        "\r\n",
        "# define constants\r\n",
        "r_np = [1,10,100, 1000] #test  differnt parictle diameters, nm\r\n",
        "sep_min = 0.001 # nm\r\n",
        "sep_max = 10 # nm\r\n",
        "kT = kb*T\r\n",
        "for i, value in enumerate(r_np):\r\n",
        "  h, phi_vdw = calc_vdw(h_min = sep_min, h_max = sep_max, r_np_calc = value, A_vdw=A_eff, lambda_ion = lambda_char)\r\n",
        "  plt.plot(h*1E9, phi_vdw/kT, color =  plt.cm.Greys((1/len(r_np))*(i+1)), label = ('Particle Radius = ' + str(value) + ' nm'))\r\n",
        "  plt.legend()\r\n",
        "plt.ylim([-10,10])\r\n",
        "plt.xlabel('Separation Distance [nm]')\r\n",
        "plt.ylabel(r'$\\frac{\\phi_{VdW}}{k_{b}T}$', fontsize=18)"
      ],
      "execution_count": 3,
      "outputs": [
        {
          "output_type": "stream",
          "text": [
            "A_eff = 1.0980904698146341e-21 J\n"
          ],
          "name": "stdout"
        },
        {
          "output_type": "execute_result",
          "data": {
            "text/plain": [
              "Text(0, 0.5, '$\\\\frac{\\\\phi_{VdW}}{k_{b}T}$')"
            ]
          },
          "metadata": {
            "tags": []
          },
          "execution_count": 3
        },
        {
          "output_type": "stream",
          "text": [
            "findfont: Font family ['serif'] not found. Falling back to DejaVu Sans.\n",
            "findfont: Font family ['serif'] not found. Falling back to DejaVu Sans.\n"
          ],
          "name": "stderr"
        },
        {
          "output_type": "display_data",
          "data": {
            "image/png": "[encoded data removed]",
            "text/plain": [
              "<Figure size 432x288 with 1 Axes>"
            ]
          },
          "metadata": {
            "tags": [],
            "needs_background": "light"
          }
        }
      ]
    },
    {
      "cell_type": "markdown",
      "metadata": {
        "id": "BtQnYHvuOSmI"
      },
      "source": [
        "# Plot the Electric Double Layer ion concentration profile for varying salt concentration"
      ]
    },
    {
      "cell_type": "code",
      "metadata": {
        "colab": {
          "base_uri": "https://localhost:8080/",
          "height": 448
        },
        "id": "6xO5EVM1Oix6",
        "outputId": "01d446c0-42ce-4978-f2d7-e6fd208b6bae"
      },
      "source": [
        "# Define a function for calcuating EDL forces\r\n",
        "def calc_edl(h_min, h_max, r_np_calc, c_s_bulk_calc, z_ion_calc, psi_p_calc, psi_s_calc):\r\n",
        "  psi_p_calc = psi_p_calc*1E-3 # converts mV to volts\r\n",
        "  psi_s_calc = psi_s_calc*1E-3 # converts mV to volts\r\n",
        "  h_calc = np.linspace(h_min, h_max, 1000)*1E-9 # m\r\n",
        "  r_calc = r_np_calc*1E-9 # converts nm to m\r\n",
        "  debye_param_calc = np.sqrt(2*(1000*c_s_bulk_calc*Na*e_coulomb**2*z_ion_calc**2)/(e_0*e_r*kb*T)) # m^-1\r\n",
        "  # From Lee et. al\r\n",
        "  # phi_edl_calc = (((64*np.pi*e_r*e_0)/debye_param_calc)*\r\n",
        "  #                 (kb*T/(z_ion_calc*e_coulomb))**2*\r\n",
        "  #                 np.tanh(z_ion_calc*e_coulomb*psi_s_calc/(4*kb*T))*\r\n",
        "  #                 np.tanh(z_ion_calc*e_coulomb*psi_p_calc/(4*kb*T))*\r\n",
        "  #                 ((debye_param_calc*r_calc - 1)*np.exp(-debye_param_calc*h_calc) + (debye_param_calc*r_calc + 1)*np.exp(-debye_param_calc*(h_calc+2*r_calc)))\r\n",
        "  #                 )\r\n",
        "  # from Adsorption and Desorption of Particles and Their Chromatographic Separation, Ruckenstein, Eli Prieve, Dennis C., AIChE Journal 1976\r\n",
        "  # phi_edl_calc = (16*e_r*e_0*(kb*T/e_coulomb)**2*\r\n",
        "  #                 r_calc*\r\n",
        "  #                 np.tanh(z_ion_calc*e_coulomb*psi_s_calc/(4*kb*T))*\r\n",
        "  #                 np.tanh(z_ion_calc*e_coulomb*psi_p_calc/(4*kb*T))*\r\n",
        "  #                 np.exp(-debye_param_calc*h_calc)\r\n",
        "  #                )\r\n",
        "  # from Intermolecular and Surface Forces, Israelachvili\r\n",
        "  phi_edl_calc = (r_calc*\r\n",
        "                  ((64*np.pi*e_r*e_0))*\r\n",
        "                  (kb*T/(z_ion_calc*e_coulomb))**2*\r\n",
        "                  np.tanh(z_ion_calc*e_coulomb*psi_s_calc/(4*kb*T))*\r\n",
        "                  np.tanh(z_ion_calc*e_coulomb*psi_p_calc/(4*kb*T))*\r\n",
        "                  np.exp(-debye_param_calc*h_calc)\r\n",
        "                  )\r\n",
        "  print(f'Debye Length for [NaCl]={c_s_bulk_calc} M is {1/debye_param_calc*1E9} nm')\r\n",
        "  print(f'k*r_np is {debye_param_calc*r_calc}')\r\n",
        "  return h_calc, phi_edl_calc # returns m, J\r\n",
        "\r\n",
        "r_np = 50 # nm\r\n",
        "psi_s = -25# mV\r\n",
        "psi_p = -25 # mV\r\n",
        "z = 1 # salt valency - 1 for monovalent salt like NaCl\r\n",
        "c_salt = [0.001, 0.01, 0.1, 1] # concentration of salt in the bulk soltuion in mol/L\r\n",
        "kT = kb*T\r\n",
        "# define constants\r\n",
        "sep_min = 0.001 # nm\r\n",
        "sep_max = 50 # nm\r\n",
        "kT = kb*T\r\n",
        "for i, value in enumerate(c_salt):\r\n",
        "  h, phi_edl = calc_edl(h_min=sep_min, h_max=sep_max, r_np_calc=r_np, c_s_bulk_calc=value, z_ion_calc=z, psi_p_calc=psi_p, psi_s_calc=psi_s)\r\n",
        "  plt.plot(h*1E9, phi_edl/kT, color =  plt.cm.Greys((1/len(c_salt))*(i+1)), label = ('Salt Concentration = ' + str(value) + ' M'))\r\n",
        "plt.legend(fontsize=12)\r\n",
        "plt.ylim([-100,100])\r\n",
        "# plt.title('EDL for 100 nm PS particle in NaCl')\r\n",
        "plt.xlabel('Separation Distance [nm]')\r\n",
        "plt.ylabel(r'$\\frac{\\phi_{EDL}}{k_{b}T}$', fontsize=18)"
      ],
      "execution_count": 9,
      "outputs": [
        {
          "output_type": "stream",
          "text": [
            "Debye Length for [NaCl]=0.001 M is 9.611392816745983 nm\n",
            "k*r_np is 5.2021596612808\n",
            "Debye Length for [NaCl]=0.01 M is 3.0393892787498658 nm\n",
            "k*r_np is 16.45067328149738\n",
            "Debye Length for [NaCl]=0.1 M is 0.9611392816745984 nm\n",
            "k*r_np is 52.021596612808004\n",
            "Debye Length for [NaCl]=1 M is 0.30393892787498655 nm\n",
            "k*r_np is 164.5067328149738\n"
          ],
          "name": "stdout"
        },
        {
          "output_type": "execute_result",
          "data": {
            "text/plain": [
              "Text(0, 0.5, '$\\\\frac{\\\\phi_{EDL}}{k_{b}T}$')"
            ]
          },
          "metadata": {
            "tags": []
          },
          "execution_count": 9
        },
        {
          "output_type": "display_data",
          "data": {
            "image/png": "[encoded data removed]",
            "text/plain": [
              "<Figure size 432x288 with 1 Axes>"
            ]
          },
          "metadata": {
            "tags": [],
            "needs_background": "light"
          }
        }
      ]
    },
    {
      "cell_type": "markdown",
      "metadata": {
        "id": "cQNDG0FKIGIb"
      },
      "source": [
        "## VdW Interaction potentials have a minimum at -inf as the separation between particle and substrate approaches 0. This is clearly non-physical. In real experiments (ignoring molecular complications of the continuum assumption breakdown), repulsive forces (solvation, steric hidrances from polymers layers) increase the interaction potential as a particle approceas the surface. To account for this, Lee .et *al* model short range repulsion (Pauli exclusion) from overlapping molecular orbitals via a Born Repulsion term with a potential shown below. It is based on a Hamaker type summation of the molecular expression of the Born repulsion following a distance dependency of h−12 for the sphere-plate geometry"
      ]
    },
    {
      "cell_type": "code",
      "metadata": {
        "colab": {
          "base_uri": "https://localhost:8080/",
          "height": 301
        },
        "id": "-LwG5CAiIGab",
        "outputId": "b89c8152-fbc7-493d-9d1a-bc998fc14f12"
      },
      "source": [
        "def calc_born_rep(h_min, h_max, A_vdw, sigma_collision, r_np_calc):\r\n",
        "  h_calc = np.linspace(h_min, h_max, 1000)*1E-9 # m\r\n",
        "  r_calc = r_np_calc*1E-9 # converts nm to m\r\n",
        "  sigma_calc = sigma_collision*1E-9 # converts nm to m\r\n",
        "  phi_born_calc = ((A_vdw*sigma_calc**6/7560)*\r\n",
        "                   ((8*r_calc + h_calc)/((2*r_calc + h_calc)**7) + (6*r_calc - h_calc)/(h_calc**7))\r\n",
        "                  )\r\n",
        "  return h_calc, phi_born_calc\r\n",
        "\r\n",
        "r_np = 10 # nm\r\n",
        "sep_min = 0.001 # nm\r\n",
        "sep_max = 1 # nm\r\n",
        "sigma_collision_plot = [0.3, 0.5, 0.7, 0.9] # nm\r\n",
        "kT = kb*T\r\n",
        "for i, value in enumerate(sigma_collision_plot):\r\n",
        "  h, phi_born = calc_born_rep(h_min=sep_min, h_max=sep_max, r_np_calc=r_np, A_vdw=A_eff, sigma_collision=value)\r\n",
        "  plt.plot(h*1E9, phi_born/kT, color =  plt.cm.Greys((1/len(sigma_collision_plot))*(i+1)), label = ('Collision Diameter = ' + str(value) + ' nm'))\r\n",
        "plt.legend(fontsize=12)\r\n",
        "plt.ylim([-10,10])\r\n",
        "# plt.title('EDL for 100 nm PS particle in NaCl')\r\n",
        "plt.xlabel('Separation Distance [nm]')\r\n",
        "plt.ylabel(r'$\\frac{\\phi_{Born}}{k_{b}T}$', fontsize=18)"
      ],
      "execution_count": 5,
      "outputs": [
        {
          "output_type": "execute_result",
          "data": {
            "text/plain": [
              "Text(0, 0.5, '$\\\\frac{\\\\phi_{Born}}{k_{b}T}$')"
            ]
          },
          "metadata": {
            "tags": []
          },
          "execution_count": 5
        },
        {
          "output_type": "display_data",
          "data": {
            "image/png": "[encoded data removed]",
            "text/plain": [
              "<Figure size 432x288 with 1 Axes>"
            ]
          },
          "metadata": {
            "tags": [],
            "needs_background": "light"
          }
        }
      ]
    },
    {
      "cell_type": "markdown",
      "metadata": {
        "id": "frVCnlRcK7d8"
      },
      "source": [
        "# Interactively plot the competition between all of them, with option to change any parameters"
      ]
    },
    {
      "cell_type": "code",
      "metadata": {
        "colab": {
          "base_uri": "https://localhost:8080/",
          "height": 657,
          "referenced_widgets": [
            "1123fd38d1f048d1a545b61d15aa270b",
            "5c1c7c054f8f48fa9c84d13796fa1fb7",
            "3f1f18f45d814fb49874a039625916ab",
            "dd95475bae4f45e5988473d3973149f8",
            "53eda00cf69a48209cc58b4bfaf278a5",
            "09d05ab0579e47d4ad54039f5351608f",
            "7968c65ef2dc4df7a2e64f76edd2ea4b",
            "cefdb3a7a01847a587db6cba5f5741a3",
            "546ad6487a804636a473f9cbd2abfbb3",
            "36884971f91b4a409027d047c0c6837e",
            "3eb5b080a1554c1fbbebb43a11af5a9d",
            "fd56fead0f2b4328afac961ad82fef9c",
            "9bc874c303c4410882692629a204e4c8",
            "ef9ad3ff5f8d48e49c970b614ee314ed",
            "c2655be8b2564e6da5ec238a84fee41b",
            "3d8426db5c1e487c9449a8a99dec81a0",
            "2778d9930323497d82fe2869873fd99a",
            "5829405f58ef478f9b9bb249bdb32b21",
            "aa3e2546e5f54fe59c43772c58788c3f",
            "938daca8fa1147bba8207b72570073ae",
            "3059fb8d5077417f8bda1f663e790979",
            "070dce698e4748b596feccda3c546ddf",
            "93a6202e7c9249b2a0067cb80974c5a5",
            "f373fdab0ce44c989c451d2449b7ac51",
            "fbce38aab03c4ac68b09a901b1a0ffe7",
            "667df843eaa64bf082b03d05b55d2755",
            "506229ee8abd421ba62b594b4457e1ae",
            "31afb57ffd944875b8bd8c779ae31051",
            "3d980cf70e9d4393a1a734790d5eb8bd",
            "32b6b752c48b4bf18ff3365cbf45581a",
            "326e3e43081a45308790efb0b180a3da",
            "b046eafbbc58412482071a06c6aebb38",
            "8e0afc569f3146b89398280db3dfea9a",
            "e5e418f7868d4846972e4956ebcbdc2a"
          ]
        },
        "id": "UEzZspI0G6E5",
        "outputId": "cdea69df-c36f-44fe-8677-13edd557d734"
      },
      "source": [
        "def interactive_potential(h_min_int,\r\n",
        "                          h_max_int,\r\n",
        "                          r_np_calc_int,\r\n",
        "                          A_vdw_int,\r\n",
        "                          psi_p_calc_int,\r\n",
        "                          psi_s_calc_int,\r\n",
        "                          c_s_bulk_calc_int,\r\n",
        "                          sigma_collision_int,\r\n",
        "                          y_plot_min_int,\r\n",
        "                          y_plot_max_int):\r\n",
        "  \r\n",
        "  h_vdw, phi_vdw = calc_vdw(h_min = h_min_int, \r\n",
        "                            h_max = h_max_int, \r\n",
        "                            r_np_calc = r_np_calc_int, \r\n",
        "                            A_vdw=A_vdw_int*1E-20, \r\n",
        "                            lambda_ion = lambda_char)\r\n",
        "\r\n",
        "  h_edl, phi_edl = calc_edl(h_min=h_min_int,\r\n",
        "                            h_max=h_max_int,\r\n",
        "                            r_np_calc=r_np_calc_int, \r\n",
        "                            c_s_bulk_calc=c_s_bulk_calc_int, \r\n",
        "                            z_ion_calc=1, \r\n",
        "                            psi_p_calc=psi_p_calc_int, \r\n",
        "                            psi_s_calc=psi_s_calc_int)\r\n",
        "  \r\n",
        "  h_born, phi_born = calc_born_rep(h_min=h_min_int,\r\n",
        "                                   h_max=h_max_int, \r\n",
        "                                   A_vdw = A_vdw_int*1E-20, \r\n",
        "                                   sigma_collision=sigma_collision_int,\r\n",
        "                                   r_np_calc=r_np_calc_int)\r\n",
        "  \r\n",
        "  phi_total = phi_born + phi_edl + phi_vdw\r\n",
        "  # phi_total = phi_edl + phi_vdw\r\n",
        "\r\n",
        "  fig = plt.figure()\r\n",
        "  ax = fig.add_subplot(1, 1, 1)\r\n",
        "  # ax.plot(h_vdw*1E9, phi_vdw/kT, 'k', linestyle='dotted', label='VdW')\r\n",
        "  # ax.plot(h_vdw*1E9, phi_edl/kT, 'k', linestyle='dashed', label='EDL')\r\n",
        "  # ax.plot(h_vdw*1E9, phi_born/kT, 'k', linestyle='dashdot', label='Born')\r\n",
        "  ax.plot(h_vdw*1E9, phi_total/kT, 'k', linestyle='solid', label='Total')\r\n",
        "  # ax.spines['bottom'].set_position('center')\r\n",
        "  ax.set_xlabel('Separation Distance (nm)')\r\n",
        "  ax.axhline(color='black', lw=1)\r\n",
        "  ax.set_ylabel(r'$\\frac{\\phi}{k_{b}T}$', fontsize=18)\r\n",
        "  ax.set_ylim([y_plot_min_int, y_plot_max_int])\r\n",
        "  ax.set_xlim([0,h_max_int])\r\n",
        "  plt.tight_layout()\r\n",
        "  plt.savefig('interaction_potential.svg')\r\n",
        "  # ax.legend()\r\n",
        "style = {'description_width': 'initial'}\r\n",
        "interactive_potential_plot = interactive(interactive_potential, \r\n",
        "                                         h_min_int= FloatText(value=0.001,min=0.001, description='Separation Range Minimum [nm]', continuous_update=True, style=style),\r\n",
        "                                         h_max_int= FloatText(value=15.0, description='Separation Range Maximum [nm]', continuous_update=True, style=style),\r\n",
        "                                         r_np_calc_int = FloatSlider(value = r_np, min=1.0, max=100.0, step=1, description='Particle Radius (nm)', continuous_update=True, style=style),\r\n",
        "                                         A_vdw_int = FloatSlider(value = 1.5, min=0.1, max=100, step=0.1, description='Hamaker Constant (10^-20 J)', continuous_update=True, style=style),\r\n",
        "                                         psi_p_calc_int = FloatSlider(value = psi_p, min=-100, max=100, step=1, description='Particle Potential (mV)', continuous_update=True, style=style),\r\n",
        "                                         psi_s_calc_int = FloatSlider(value = psi_s, min=-100, max=100, step=1, description='Substrate Potential (mV)', continuous_update=True, style=style),\r\n",
        "                                         c_s_bulk_calc_int = FloatSlider(value = 0.01, min=0, max=1.0, step=0.01, description='[NaCl](M)', continuous_update=True, style=style, readout_format='.5f'),\r\n",
        "                                         sigma_collision_int = FloatSlider(value = 0.5, min=0, max=2.0, step=0.1, description='Born Collision Diamete [nm]', continuous_update=True, style=style),\r\n",
        "                                         y_plot_min_int = FloatText(value=-10, description='Plot kT Range Minimum', continuous_update=True, style=style),\r\n",
        "                                         y_plot_max_int = FloatText(value=10, description='Plot kT Range Maximum', continuous_update=True, style=style)\r\n",
        "                                         )\r\n",
        "\r\n",
        "output = interactive_potential_plot.children[-1]\r\n",
        "interactive_potential_plot"
      ],
      "execution_count": 24,
      "outputs": [
        {
          "output_type": "display_data",
          "data": {
            "application/vnd.jupyter.widget-view+json": {
              "model_id": "1123fd38d1f048d1a545b61d15aa270b",
              "version_minor": 0,
              "version_major": 2
            },
            "text/plain": [
              "interactive(children=(FloatText(value=0.001, continuous_update=True, description='Separation Range Minimum [nm…"
            ]
          },
          "metadata": {
            "tags": []
          }
        }
      ]
    },
    {
      "cell_type": "code",
      "metadata": {
        "colab": {
          "base_uri": "https://localhost:8080/"
        },
        "id": "5_eBSYcYKJlU",
        "outputId": "1e6d1741-2aa0-42ea-c5d1-03d57213a7dc"
      },
      "source": [
        "interactive_potential_plot.close"
      ],
      "execution_count": 7,
      "outputs": [
        {
          "output_type": "execute_result",
          "data": {
            "text/plain": [
              "<bound method Widget.close of interactive(children=(FloatText(value=0.001, continuous_update=True, description='Separation Range Minimum [nm]', style=DescriptionStyle(description_width='initial')), FloatText(value=10.0, continuous_update=True, description='Separation Range Maximum [nm]', style=DescriptionStyle(description_width='initial')), FloatSlider(value=10.0, description='Particle Radius (nm)', min=1.0, step=1.0, style=SliderStyle(description_width='initial')), FloatSlider(value=0.1, description='Hamaker Constant (10^-20 J)', min=0.1, style=SliderStyle(description_width='initial')), FloatSlider(value=-25.0, description='Particle Potential (mV)', min=-100.0, step=1.0, style=SliderStyle(description_width='initial')), FloatSlider(value=-25.0, description='Substrate Potential (mV)', min=-100.0, step=1.0, style=SliderStyle(description_width='initial')), FloatSlider(value=0.01, description='[NaCl](M)', max=1.0, readout_format='.5f', step=0.01, style=SliderStyle(description_width='initial')), FloatSlider(value=0.5, description='Born Collision Diamete [nm]', max=2.0, style=SliderStyle(description_width='initial')), FloatText(value=-10.0, continuous_update=True, description='Plot kT Range Minimum', style=DescriptionStyle(description_width='initial')), FloatText(value=10.0, continuous_update=True, description='Plot kT Range Maximum', style=DescriptionStyle(description_width='initial')), Output()), _dom_classes=('widget-interact',))>"
            ]
          },
          "metadata": {
            "tags": []
          },
          "execution_count": 7
        }
      ]
    },
    {
      "cell_type": "code",
      "metadata": {
        "id": "TXL10I0VKrgL"
      },
      "source": [
        ""
      ],
      "execution_count": 7,
      "outputs": []
    }
  ]
}