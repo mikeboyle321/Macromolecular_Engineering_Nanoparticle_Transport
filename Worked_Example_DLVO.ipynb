{
  "nbformat": 4,
  "nbformat_minor": 0,
  "metadata": {
    "colab": {
      "name": "Worked_Example_DLVO.ipynb",
      "provenance": [],
      "collapsed_sections": [],
      "authorship_tag": "ABX9TyP59iTOMOkTSBixiMdHb+KS",
      "include_colab_link": true
    },
    "kernelspec": {
      "name": "python3",
      "display_name": "Python 3"
    }
  },
  "cells": [
    {
      "cell_type": "markdown",
      "metadata": {
        "id": "view-in-github",
        "colab_type": "text"
      },
      "source": [
        "<a href=\"https://colab.research.google.com/github/mikeboyle321/Macromolecular_Engineering_Nanoparticle_Transport/blob/main/Worked_Example_DLVO.ipynb\" target=\"_parent\"><img src=\"https://colab.research.google.com/assets/colab-badge.svg\" alt=\"Open In Colab\"/></a>"
      ]
    },
    {
      "cell_type": "markdown",
      "metadata": {
        "id": "dA5hpQmWu_37"
      },
      "source": [
        "# Extended DLVO - colloid interactions with a substrate in electrolyte solutions.\r\n",
        "\r\n",
        "This notebook walks through the analysis of a PS Nanoparticle Interacting with a silica substrate as a function of distance from the substrate using an extended DLVO model adapted from \r\n",
        "\r\n",
        "Handol Lee, Doris Segets, Sebastian Süß, Wolfgang Peukert, Sheng-Chieh Chen, David Y.H. Pui,\r\n",
        "Liquid filtration of nanoparticles through track-etched membrane filters under unfavorable and different ionic strength conditions: Experiments and modeling,\r\n",
        "Journal of Membrane Science,\r\n",
        "Volume 524,\r\n",
        "2017,\r\n",
        "Pages 682-690,\r\n",
        "ISSN 0376-7388,\r\n",
        "https://doi.org/10.1016/j.memsci.2016.11.023.\r\n",
        "(https://www.sciencedirect.com/science/article/pii/S0376738816312352)\r\n"
      ]
    },
    {
      "cell_type": "code",
      "metadata": {
        "id": "9Uerd1r3rDtd"
      },
      "source": [
        "# Import key python packages\r\n",
        "import numpy as np\r\n",
        "import pandas as pd\r\n",
        "import matplotlib.pyplot as plt\r\n",
        "from ipywidgets import interactive, IntSlider, RadioButtons, FloatText, IntText\r\n",
        "# set font size for plots globally\r\n",
        "plt.rcParams.update({'font.size': 14})"
      ],
      "execution_count": 54,
      "outputs": []
    },
    {
      "cell_type": "markdown",
      "metadata": {
        "id": "GxvJxSJlv8tO"
      },
      "source": [
        "## First we need to define some key constants"
      ]
    },
    {
      "cell_type": "code",
      "metadata": {
        "id": "1LvnoiD9v1W3"
      },
      "source": [
        "kb = 1.38064852E-23 # J/K, boltzmann constant\r\n",
        "lambda_char = 100*1E-9 # m, 100 nm characteristic retardation wavelength ~ ionization wavelength\r\n",
        "e_0 = 8.85418782E-12 # F/m\r\n",
        "e_r = 78.4 # relative permittivity of water\r\n",
        "e_coulomb = 1.602176634 # C \r\n",
        "T = 298 # K\r\n",
        "Na = 6.022E23 #/mol, Avogadro"
      ],
      "execution_count": 77,
      "outputs": []
    },
    {
      "cell_type": "markdown",
      "metadata": {
        "id": "CeQxNTfRuyT6"
      },
      "source": [
        "## Plot the VdW interaction potential for varying separation particle sizes\r\n",
        "* Van der Waals interaction constants from Israelachvili, J.N., Intermolecular and Surface Forces, Third Edition 2011\r\n"
      ]
    },
    {
      "cell_type": "code",
      "metadata": {
        "colab": {
          "base_uri": "https://localhost:8080/",
          "height": 330
        },
        "id": "6lZ8bZ1CkML3",
        "outputId": "b8a47f96-e1b2-4e38-8ef2-a9726801e82a"
      },
      "source": [
        "# Use combination \r\n",
        "A_ps = np.mean([6.6E-20, 7.9E-20])  # J\r\n",
        "A_h2o = np.mean([3.7E-20, 5.5E-20]) # J\r\n",
        "A_sio2 = np.mean([5E-20, 6E-20]) # J\r\n",
        "A_eff = (np.sqrt(A_ps) - np.sqrt(A_h2o))*(np.sqrt(A_sio2) - np.sqrt(A_h2o)) # J\r\n",
        "print(f'A_eff = {A_eff} J')\r\n",
        "\r\n",
        "# define constants\r\n",
        "r_np = [1,10,100, 1000] # differnt parictle diameters,  nm\r\n",
        "h = np.linspace(0.001, 10, 1000)*1E-9 # separation distance range in m\r\n",
        "kT = kb*T\r\n",
        "for i in r_np:\r\n",
        "  r_nm = i*1E-9\r\n",
        "  phi_vdw = (-A_eff*r_nm*(1 + 14*h/lambda_char)**(-1))/(6*h)\r\n",
        "  plt.plot(h*1E9, phi_vdw/kT, label = ('Particle Radius = ' + str(i) + ' nm'))\r\n",
        "  plt.legend()\r\n",
        "plt.ylim([-10,10])\r\n",
        "plt.xlabel('Separation Distance [nm]')\r\n",
        "plt.ylabel(r'$\\frac{\\phi_{VdW}}{k_{b}T}$', fontsize=18)"
      ],
      "execution_count": 80,
      "outputs": [
        {
          "output_type": "stream",
          "text": [
            "A_eff = 1.0980904698146341e-21 J\n"
          ],
          "name": "stdout"
        },
        {
          "output_type": "execute_result",
          "data": {
            "text/plain": [
              "Text(0, 0.5, '$\\\\frac{\\\\phi_{VdW}}{k_{b}T}$')"
            ]
          },
          "metadata": {
            "tags": []
          },
          "execution_count": 80
        },
        {
          "output_type": "display_data",
          "data": {
            "image/png": "[encoded data removed]",
            "text/plain": [
              "<Figure size 432x288 with 1 Axes>"
            ]
          },
          "metadata": {
            "tags": [],
            "needs_background": "light"
          }
        }
      ]
    },
    {
      "cell_type": "markdown",
      "metadata": {
        "id": "BtQnYHvuOSmI"
      },
      "source": [
        "# Plot the Electric Double Layer ion concentration profile for varying salt concentration"
      ]
    },
    {
      "cell_type": "code",
      "metadata": {
        "id": "6xO5EVM1Oix6"
      },
      "source": [
        "r_np = 100 # nm\r\n",
        "psi_s = -50 # mV\r\n",
        "psi_p = -50 # mV\r\n",
        "z = 1 # salt valency - 1 for monovalent salt like NaCl\r\n",
        "c_salt = [0.001, 0.01, 0.1, 1] # concentration of salt in the bulk soltuion in mol/L\r\n",
        "h = np.linspace(0.001, 10, 1000)*1E-9 # separation distance range in m\r\n",
        "kT = kb*T\r\n",
        "for i in c_salt:\r\n",
        "  kappa = np.sqrt((i*e))\r\n",
        "  plt.plot(h*1E9, kappa, label = ('Particle Radius = ' + str(i) + ' nm'))\r\n",
        "  plt.legend()\r\n",
        "plt.ylim([-10,10])\r\n",
        "plt.xlabel('Separation Distance [nm]')\r\n",
        "plt.ylabel(r'$\\frac{\\phi_{VdW}}{k_{b}T}$', fontsize=18)\r\n",
        "k_debye = np.sqrt(())"
      ],
      "execution_count": null,
      "outputs": []
    },
    {
      "cell_type": "markdown",
      "metadata": {
        "id": "frVCnlRcK7d8"
      },
      "source": [
        "# Interactively plot the competition between all of them, with option to change any parameters"
      ]
    },
    {
      "cell_type": "code",
      "metadata": {
        "id": "UEzZspI0G6E5"
      },
      "source": [
        "# define constants\r\n",
        "a = [1,10,100] # differnt parictle diameters,  nm\r\n",
        "h = np.linspace(0.001, 10) # separation distance range in nm\r\n",
        "kT = kb*T\r\n",
        "for i in a:\r\n",
        "  phi_vdw = (-A_eff*i*(1 + 14*h/lambda_char)**(-1))/(6*h)\r\n",
        "  plt.plot(h, phi_vdw/kT, label = ('Particle Radius = ' + str(i) + ' nm'))\r\n",
        "  plt.legend()\r\n",
        "plt.ylim([-3,3])\r\n",
        "plt.xlabel('Separation Distance [nm]')\r\n",
        "plt.ylabel(r'$\\frac{\\phi_{VdW}}{k_{b}T}$')"
      ],
      "execution_count": null,
      "outputs": []
    }
  ]
}