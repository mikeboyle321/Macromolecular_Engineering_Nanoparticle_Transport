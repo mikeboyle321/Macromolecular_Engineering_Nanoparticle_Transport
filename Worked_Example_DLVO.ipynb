{
  "nbformat": 4,
  "nbformat_minor": 0,
  "metadata": {
    "colab": {
      "name": "Worked_Example_DLVO.ipynb",
      "provenance": [],
      "collapsed_sections": [],
      "authorship_tag": "ABX9TyPDziedauP+oTpUjTwJ8WbD",
      "include_colab_link": true
    },
    "kernelspec": {
      "name": "python3",
      "display_name": "Python 3"
    }
  },
  "cells": [
    {
      "cell_type": "markdown",
      "metadata": {
        "id": "view-in-github",
        "colab_type": "text"
      },
      "source": [
        "<a href=\"https://colab.research.google.com/github/mikeboyle321/Macromolecular_Engineering_Nanoparticle_Transport/blob/main/Worked_Example_DLVO.ipynb\" target=\"_parent\"><img src=\"https://colab.research.google.com/assets/colab-badge.svg\" alt=\"Open In Colab\"/></a>"
      ]
    },
    {
      "cell_type": "markdown",
      "metadata": {
        "id": "dA5hpQmWu_37"
      },
      "source": [
        "# Extended DLVO - colloid interactions with a substrate in electrolyte solutions.\r\n",
        "\r\n",
        "This notebook walks through the analysis of a PS Nanoparticle Interacting with a silica substrate as a function of distance from the substrate using an extended DLVO model adapted from \r\n",
        "\r\n",
        "Handol Lee, Doris Segets, Sebastian Süß, Wolfgang Peukert, Sheng-Chieh Chen, David Y.H. Pui,\r\n",
        "Liquid filtration of nanoparticles through track-etched membrane filters under unfavorable and different ionic strength conditions: Experiments and modeling,\r\n",
        "Journal of Membrane Science,\r\n",
        "Volume 524,\r\n",
        "2017,\r\n",
        "Pages 682-690,\r\n",
        "ISSN 0376-7388,\r\n",
        "https://doi.org/10.1016/j.memsci.2016.11.023.\r\n",
        "(https://www.sciencedirect.com/science/article/pii/S0376738816312352)\r\n"
      ]
    },
    {
      "cell_type": "code",
      "metadata": {
        "id": "9Uerd1r3rDtd"
      },
      "source": [
        "# Import key python packages\r\n",
        "import numpy as np\r\n",
        "import pandas as pd\r\n",
        "import matplotlib.pyplot as plt\r\n",
        "from ipywidgets import interactive, IntSlider, RadioButtons, FloatText, IntText"
      ],
      "execution_count": 3,
      "outputs": []
    },
    {
      "cell_type": "markdown",
      "metadata": {
        "id": "GxvJxSJlv8tO"
      },
      "source": [
        "## First we need to define some key constants"
      ]
    },
    {
      "cell_type": "code",
      "metadata": {
        "id": "1LvnoiD9v1W3"
      },
      "source": [
        "kb = 1.38064852 # J/K, boltzmann constant\r\n",
        "lambda_char = 100E-9 # m, 100 nm characteristic retardation wavelength ~ ionization wavelength\r\n",
        "e_0 = 8.85418782E-12 # F/m\r\n",
        "e_r = 78.4 # relative permittivity of water\r\n",
        "e_coulomb = 1.602176634 # C "
      ],
      "execution_count": 4,
      "outputs": []
    },
    {
      "cell_type": "markdown",
      "metadata": {
        "id": "avV13sWrGHC5"
      },
      "source": [
        "## Van der Waals interaction constants\r\n",
        "* Israelachvili, J.N., Intermolecular and Surface Forces, Third Edition 2011\r\n",
        "\r\n",
        "\r\n",
        "\r\n",
        "\r\n"
      ]
    },
    {
      "cell_type": "code",
      "metadata": {
        "colab": {
          "base_uri": "https://localhost:8080/"
        },
        "id": "-2kLhw6RT7-0",
        "outputId": "6aa923d1-fdb9-4975-e349-9edf43361215"
      },
      "source": [
        "A_ps = np.mean([6.6E-20, 7.9E-20])  # J\r\n",
        "A_h2o = np.mean([3.7E-20, 5.5E-20]) # J\r\n",
        "A_sio2 = np.mean([5E-20, 6E-20]) # J\r\n",
        "A_eff = (np.sqrt(A_ps) - np.sqrt(A_h2o))*(np.sqrt(A_sio2) - np.sqrt(A_h2o))\r\n",
        "A_eff"
      ],
      "execution_count": 9,
      "outputs": [
        {
          "output_type": "execute_result",
          "data": {
            "text/plain": [
              "1.0980904698146341e-21"
            ]
          },
          "metadata": {
            "tags": []
          },
          "execution_count": 9
        }
      ]
    },
    {
      "cell_type": "markdown",
      "metadata": {
        "id": "CeQxNTfRuyT6"
      },
      "source": [
        "## Interactively plot the hamacker constant"
      ]
    },
    {
      "cell_type": "code",
      "metadata": {
        "id": "6lZ8bZ1CkML3"
      },
      "source": [
        "# set the x range\r\n",
        "x = \r\n",
        "\r\n",
        "# Plot raw image with interactive version\r\n",
        "# Define a function to call interactively for each frame\r\n",
        "def plot_hammacker(hammacker_1, hammaker_2):\r\n",
        "    ppm.pr.two_plot(tdms_1.vid_np[frame,:,:],'Flattend',\r\n",
        "                  tdms_1.MF,'Median Background')\r\n",
        "    plt.show()\r\n",
        "    print('Minimum Value : ', tdms_1.vid_np.min())\r\n",
        "    print('Minimum Value : ', tdms_1.vid_np.max())\r\n",
        "\r\n",
        "raw_interactive_plot = interactive(raw_slider, frame= IntSlider(min=0, max=(tdms_1.frames-1), step=1, continuous_update=False))\r\n",
        "raw_output = raw_interactive_plot.children[-1]\r\n",
        "raw_output.layout.height = '350px'\r\n",
        "raw_interactive_plot"
      ],
      "execution_count": null,
      "outputs": []
    }
  ]
}