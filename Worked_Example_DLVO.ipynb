{
  "nbformat": 4,
  "nbformat_minor": 0,
  "metadata": {
    "colab": {
      "name": "Worked_Example_DLVO.ipynb",
      "provenance": [],
      "collapsed_sections": [],
      "authorship_tag": "ABX9TyOYISE4VBl3ShKoClNi1DFb",
      "include_colab_link": true
    },
    "kernelspec": {
      "name": "python3",
      "display_name": "Python 3"
    }
  },
  "cells": [
    {
      "cell_type": "markdown",
      "metadata": {
        "id": "view-in-github",
        "colab_type": "text"
      },
      "source": [
        "<a href=\"https://colab.research.google.com/github/mikeboyle321/Macromolecular_Engineering_Nanoparticle_Transport/blob/main/Worked_Example_DLVO.ipynb\" target=\"_parent\"><img src=\"https://colab.research.google.com/assets/colab-badge.svg\" alt=\"Open In Colab\"/></a>"
      ]
    },
    {
      "cell_type": "markdown",
      "metadata": {
        "id": "dA5hpQmWu_37"
      },
      "source": [
        "# Extended DLVO - colloid interactions with a substrate in electrolyte solutions.\r\n",
        "\r\n",
        "This notebook walks through the analysis of a PS Nanoparticle Interacting with a silica substrate as a function of distance from the substrate using an extended DLVO model adapted from \r\n",
        "\r\n",
        "Handol Lee, Doris Segets, Sebastian Süß, Wolfgang Peukert, Sheng-Chieh Chen, David Y.H. Pui,\r\n",
        "Liquid filtration of nanoparticles through track-etched membrane filters under unfavorable and different ionic strength conditions: Experiments and modeling,\r\n",
        "Journal of Membrane Science,\r\n",
        "Volume 524,\r\n",
        "2017,\r\n",
        "Pages 682-690,\r\n",
        "ISSN 0376-7388,\r\n",
        "https://doi.org/10.1016/j.memsci.2016.11.023.\r\n",
        "(https://www.sciencedirect.com/science/article/pii/S0376738816312352)\r\n"
      ]
    },
    {
      "cell_type": "code",
      "metadata": {
        "id": "9Uerd1r3rDtd"
      },
      "source": [
        "# Import key python packages\r\n",
        "import numpy as np\r\n",
        "import pandas as pd\r\n",
        "import matplotlib.pyplot as plt\r\n",
        "from matplotlib import cm\r\n",
        "from ipywidgets import interactive, IntSlider, RadioButtons, FloatText, IntText\r\n",
        "# set font size for plots globally\r\n",
        "plt.rcParams.update({'font.size': 14})"
      ],
      "execution_count": 2,
      "outputs": []
    },
    {
      "cell_type": "markdown",
      "metadata": {
        "id": "GxvJxSJlv8tO"
      },
      "source": [
        "## First we need to define some key constants"
      ]
    },
    {
      "cell_type": "code",
      "metadata": {
        "id": "1LvnoiD9v1W3"
      },
      "source": [
        "kb = 1.38064852E-23 # J/K, boltzmann constant\r\n",
        "lambda_char = 100*1E-9 # m, 100 nm characteristic retardation wavelength ~ ionization wavelength\r\n",
        "e_0 = 8.85418782E-12 # F/m\r\n",
        "e_r = 78.4 # relative permittivity of water\r\n",
        "e_coulomb = 1.602176634E-19 # C \r\n",
        "T = 298 # K\r\n",
        "Na = 6.022E23 #/mol, Avogadro"
      ],
      "execution_count": 3,
      "outputs": []
    },
    {
      "cell_type": "markdown",
      "metadata": {
        "id": "CeQxNTfRuyT6"
      },
      "source": [
        "## Plot the VdW interaction potential for varying separation particle sizes\r\n",
        "* Van der Waals interaction constants from Israelachvili, J.N., Intermolecular and Surface Forces, Third Edition 2011\r\n"
      ]
    },
    {
      "cell_type": "code",
      "metadata": {
        "colab": {
          "base_uri": "https://localhost:8080/",
          "height": 467
        },
        "id": "6lZ8bZ1CkML3",
        "outputId": "91cdafef-8752-4a17-aaa0-c42fcd6dbe1a"
      },
      "source": [
        "# Define a function for calcuating VdW forces\r\n",
        "def calc_vdw(h_min, h_max, r_np_calc, A_vdw, lambda_ion):\r\n",
        "  h_calc = np.linspace(h_min, h_max, 1000)*1E-9 # m\r\n",
        "  r_calc = r_np_calc*1E-9 # converts nm to m\r\n",
        "  phi_vdw_calc = (-A_vdw*r_calc*(1 + 14*h_calc/lambda_ion)**(-1))/(6*h_calc) # J\r\n",
        "  return h_calc, phi_vdw_calc # returns m, J\r\n",
        "\r\n",
        "# Use combination rule to estimate Hamaker Constant, A_eff\r\n",
        "A_ps = np.mean([6.6E-20, 7.9E-20])  # J\r\n",
        "A_h2o = np.mean([3.7E-20, 5.5E-20]) # J\r\n",
        "A_sio2 = np.mean([5E-20, 6E-20]) # J\r\n",
        "A_eff = (np.sqrt(A_ps) - np.sqrt(A_h2o))*(np.sqrt(A_sio2) - np.sqrt(A_h2o)) # J\r\n",
        "print(f'A_eff = {A_eff} J')\r\n",
        "\r\n",
        "# define constants\r\n",
        "r_np = [1,10,100, 1000] #test  differnt parictle diameters, nm\r\n",
        "sep_min = 0 # nm\r\n",
        "sep_max = 10 # nm\r\n",
        "kT = kb*T\r\n",
        "for i, value in enumerate(r_np):\r\n",
        "  h, phi_vdw = calc_vdw(h_min = sep_min, h_max = sep_max, r_np_calc = value, A_vdw=A_eff, lambda_ion = lambda_char)\r\n",
        "  plt.plot(h*1E9, phi_vdw/kT, color =  plt.cm.Greys((1/len(r_np))*(i+1)), label = ('Particle Radius = ' + str(value) + ' nm'))\r\n",
        "  plt.legend()\r\n",
        "plt.ylim([-10,10])\r\n",
        "plt.xlabel('Separation Distance [nm]')\r\n",
        "plt.ylabel(r'$\\frac{\\phi_{VdW}}{k_{b}T}$', fontsize=18)"
      ],
      "execution_count": 22,
      "outputs": [
        {
          "output_type": "stream",
          "text": [
            "A_eff = 1.0980904698146341e-21 J\n"
          ],
          "name": "stdout"
        },
        {
          "output_type": "stream",
          "text": [
            "/usr/local/lib/python3.6/dist-packages/ipykernel_launcher.py:5: RuntimeWarning: divide by zero encountered in true_divide\n",
            "  \"\"\"\n",
            "/usr/local/lib/python3.6/dist-packages/ipykernel_launcher.py:5: RuntimeWarning: divide by zero encountered in true_divide\n",
            "  \"\"\"\n",
            "/usr/local/lib/python3.6/dist-packages/ipykernel_launcher.py:5: RuntimeWarning: divide by zero encountered in true_divide\n",
            "  \"\"\"\n",
            "/usr/local/lib/python3.6/dist-packages/ipykernel_launcher.py:5: RuntimeWarning: divide by zero encountered in true_divide\n",
            "  \"\"\"\n"
          ],
          "name": "stderr"
        },
        {
          "output_type": "execute_result",
          "data": {
            "text/plain": [
              "Text(0, 0.5, '$\\\\frac{\\\\phi_{VdW}}{k_{b}T}$')"
            ]
          },
          "metadata": {
            "tags": []
          },
          "execution_count": 22
        },
        {
          "output_type": "display_data",
          "data": {
            "image/png": "[encoded data removed]",
            "text/plain": [
              "<Figure size 432x288 with 1 Axes>"
            ]
          },
          "metadata": {
            "tags": [],
            "needs_background": "light"
          }
        }
      ]
    },
    {
      "cell_type": "markdown",
      "metadata": {
        "id": "BtQnYHvuOSmI"
      },
      "source": [
        "# Plot the Electric Double Layer ion concentration profile for varying salt concentration"
      ]
    },
    {
      "cell_type": "code",
      "metadata": {
        "colab": {
          "base_uri": "https://localhost:8080/",
          "height": 375
        },
        "id": "6xO5EVM1Oix6",
        "outputId": "77128c7d-51e1-4904-eff5-1f2fdadddcb9"
      },
      "source": [
        "# Define a function for calcuating EDL forces\r\n",
        "def calc_edl(h_min, h_max, r_np_calc, c_s_bulk_calc, z_ion_calc, psi_p_calc, psi_s_calc):\r\n",
        "  h_calc = np.linspace(h_min, h_max, 1000)*1E-9 # m\r\n",
        "  r_calc = r_np_calc*1E-9 # converts nm to m\r\n",
        "  debye_param_calc = np.sqrt((1000*c_s_bulk_calc*Na*e_coulomb**2*z_ion_calc**2)/(e_0*e_r*kb*T)) # m^-1\r\n",
        "  phi_edl_calc = (((64*np.pi*e_r*e_0)/debye_param_calc)*\r\n",
        "                  (kb*T/(z_ion_calc*e_coulomb))**2*\r\n",
        "                  np.tanh(z_ion_calc*e_coulomb*psi_s_calc/(4*kb*T))*\r\n",
        "                  np.tanh(z_ion_calc*e_coulomb*psi_p_calc/(4*kb*T))*\r\n",
        "                  ((debye_param_calc*r_calc - 1)*np.exp(-debye_param_calc*h_calc) + (debye_param_calc*r_calc + 1)*np.exp(-debye_param_calc*(h_calc+2*r_calc)))\r\n",
        "                  )\r\n",
        "  print(f'Debye Length for [NaCl]={c_s_bulk_calc} M is {1/debye_param_calc*1E9} nm')\r\n",
        "  return h_calc, phi_edl_calc # returns m, J\r\n",
        "\r\n",
        "r_np = 10 # nm\r\n",
        "psi_s = -50*1E-3 # V\r\n",
        "psi_p = -50*1E-3 # V\r\n",
        "z = 1 # salt valency - 1 for monovalent salt like NaCl\r\n",
        "c_salt = [0.001, 0.01, 0.1, 1] # concentration of salt in the bulk soltuion in mol/L\r\n",
        "kT = kb*T\r\n",
        "# define constants\r\n",
        "sep_min = 0 # nm\r\n",
        "sep_max = 50 # nm\r\n",
        "kT = kb*T\r\n",
        "for i, value in enumerate(c_salt):\r\n",
        "  h, phi_edl = calc_edl(h_min=sep_min, h_max=sep_max, r_np_calc=r_np, c_s_bulk_calc=value, z_ion_calc=z, psi_p_calc=psi_p, psi_s_calc=psi_s)\r\n",
        "  plt.plot(h*1E9, phi_edl/kT, color =  plt.cm.Greys((1/len(c_salt))*(i+1)), label = ('Salt Concentration = ' + str(value) + ' M'))\r\n",
        "plt.legend(fontsize=12)\r\n",
        "plt.ylim([-10,10])\r\n",
        "# plt.title('EDL for 100 nm PS particle in NaCl')\r\n",
        "plt.xlabel('Separation Distance [nm]')\r\n",
        "plt.ylabel(r'$\\frac{\\phi_{EDL}}{k_{b}T}$', fontsize=18)"
      ],
      "execution_count": 21,
      "outputs": [
        {
          "output_type": "stream",
          "text": [
            "Debye Length for [NaCl]=0.001 M is 13.592562074737513 nm\n",
            "Debye Length for [NaCl]=0.01 M is 4.29834553933944 nm\n",
            "Debye Length for [NaCl]=0.1 M is 1.3592562074737513 nm\n",
            "Debye Length for [NaCl]=1 M is 0.429834553933944 nm\n"
          ],
          "name": "stdout"
        },
        {
          "output_type": "execute_result",
          "data": {
            "text/plain": [
              "Text(0, 0.5, '$\\\\frac{\\\\phi_{EDL}}{k_{b}T}$')"
            ]
          },
          "metadata": {
            "tags": []
          },
          "execution_count": 21
        },
        {
          "output_type": "display_data",
          "data": {
            "image/png": "[encoded data removed]",
            "text/plain": [
              "<Figure size 432x288 with 1 Axes>"
            ]
          },
          "metadata": {
            "tags": [],
            "needs_background": "light"
          }
        }
      ]
    },
    {
      "cell_type": "markdown",
      "metadata": {
        "id": "cQNDG0FKIGIb"
      },
      "source": [
        "## VdW Interaction potentials have a minimum at -inf as the separation between particle and substrate approaches 0. This is clearly non-physical. In real experiments (ignoring molecular complications of the continuum assumption breakdown), repulsive forces (solvation, steric hidrances (i.e.) polymers) increase the interaction potential as a particle approceas the surface. To account for this, Lee .et *al* model short range repulsion (Pauli exclusion) from overlapping molecular orbitals via a Born Repulsion term with a potential shown below."
      ]
    },
    {
      "cell_type": "code",
      "metadata": {
        "colab": {
          "base_uri": "https://localhost:8080/"
        },
        "id": "-LwG5CAiIGab",
        "outputId": "6e3ebf96-66fc-42fe-f7f6-8216f7d5cd6a"
      },
      "source": [
        "def calc_born_rep()\r\n"
      ],
      "execution_count": 32,
      "outputs": [
        {
          "output_type": "execute_result",
          "data": {
            "text/plain": [
              "4.6513333333333335"
            ]
          },
          "metadata": {
            "tags": []
          },
          "execution_count": 32
        }
      ]
    },
    {
      "cell_type": "markdown",
      "metadata": {
        "id": "frVCnlRcK7d8"
      },
      "source": [
        "# Interactively plot the competition between all of them, with option to change any parameters"
      ]
    },
    {
      "cell_type": "code",
      "metadata": {
        "id": "UEzZspI0G6E5"
      },
      "source": [
        "# define constants\r\n",
        "a = [1,10,100] # differnt parictle diameters,  nm\r\n",
        "h = np.linspace(0.001, 10) # separation distance range in nm\r\n",
        "kT = kb*T\r\n",
        "for i in a:\r\n",
        "  phi_vdw = (-A_eff*i*(1 + 14*h/lambda_char)**(-1))/(6*h)\r\n",
        "  plt.plot(h, phi_vdw/kT, label = ('Particle Radius = ' + str(i) + ' nm'))\r\n",
        "  plt.legend()\r\n",
        "plt.ylim([-3,3])\r\n",
        "plt.xlabel('Separation Distance [nm]')\r\n",
        "plt.ylabel(r'$\\frac{\\phi_{VdW}}{k_{b}T}$')"
      ],
      "execution_count": null,
      "outputs": []
    }
  ]
}