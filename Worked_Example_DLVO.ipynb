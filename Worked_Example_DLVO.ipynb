{
  "nbformat": 4,
  "nbformat_minor": 0,
  "metadata": {
    "colab": {
      "name": "Worked_Example_DLVO.ipynb",
      "provenance": [],
      "collapsed_sections": [],
      "authorship_tag": "ABX9TyOTI5Wt5YCmFPZmmDBdoeIS",
      "include_colab_link": true
    },
    "kernelspec": {
      "name": "python3",
      "display_name": "Python 3"
    },
    "widgets": {
      "application/vnd.jupyter.widget-state+json": {
        "a8a3bfe06e49484d86416eadf802b9c0": {
          "model_module": "@jupyter-widgets/controls",
          "model_name": "VBoxModel",
          "state": {
            "_view_name": "VBoxView",
            "_dom_classes": [
              "widget-interact"
            ],
            "_model_name": "VBoxModel",
            "_view_module": "@jupyter-widgets/controls",
            "_model_module_version": "1.5.0",
            "_view_count": null,
            "_view_module_version": "1.5.0",
            "box_style": "",
            "layout": "IPY_MODEL_3ccce92a776f4f9296c7cb9329533105",
            "_model_module": "@jupyter-widgets/controls",
            "children": [
              "IPY_MODEL_5a1972be193f4c1791a35a231a1f43ca",
              "IPY_MODEL_774de8041118400ebaaf736094176ba4",
              "IPY_MODEL_0d3c959b557a45e78e14d92388802a96",
              "IPY_MODEL_4b5d77a61a8c495781aacf4ba04c806c",
              "IPY_MODEL_4e09fb5659ee42398f76b3a32aa94060",
              "IPY_MODEL_1226cb4ae16d45c987453b8c00a2178b",
              "IPY_MODEL_253ebf31dfbd465b966e900e602ae66f",
              "IPY_MODEL_7ceb541bcf1343f798940660a1371642",
              "IPY_MODEL_fb0c1e917333482d8cbacf1ae475d862",
              "IPY_MODEL_008f5e9404ca45a3ac89052219431a89",
              "IPY_MODEL_fea32123230541aabf141be25d81b82a"
            ]
          }
        },
        "3ccce92a776f4f9296c7cb9329533105": {
          "model_module": "@jupyter-widgets/base",
          "model_name": "LayoutModel",
          "state": {
            "_view_name": "LayoutView",
            "grid_template_rows": null,
            "right": null,
            "justify_content": null,
            "_view_module": "@jupyter-widgets/base",
            "overflow": null,
            "_model_module_version": "1.2.0",
            "_view_count": null,
            "flex_flow": null,
            "width": null,
            "min_width": null,
            "border": null,
            "align_items": null,
            "bottom": null,
            "_model_module": "@jupyter-widgets/base",
            "top": null,
            "grid_column": null,
            "overflow_y": null,
            "overflow_x": null,
            "grid_auto_flow": null,
            "grid_area": null,
            "grid_template_columns": null,
            "flex": null,
            "_model_name": "LayoutModel",
            "justify_items": null,
            "grid_row": null,
            "max_height": null,
            "align_content": null,
            "visibility": null,
            "align_self": null,
            "height": null,
            "min_height": null,
            "padding": null,
            "grid_auto_rows": null,
            "grid_gap": null,
            "max_width": null,
            "order": null,
            "_view_module_version": "1.2.0",
            "grid_template_areas": null,
            "object_position": null,
            "object_fit": null,
            "grid_auto_columns": null,
            "margin": null,
            "display": null,
            "left": null
          }
        },
        "5a1972be193f4c1791a35a231a1f43ca": {
          "model_module": "@jupyter-widgets/controls",
          "model_name": "FloatTextModel",
          "state": {
            "_view_name": "FloatTextView",
            "style": "IPY_MODEL_6fbaa44cb20e4fc49a9f7c5e521ab6f8",
            "_dom_classes": [],
            "description": "Separation Range Minimum [nm]",
            "_model_name": "FloatTextModel",
            "_view_module": "@jupyter-widgets/controls",
            "_model_module_version": "1.5.0",
            "value": 0.001,
            "_view_count": null,
            "disabled": false,
            "_view_module_version": "1.5.0",
            "continuous_update": true,
            "step": null,
            "description_tooltip": null,
            "_model_module": "@jupyter-widgets/controls",
            "layout": "IPY_MODEL_030479196b6e48aa94f52bb4442ae6af"
          }
        },
        "774de8041118400ebaaf736094176ba4": {
          "model_module": "@jupyter-widgets/controls",
          "model_name": "FloatTextModel",
          "state": {
            "_view_name": "FloatTextView",
            "style": "IPY_MODEL_8ba1474b649141c3a9fb4fc66f19f2cc",
            "_dom_classes": [],
            "description": "Separation Range Maximum [nm]",
            "_model_name": "FloatTextModel",
            "_view_module": "@jupyter-widgets/controls",
            "_model_module_version": "1.5.0",
            "value": 5,
            "_view_count": null,
            "disabled": false,
            "_view_module_version": "1.5.0",
            "continuous_update": true,
            "step": null,
            "description_tooltip": null,
            "_model_module": "@jupyter-widgets/controls",
            "layout": "IPY_MODEL_3295af39f605409a93fd8fcb5b27f576"
          }
        },
        "0d3c959b557a45e78e14d92388802a96": {
          "model_module": "@jupyter-widgets/controls",
          "model_name": "FloatSliderModel",
          "state": {
            "_view_name": "FloatSliderView",
            "style": "IPY_MODEL_2dba9ec3744744468b60aab0881c47ae",
            "_dom_classes": [],
            "description": "Particle Radius (nm)",
            "step": 1,
            "_model_name": "FloatSliderModel",
            "orientation": "horizontal",
            "max": 100,
            "_view_module": "@jupyter-widgets/controls",
            "_model_module_version": "1.5.0",
            "value": 10,
            "_view_count": null,
            "disabled": false,
            "_view_module_version": "1.5.0",
            "min": 1,
            "continuous_update": true,
            "readout_format": ".2f",
            "description_tooltip": null,
            "readout": true,
            "_model_module": "@jupyter-widgets/controls",
            "layout": "IPY_MODEL_0597966ac84f41ba8888e35d7ac21353"
          }
        },
        "4b5d77a61a8c495781aacf4ba04c806c": {
          "model_module": "@jupyter-widgets/controls",
          "model_name": "FloatSliderModel",
          "state": {
            "_view_name": "FloatSliderView",
            "style": "IPY_MODEL_4d3a50fd83da49d58d326212cfedd937",
            "_dom_classes": [],
            "description": "Hamaker Constant (10^-20 J)",
            "step": 0.1,
            "_model_name": "FloatSliderModel",
            "orientation": "horizontal",
            "max": 10,
            "_view_module": "@jupyter-widgets/controls",
            "_model_module_version": "1.5.0",
            "value": 3,
            "_view_count": null,
            "disabled": false,
            "_view_module_version": "1.5.0",
            "min": 0.1,
            "continuous_update": true,
            "readout_format": ".2f",
            "description_tooltip": null,
            "readout": true,
            "_model_module": "@jupyter-widgets/controls",
            "layout": "IPY_MODEL_3b6afc1a0e314c5ea4918d5597b730e3"
          }
        },
        "4e09fb5659ee42398f76b3a32aa94060": {
          "model_module": "@jupyter-widgets/controls",
          "model_name": "FloatSliderModel",
          "state": {
            "_view_name": "FloatSliderView",
            "style": "IPY_MODEL_e4a1feb09cbb4177a3b1104cad68c30d",
            "_dom_classes": [],
            "description": "Particle Potential (mV)",
            "step": 1,
            "_model_name": "FloatSliderModel",
            "orientation": "horizontal",
            "max": 100,
            "_view_module": "@jupyter-widgets/controls",
            "_model_module_version": "1.5.0",
            "value": -50,
            "_view_count": null,
            "disabled": false,
            "_view_module_version": "1.5.0",
            "min": -100,
            "continuous_update": true,
            "readout_format": ".2f",
            "description_tooltip": null,
            "readout": true,
            "_model_module": "@jupyter-widgets/controls",
            "layout": "IPY_MODEL_52f47e328ade4a4e90310dff38f62408"
          }
        },
        "1226cb4ae16d45c987453b8c00a2178b": {
          "model_module": "@jupyter-widgets/controls",
          "model_name": "FloatSliderModel",
          "state": {
            "_view_name": "FloatSliderView",
            "style": "IPY_MODEL_2152e2a32b784aab9118d50a0e25d856",
            "_dom_classes": [],
            "description": "Substrate Potential (mV)",
            "step": 1,
            "_model_name": "FloatSliderModel",
            "orientation": "horizontal",
            "max": 100,
            "_view_module": "@jupyter-widgets/controls",
            "_model_module_version": "1.5.0",
            "value": -50,
            "_view_count": null,
            "disabled": false,
            "_view_module_version": "1.5.0",
            "min": -100,
            "continuous_update": true,
            "readout_format": ".2f",
            "description_tooltip": null,
            "readout": true,
            "_model_module": "@jupyter-widgets/controls",
            "layout": "IPY_MODEL_a3401d30b75247f78a9395f901f2b36b"
          }
        },
        "253ebf31dfbd465b966e900e602ae66f": {
          "model_module": "@jupyter-widgets/controls",
          "model_name": "FloatSliderModel",
          "state": {
            "_view_name": "FloatSliderView",
            "style": "IPY_MODEL_90b297c21c464bfea312125e1deb87fa",
            "_dom_classes": [],
            "description": "[NaCl](M)",
            "step": 0.01,
            "_model_name": "FloatSliderModel",
            "orientation": "horizontal",
            "max": 1,
            "_view_module": "@jupyter-widgets/controls",
            "_model_module_version": "1.5.0",
            "value": 0.14,
            "_view_count": null,
            "disabled": false,
            "_view_module_version": "1.5.0",
            "min": 0,
            "continuous_update": true,
            "readout_format": ".2f",
            "description_tooltip": null,
            "readout": true,
            "_model_module": "@jupyter-widgets/controls",
            "layout": "IPY_MODEL_dcb73ebe8d1b47edbf60a942a05f4b51"
          }
        },
        "7ceb541bcf1343f798940660a1371642": {
          "model_module": "@jupyter-widgets/controls",
          "model_name": "FloatSliderModel",
          "state": {
            "_view_name": "FloatSliderView",
            "style": "IPY_MODEL_f37cb1e190324f35b3fd988124914ae8",
            "_dom_classes": [],
            "description": "Born Collision Diamete [nm]",
            "step": 0.1,
            "_model_name": "FloatSliderModel",
            "orientation": "horizontal",
            "max": 2,
            "_view_module": "@jupyter-widgets/controls",
            "_model_module_version": "1.5.0",
            "value": 0.6,
            "_view_count": null,
            "disabled": false,
            "_view_module_version": "1.5.0",
            "min": 0,
            "continuous_update": true,
            "readout_format": ".2f",
            "description_tooltip": null,
            "readout": true,
            "_model_module": "@jupyter-widgets/controls",
            "layout": "IPY_MODEL_d3e1bd869840401db731fcbc3fa688c1"
          }
        },
        "fb0c1e917333482d8cbacf1ae475d862": {
          "model_module": "@jupyter-widgets/controls",
          "model_name": "FloatTextModel",
          "state": {
            "_view_name": "FloatTextView",
            "style": "IPY_MODEL_420020bc8caa4b6cacd6c84eb3e2f071",
            "_dom_classes": [],
            "description": "Plot kT Range Minimum",
            "_model_name": "FloatTextModel",
            "_view_module": "@jupyter-widgets/controls",
            "_model_module_version": "1.5.0",
            "value": -10,
            "_view_count": null,
            "disabled": false,
            "_view_module_version": "1.5.0",
            "continuous_update": true,
            "step": null,
            "description_tooltip": null,
            "_model_module": "@jupyter-widgets/controls",
            "layout": "IPY_MODEL_01b90c6d8a21465288fd6bcbf8177673"
          }
        },
        "008f5e9404ca45a3ac89052219431a89": {
          "model_module": "@jupyter-widgets/controls",
          "model_name": "FloatTextModel",
          "state": {
            "_view_name": "FloatTextView",
            "style": "IPY_MODEL_f0a1a95a6248489ba4fefb024f811839",
            "_dom_classes": [],
            "description": "Plot kT Range Maximum",
            "_model_name": "FloatTextModel",
            "_view_module": "@jupyter-widgets/controls",
            "_model_module_version": "1.5.0",
            "value": 10,
            "_view_count": null,
            "disabled": false,
            "_view_module_version": "1.5.0",
            "continuous_update": true,
            "step": null,
            "description_tooltip": null,
            "_model_module": "@jupyter-widgets/controls",
            "layout": "IPY_MODEL_f44ffd473b3744599a5521b1a47a1bd5"
          }
        },
        "fea32123230541aabf141be25d81b82a": {
          "model_module": "@jupyter-widgets/output",
          "model_name": "OutputModel",
          "state": {
            "_view_name": "OutputView",
            "msg_id": "",
            "_dom_classes": [],
            "_model_name": "OutputModel",
            "outputs": [
              {
                "output_type": "stream",
                "metadata": {
                  "tags": []
                },
                "text": "Debye Length for [NaCl]=0.14 M is 0.8123109532939972 nm\nk*r_np is 12.310556640223872\n",
                "stream": "stdout"
              },
              {
                "output_type": "display_data",
                "metadata": {
                  "tags": [],
                  "needs_background": "light"
                },
                "image/png": "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\n",
                "text/plain": "<Figure size 432x288 with 1 Axes>"
              }
            ],
            "_view_module": "@jupyter-widgets/output",
            "_model_module_version": "1.0.0",
            "_view_count": null,
            "_view_module_version": "1.0.0",
            "layout": "IPY_MODEL_a2cbf6169b044898b249046248d56865",
            "_model_module": "@jupyter-widgets/output"
          }
        },
        "6fbaa44cb20e4fc49a9f7c5e521ab6f8": {
          "model_module": "@jupyter-widgets/controls",
          "model_name": "DescriptionStyleModel",
          "state": {
            "_view_name": "StyleView",
            "_model_name": "DescriptionStyleModel",
            "description_width": "initial",
            "_view_module": "@jupyter-widgets/base",
            "_model_module_version": "1.5.0",
            "_view_count": null,
            "_view_module_version": "1.2.0",
            "_model_module": "@jupyter-widgets/controls"
          }
        },
        "030479196b6e48aa94f52bb4442ae6af": {
          "model_module": "@jupyter-widgets/base",
          "model_name": "LayoutModel",
          "state": {
            "_view_name": "LayoutView",
            "grid_template_rows": null,
            "right": null,
            "justify_content": null,
            "_view_module": "@jupyter-widgets/base",
            "overflow": null,
            "_model_module_version": "1.2.0",
            "_view_count": null,
            "flex_flow": null,
            "width": null,
            "min_width": null,
            "border": null,
            "align_items": null,
            "bottom": null,
            "_model_module": "@jupyter-widgets/base",
            "top": null,
            "grid_column": null,
            "overflow_y": null,
            "overflow_x": null,
            "grid_auto_flow": null,
            "grid_area": null,
            "grid_template_columns": null,
            "flex": null,
            "_model_name": "LayoutModel",
            "justify_items": null,
            "grid_row": null,
            "max_height": null,
            "align_content": null,
            "visibility": null,
            "align_self": null,
            "height": null,
            "min_height": null,
            "padding": null,
            "grid_auto_rows": null,
            "grid_gap": null,
            "max_width": null,
            "order": null,
            "_view_module_version": "1.2.0",
            "grid_template_areas": null,
            "object_position": null,
            "object_fit": null,
            "grid_auto_columns": null,
            "margin": null,
            "display": null,
            "left": null
          }
        },
        "8ba1474b649141c3a9fb4fc66f19f2cc": {
          "model_module": "@jupyter-widgets/controls",
          "model_name": "DescriptionStyleModel",
          "state": {
            "_view_name": "StyleView",
            "_model_name": "DescriptionStyleModel",
            "description_width": "initial",
            "_view_module": "@jupyter-widgets/base",
            "_model_module_version": "1.5.0",
            "_view_count": null,
            "_view_module_version": "1.2.0",
            "_model_module": "@jupyter-widgets/controls"
          }
        },
        "3295af39f605409a93fd8fcb5b27f576": {
          "model_module": "@jupyter-widgets/base",
          "model_name": "LayoutModel",
          "state": {
            "_view_name": "LayoutView",
            "grid_template_rows": null,
            "right": null,
            "justify_content": null,
            "_view_module": "@jupyter-widgets/base",
            "overflow": null,
            "_model_module_version": "1.2.0",
            "_view_count": null,
            "flex_flow": null,
            "width": null,
            "min_width": null,
            "border": null,
            "align_items": null,
            "bottom": null,
            "_model_module": "@jupyter-widgets/base",
            "top": null,
            "grid_column": null,
            "overflow_y": null,
            "overflow_x": null,
            "grid_auto_flow": null,
            "grid_area": null,
            "grid_template_columns": null,
            "flex": null,
            "_model_name": "LayoutModel",
            "justify_items": null,
            "grid_row": null,
            "max_height": null,
            "align_content": null,
            "visibility": null,
            "align_self": null,
            "height": null,
            "min_height": null,
            "padding": null,
            "grid_auto_rows": null,
            "grid_gap": null,
            "max_width": null,
            "order": null,
            "_view_module_version": "1.2.0",
            "grid_template_areas": null,
            "object_position": null,
            "object_fit": null,
            "grid_auto_columns": null,
            "margin": null,
            "display": null,
            "left": null
          }
        },
        "2dba9ec3744744468b60aab0881c47ae": {
          "model_module": "@jupyter-widgets/controls",
          "model_name": "SliderStyleModel",
          "state": {
            "_view_name": "StyleView",
            "handle_color": null,
            "_model_name": "SliderStyleModel",
            "description_width": "initial",
            "_view_module": "@jupyter-widgets/base",
            "_model_module_version": "1.5.0",
            "_view_count": null,
            "_view_module_version": "1.2.0",
            "_model_module": "@jupyter-widgets/controls"
          }
        },
        "0597966ac84f41ba8888e35d7ac21353": {
          "model_module": "@jupyter-widgets/base",
          "model_name": "LayoutModel",
          "state": {
            "_view_name": "LayoutView",
            "grid_template_rows": null,
            "right": null,
            "justify_content": null,
            "_view_module": "@jupyter-widgets/base",
            "overflow": null,
            "_model_module_version": "1.2.0",
            "_view_count": null,
            "flex_flow": null,
            "width": null,
            "min_width": null,
            "border": null,
            "align_items": null,
            "bottom": null,
            "_model_module": "@jupyter-widgets/base",
            "top": null,
            "grid_column": null,
            "overflow_y": null,
            "overflow_x": null,
            "grid_auto_flow": null,
            "grid_area": null,
            "grid_template_columns": null,
            "flex": null,
            "_model_name": "LayoutModel",
            "justify_items": null,
            "grid_row": null,
            "max_height": null,
            "align_content": null,
            "visibility": null,
            "align_self": null,
            "height": null,
            "min_height": null,
            "padding": null,
            "grid_auto_rows": null,
            "grid_gap": null,
            "max_width": null,
            "order": null,
            "_view_module_version": "1.2.0",
            "grid_template_areas": null,
            "object_position": null,
            "object_fit": null,
            "grid_auto_columns": null,
            "margin": null,
            "display": null,
            "left": null
          }
        },
        "4d3a50fd83da49d58d326212cfedd937": {
          "model_module": "@jupyter-widgets/controls",
          "model_name": "SliderStyleModel",
          "state": {
            "_view_name": "StyleView",
            "handle_color": null,
            "_model_name": "SliderStyleModel",
            "description_width": "initial",
            "_view_module": "@jupyter-widgets/base",
            "_model_module_version": "1.5.0",
            "_view_count": null,
            "_view_module_version": "1.2.0",
            "_model_module": "@jupyter-widgets/controls"
          }
        },
        "3b6afc1a0e314c5ea4918d5597b730e3": {
          "model_module": "@jupyter-widgets/base",
          "model_name": "LayoutModel",
          "state": {
            "_view_name": "LayoutView",
            "grid_template_rows": null,
            "right": null,
            "justify_content": null,
            "_view_module": "@jupyter-widgets/base",
            "overflow": null,
            "_model_module_version": "1.2.0",
            "_view_count": null,
            "flex_flow": null,
            "width": null,
            "min_width": null,
            "border": null,
            "align_items": null,
            "bottom": null,
            "_model_module": "@jupyter-widgets/base",
            "top": null,
            "grid_column": null,
            "overflow_y": null,
            "overflow_x": null,
            "grid_auto_flow": null,
            "grid_area": null,
            "grid_template_columns": null,
            "flex": null,
            "_model_name": "LayoutModel",
            "justify_items": null,
            "grid_row": null,
            "max_height": null,
            "align_content": null,
            "visibility": null,
            "align_self": null,
            "height": null,
            "min_height": null,
            "padding": null,
            "grid_auto_rows": null,
            "grid_gap": null,
            "max_width": null,
            "order": null,
            "_view_module_version": "1.2.0",
            "grid_template_areas": null,
            "object_position": null,
            "object_fit": null,
            "grid_auto_columns": null,
            "margin": null,
            "display": null,
            "left": null
          }
        },
        "e4a1feb09cbb4177a3b1104cad68c30d": {
          "model_module": "@jupyter-widgets/controls",
          "model_name": "SliderStyleModel",
          "state": {
            "_view_name": "StyleView",
            "handle_color": null,
            "_model_name": "SliderStyleModel",
            "description_width": "initial",
            "_view_module": "@jupyter-widgets/base",
            "_model_module_version": "1.5.0",
            "_view_count": null,
            "_view_module_version": "1.2.0",
            "_model_module": "@jupyter-widgets/controls"
          }
        },
        "52f47e328ade4a4e90310dff38f62408": {
          "model_module": "@jupyter-widgets/base",
          "model_name": "LayoutModel",
          "state": {
            "_view_name": "LayoutView",
            "grid_template_rows": null,
            "right": null,
            "justify_content": null,
            "_view_module": "@jupyter-widgets/base",
            "overflow": null,
            "_model_module_version": "1.2.0",
            "_view_count": null,
            "flex_flow": null,
            "width": null,
            "min_width": null,
            "border": null,
            "align_items": null,
            "bottom": null,
            "_model_module": "@jupyter-widgets/base",
            "top": null,
            "grid_column": null,
            "overflow_y": null,
            "overflow_x": null,
            "grid_auto_flow": null,
            "grid_area": null,
            "grid_template_columns": null,
            "flex": null,
            "_model_name": "LayoutModel",
            "justify_items": null,
            "grid_row": null,
            "max_height": null,
            "align_content": null,
            "visibility": null,
            "align_self": null,
            "height": null,
            "min_height": null,
            "padding": null,
            "grid_auto_rows": null,
            "grid_gap": null,
            "max_width": null,
            "order": null,
            "_view_module_version": "1.2.0",
            "grid_template_areas": null,
            "object_position": null,
            "object_fit": null,
            "grid_auto_columns": null,
            "margin": null,
            "display": null,
            "left": null
          }
        },
        "2152e2a32b784aab9118d50a0e25d856": {
          "model_module": "@jupyter-widgets/controls",
          "model_name": "SliderStyleModel",
          "state": {
            "_view_name": "StyleView",
            "handle_color": null,
            "_model_name": "SliderStyleModel",
            "description_width": "initial",
            "_view_module": "@jupyter-widgets/base",
            "_model_module_version": "1.5.0",
            "_view_count": null,
            "_view_module_version": "1.2.0",
            "_model_module": "@jupyter-widgets/controls"
          }
        },
        "a3401d30b75247f78a9395f901f2b36b": {
          "model_module": "@jupyter-widgets/base",
          "model_name": "LayoutModel",
          "state": {
            "_view_name": "LayoutView",
            "grid_template_rows": null,
            "right": null,
            "justify_content": null,
            "_view_module": "@jupyter-widgets/base",
            "overflow": null,
            "_model_module_version": "1.2.0",
            "_view_count": null,
            "flex_flow": null,
            "width": null,
            "min_width": null,
            "border": null,
            "align_items": null,
            "bottom": null,
            "_model_module": "@jupyter-widgets/base",
            "top": null,
            "grid_column": null,
            "overflow_y": null,
            "overflow_x": null,
            "grid_auto_flow": null,
            "grid_area": null,
            "grid_template_columns": null,
            "flex": null,
            "_model_name": "LayoutModel",
            "justify_items": null,
            "grid_row": null,
            "max_height": null,
            "align_content": null,
            "visibility": null,
            "align_self": null,
            "height": null,
            "min_height": null,
            "padding": null,
            "grid_auto_rows": null,
            "grid_gap": null,
            "max_width": null,
            "order": null,
            "_view_module_version": "1.2.0",
            "grid_template_areas": null,
            "object_position": null,
            "object_fit": null,
            "grid_auto_columns": null,
            "margin": null,
            "display": null,
            "left": null
          }
        },
        "90b297c21c464bfea312125e1deb87fa": {
          "model_module": "@jupyter-widgets/controls",
          "model_name": "SliderStyleModel",
          "state": {
            "_view_name": "StyleView",
            "handle_color": null,
            "_model_name": "SliderStyleModel",
            "description_width": "initial",
            "_view_module": "@jupyter-widgets/base",
            "_model_module_version": "1.5.0",
            "_view_count": null,
            "_view_module_version": "1.2.0",
            "_model_module": "@jupyter-widgets/controls"
          }
        },
        "dcb73ebe8d1b47edbf60a942a05f4b51": {
          "model_module": "@jupyter-widgets/base",
          "model_name": "LayoutModel",
          "state": {
            "_view_name": "LayoutView",
            "grid_template_rows": null,
            "right": null,
            "justify_content": null,
            "_view_module": "@jupyter-widgets/base",
            "overflow": null,
            "_model_module_version": "1.2.0",
            "_view_count": null,
            "flex_flow": null,
            "width": null,
            "min_width": null,
            "border": null,
            "align_items": null,
            "bottom": null,
            "_model_module": "@jupyter-widgets/base",
            "top": null,
            "grid_column": null,
            "overflow_y": null,
            "overflow_x": null,
            "grid_auto_flow": null,
            "grid_area": null,
            "grid_template_columns": null,
            "flex": null,
            "_model_name": "LayoutModel",
            "justify_items": null,
            "grid_row": null,
            "max_height": null,
            "align_content": null,
            "visibility": null,
            "align_self": null,
            "height": null,
            "min_height": null,
            "padding": null,
            "grid_auto_rows": null,
            "grid_gap": null,
            "max_width": null,
            "order": null,
            "_view_module_version": "1.2.0",
            "grid_template_areas": null,
            "object_position": null,
            "object_fit": null,
            "grid_auto_columns": null,
            "margin": null,
            "display": null,
            "left": null
          }
        },
        "f37cb1e190324f35b3fd988124914ae8": {
          "model_module": "@jupyter-widgets/controls",
          "model_name": "SliderStyleModel",
          "state": {
            "_view_name": "StyleView",
            "handle_color": null,
            "_model_name": "SliderStyleModel",
            "description_width": "initial",
            "_view_module": "@jupyter-widgets/base",
            "_model_module_version": "1.5.0",
            "_view_count": null,
            "_view_module_version": "1.2.0",
            "_model_module": "@jupyter-widgets/controls"
          }
        },
        "d3e1bd869840401db731fcbc3fa688c1": {
          "model_module": "@jupyter-widgets/base",
          "model_name": "LayoutModel",
          "state": {
            "_view_name": "LayoutView",
            "grid_template_rows": null,
            "right": null,
            "justify_content": null,
            "_view_module": "@jupyter-widgets/base",
            "overflow": null,
            "_model_module_version": "1.2.0",
            "_view_count": null,
            "flex_flow": null,
            "width": null,
            "min_width": null,
            "border": null,
            "align_items": null,
            "bottom": null,
            "_model_module": "@jupyter-widgets/base",
            "top": null,
            "grid_column": null,
            "overflow_y": null,
            "overflow_x": null,
            "grid_auto_flow": null,
            "grid_area": null,
            "grid_template_columns": null,
            "flex": null,
            "_model_name": "LayoutModel",
            "justify_items": null,
            "grid_row": null,
            "max_height": null,
            "align_content": null,
            "visibility": null,
            "align_self": null,
            "height": null,
            "min_height": null,
            "padding": null,
            "grid_auto_rows": null,
            "grid_gap": null,
            "max_width": null,
            "order": null,
            "_view_module_version": "1.2.0",
            "grid_template_areas": null,
            "object_position": null,
            "object_fit": null,
            "grid_auto_columns": null,
            "margin": null,
            "display": null,
            "left": null
          }
        },
        "420020bc8caa4b6cacd6c84eb3e2f071": {
          "model_module": "@jupyter-widgets/controls",
          "model_name": "DescriptionStyleModel",
          "state": {
            "_view_name": "StyleView",
            "_model_name": "DescriptionStyleModel",
            "description_width": "initial",
            "_view_module": "@jupyter-widgets/base",
            "_model_module_version": "1.5.0",
            "_view_count": null,
            "_view_module_version": "1.2.0",
            "_model_module": "@jupyter-widgets/controls"
          }
        },
        "01b90c6d8a21465288fd6bcbf8177673": {
          "model_module": "@jupyter-widgets/base",
          "model_name": "LayoutModel",
          "state": {
            "_view_name": "LayoutView",
            "grid_template_rows": null,
            "right": null,
            "justify_content": null,
            "_view_module": "@jupyter-widgets/base",
            "overflow": null,
            "_model_module_version": "1.2.0",
            "_view_count": null,
            "flex_flow": null,
            "width": null,
            "min_width": null,
            "border": null,
            "align_items": null,
            "bottom": null,
            "_model_module": "@jupyter-widgets/base",
            "top": null,
            "grid_column": null,
            "overflow_y": null,
            "overflow_x": null,
            "grid_auto_flow": null,
            "grid_area": null,
            "grid_template_columns": null,
            "flex": null,
            "_model_name": "LayoutModel",
            "justify_items": null,
            "grid_row": null,
            "max_height": null,
            "align_content": null,
            "visibility": null,
            "align_self": null,
            "height": null,
            "min_height": null,
            "padding": null,
            "grid_auto_rows": null,
            "grid_gap": null,
            "max_width": null,
            "order": null,
            "_view_module_version": "1.2.0",
            "grid_template_areas": null,
            "object_position": null,
            "object_fit": null,
            "grid_auto_columns": null,
            "margin": null,
            "display": null,
            "left": null
          }
        },
        "f0a1a95a6248489ba4fefb024f811839": {
          "model_module": "@jupyter-widgets/controls",
          "model_name": "DescriptionStyleModel",
          "state": {
            "_view_name": "StyleView",
            "_model_name": "DescriptionStyleModel",
            "description_width": "initial",
            "_view_module": "@jupyter-widgets/base",
            "_model_module_version": "1.5.0",
            "_view_count": null,
            "_view_module_version": "1.2.0",
            "_model_module": "@jupyter-widgets/controls"
          }
        },
        "f44ffd473b3744599a5521b1a47a1bd5": {
          "model_module": "@jupyter-widgets/base",
          "model_name": "LayoutModel",
          "state": {
            "_view_name": "LayoutView",
            "grid_template_rows": null,
            "right": null,
            "justify_content": null,
            "_view_module": "@jupyter-widgets/base",
            "overflow": null,
            "_model_module_version": "1.2.0",
            "_view_count": null,
            "flex_flow": null,
            "width": null,
            "min_width": null,
            "border": null,
            "align_items": null,
            "bottom": null,
            "_model_module": "@jupyter-widgets/base",
            "top": null,
            "grid_column": null,
            "overflow_y": null,
            "overflow_x": null,
            "grid_auto_flow": null,
            "grid_area": null,
            "grid_template_columns": null,
            "flex": null,
            "_model_name": "LayoutModel",
            "justify_items": null,
            "grid_row": null,
            "max_height": null,
            "align_content": null,
            "visibility": null,
            "align_self": null,
            "height": null,
            "min_height": null,
            "padding": null,
            "grid_auto_rows": null,
            "grid_gap": null,
            "max_width": null,
            "order": null,
            "_view_module_version": "1.2.0",
            "grid_template_areas": null,
            "object_position": null,
            "object_fit": null,
            "grid_auto_columns": null,
            "margin": null,
            "display": null,
            "left": null
          }
        },
        "a2cbf6169b044898b249046248d56865": {
          "model_module": "@jupyter-widgets/base",
          "model_name": "LayoutModel",
          "state": {
            "_view_name": "LayoutView",
            "grid_template_rows": null,
            "right": null,
            "justify_content": null,
            "_view_module": "@jupyter-widgets/base",
            "overflow": null,
            "_model_module_version": "1.2.0",
            "_view_count": null,
            "flex_flow": null,
            "width": null,
            "min_width": null,
            "border": null,
            "align_items": null,
            "bottom": null,
            "_model_module": "@jupyter-widgets/base",
            "top": null,
            "grid_column": null,
            "overflow_y": null,
            "overflow_x": null,
            "grid_auto_flow": null,
            "grid_area": null,
            "grid_template_columns": null,
            "flex": null,
            "_model_name": "LayoutModel",
            "justify_items": null,
            "grid_row": null,
            "max_height": null,
            "align_content": null,
            "visibility": null,
            "align_self": null,
            "height": null,
            "min_height": null,
            "padding": null,
            "grid_auto_rows": null,
            "grid_gap": null,
            "max_width": null,
            "order": null,
            "_view_module_version": "1.2.0",
            "grid_template_areas": null,
            "object_position": null,
            "object_fit": null,
            "grid_auto_columns": null,
            "margin": null,
            "display": null,
            "left": null
          }
        }
      }
    }
  },
  "cells": [
    {
      "cell_type": "markdown",
      "metadata": {
        "id": "view-in-github",
        "colab_type": "text"
      },
      "source": [
        "<a href=\"https://colab.research.google.com/github/mikeboyle321/Macromolecular_Engineering_Nanoparticle_Transport/blob/main/Worked_Example_DLVO.ipynb\" target=\"_parent\"><img src=\"https://colab.research.google.com/assets/colab-badge.svg\" alt=\"Open In Colab\"/></a>"
      ]
    },
    {
      "cell_type": "markdown",
      "metadata": {
        "id": "dA5hpQmWu_37"
      },
      "source": [
        "# Extended DLVO - colloid interactions with a substrate in electrolyte solutions.\r\n",
        "\r\n",
        "This notebook walks through the analysis of a PS Nanoparticle Interacting with a silica substrate as a function of distance from the substrate using an extended DLVO model adapted from \r\n",
        "\r\n",
        "Handol Lee, Doris Segets, Sebastian Süß, Wolfgang Peukert, Sheng-Chieh Chen, David Y.H. Pui,\r\n",
        "Liquid filtration of nanoparticles through track-etched membrane filters under unfavorable and different ionic strength conditions: Experiments and modeling,\r\n",
        "Journal of Membrane Science,\r\n",
        "Volume 524,\r\n",
        "2017,\r\n",
        "Pages 682-690,\r\n",
        "ISSN 0376-7388,\r\n",
        "https://doi.org/10.1016/j.memsci.2016.11.023.\r\n",
        "(https://www.sciencedirect.com/science/article/pii/S0376738816312352)\r\n"
      ]
    },
    {
      "cell_type": "code",
      "metadata": {
        "id": "9Uerd1r3rDtd"
      },
      "source": [
        "# Import key python packages\r\n",
        "import numpy as np\r\n",
        "import pandas as pd\r\n",
        "import matplotlib.pyplot as plt\r\n",
        "from matplotlib import cm\r\n",
        "from ipywidgets import interactive, IntSlider, RadioButtons, FloatText, IntText, FloatSlider\r\n",
        "# set font size for plots globally\r\n",
        "plt.rcParams.update({'font.size': 14})"
      ],
      "execution_count": 1,
      "outputs": []
    },
    {
      "cell_type": "markdown",
      "metadata": {
        "id": "GxvJxSJlv8tO"
      },
      "source": [
        "## First we need to define some key constants"
      ]
    },
    {
      "cell_type": "code",
      "metadata": {
        "id": "1LvnoiD9v1W3"
      },
      "source": [
        "kb = 1.38064852E-23 # J/K, boltzmann constant\r\n",
        "lambda_char = 100*1E-9 # m, 100 nm characteristic retardation wavelength ~ ionization wavelength\r\n",
        "e_0 = 8.85418782E-12 # F/m\r\n",
        "e_r = 78.4 # relative permittivity of water\r\n",
        "e_coulomb = 1.602176634E-19 # C \r\n",
        "T = 298 # K\r\n",
        "Na = 6.022E23 #/mol, Avogadro"
      ],
      "execution_count": 2,
      "outputs": []
    },
    {
      "cell_type": "markdown",
      "metadata": {
        "id": "CeQxNTfRuyT6"
      },
      "source": [
        "## Plot the VdW interaction potential for varying separation particle sizes\r\n",
        "* Van der Waals interaction constants from Israelachvili, J.N., Intermolecular and Surface Forces, Third Edition 2011\r\n"
      ]
    },
    {
      "cell_type": "code",
      "metadata": {
        "colab": {
          "base_uri": "https://localhost:8080/",
          "height": 320
        },
        "id": "6lZ8bZ1CkML3",
        "outputId": "71cddd2c-87da-44d6-daef-ecb8c76f7d5c"
      },
      "source": [
        "# Define a function for calcuating VdW forces\r\n",
        "def calc_vdw(h_min, h_max, r_np_calc, A_vdw, lambda_ion):\r\n",
        "  h_calc = np.linspace(h_min, h_max, 1000)*1E-9 # m\r\n",
        "  r_calc = r_np_calc*1E-9 # converts nm to m\r\n",
        "  phi_vdw_calc = (-A_vdw*r_calc*(1 + 14*h_calc/lambda_ion)**(-1))/(6*h_calc) # J\r\n",
        "  return h_calc, phi_vdw_calc # returns m, J\r\n",
        "\r\n",
        "# Use combination rule to estimate Hamaker Constant, A_eff\r\n",
        "A_ps = np.mean([6.6E-20, 7.9E-20])  # J\r\n",
        "A_h2o = np.mean([3.7E-20, 5.5E-20]) # J\r\n",
        "A_sio2 = np.mean([5E-20, 6E-20]) # J\r\n",
        "A_eff = (np.sqrt(A_ps) - np.sqrt(A_h2o))*(np.sqrt(A_sio2) - np.sqrt(A_h2o)) # J\r\n",
        "print(f'A_eff = {A_eff} J')\r\n",
        "\r\n",
        "# define constants\r\n",
        "r_np = [1,10,100, 1000] #test  differnt parictle diameters, nm\r\n",
        "sep_min = 0.001 # nm\r\n",
        "sep_max = 10 # nm\r\n",
        "kT = kb*T\r\n",
        "for i, value in enumerate(r_np):\r\n",
        "  h, phi_vdw = calc_vdw(h_min = sep_min, h_max = sep_max, r_np_calc = value, A_vdw=A_eff, lambda_ion = lambda_char)\r\n",
        "  plt.plot(h*1E9, phi_vdw/kT, color =  plt.cm.Greys((1/len(r_np))*(i+1)), label = ('Particle Radius = ' + str(value) + ' nm'))\r\n",
        "  plt.legend()\r\n",
        "plt.ylim([-10,10])\r\n",
        "plt.xlabel('Separation Distance [nm]')\r\n",
        "plt.ylabel(r'$\\frac{\\phi_{VdW}}{k_{b}T}$', fontsize=18)"
      ],
      "execution_count": 3,
      "outputs": [
        {
          "output_type": "stream",
          "text": [
            "A_eff = 1.0980904698146341e-21 J\n"
          ],
          "name": "stdout"
        },
        {
          "output_type": "execute_result",
          "data": {
            "text/plain": [
              "Text(0, 0.5, '$\\\\frac{\\\\phi_{VdW}}{k_{b}T}$')"
            ]
          },
          "metadata": {
            "tags": []
          },
          "execution_count": 3
        },
        {
          "output_type": "display_data",
          "data": {
            "image/png": "[encoded data removed]",
            "text/plain": [
              "<Figure size 432x288 with 1 Axes>"
            ]
          },
          "metadata": {
            "tags": [],
            "needs_background": "light"
          }
        }
      ]
    },
    {
      "cell_type": "markdown",
      "metadata": {
        "id": "BtQnYHvuOSmI"
      },
      "source": [
        "# Plot the Electric Double Layer ion concentration profile for varying salt concentration"
      ]
    },
    {
      "cell_type": "code",
      "metadata": {
        "colab": {
          "base_uri": "https://localhost:8080/",
          "height": 448
        },
        "id": "6xO5EVM1Oix6",
        "outputId": "80ce9cd8-a044-48e8-8669-6db6891d1a97"
      },
      "source": [
        "# Define a function for calcuating EDL forces\r\n",
        "def calc_edl(h_min, h_max, r_np_calc, c_s_bulk_calc, z_ion_calc, psi_p_calc, psi_s_calc):\r\n",
        "  psi_p_calc = psi_p_calc*1E-3 # converts mV to volts\r\n",
        "  psi_s_calc = psi_s_calc*1E-3 # converts mV to volts\r\n",
        "  h_calc = np.linspace(h_min, h_max, 1000)*1E-9 # m\r\n",
        "  r_calc = r_np_calc*1E-9 # converts nm to m\r\n",
        "  debye_param_calc = np.sqrt(2*(1000*c_s_bulk_calc*Na*e_coulomb**2*z_ion_calc**2)/(e_0*e_r*kb*T)) # m^-1\r\n",
        "  # From Lee et. al\r\n",
        "  phi_edl_calc = (((64*np.pi*e_r*e_0)/debye_param_calc)*\r\n",
        "                  (kb*T/(z_ion_calc*e_coulomb))**2*\r\n",
        "                  np.tanh(z_ion_calc*e_coulomb*psi_s_calc/(4*kb*T))*\r\n",
        "                  np.tanh(z_ion_calc*e_coulomb*psi_p_calc/(4*kb*T))*\r\n",
        "                  ((debye_param_calc*r_calc - 1)*np.exp(-debye_param_calc*h_calc) + (debye_param_calc*r_calc + 1)*np.exp(-debye_param_calc*(h_calc+2*r_calc)))\r\n",
        "                  )\r\n",
        "  # from Adsorption and Desorption of Particles and Their Chromatographic Separation, Ruckenstein, Eli Prieve, Dennis C., AIChE Journal 1976\r\n",
        "  # phi_edl_calc = (16*e_r*(kb*T/e_coulomb)**2*\r\n",
        "  #                 r_calc*\r\n",
        "  #                 np.tanh(z_ion_calc*e_coulomb*psi_s_calc/(4*kb*T))*\r\n",
        "  #                 np.tanh(z_ion_calc*e_coulomb*psi_p_calc/(4*kb*T))*\r\n",
        "  #                 np.exp(-debye_param_calc*h_calc)\r\n",
        "  #                 )\r\n",
        "  print(f'Debye Length for [NaCl]={c_s_bulk_calc} M is {1/debye_param_calc*1E9} nm')\r\n",
        "  print(f'k*r_np is {debye_param_calc*r_calc}')\r\n",
        "  return h_calc, phi_edl_calc # returns m, J\r\n",
        "\r\n",
        "r_np = 10 # nm\r\n",
        "psi_s = -25# mV\r\n",
        "psi_p = -25 # mV\r\n",
        "z = 1 # salt valency - 1 for monovalent salt like NaCl\r\n",
        "c_salt = [0.001, 0.01, 0.1, 1] # concentration of salt in the bulk soltuion in mol/L\r\n",
        "kT = kb*T\r\n",
        "# define constants\r\n",
        "sep_min = 0.001 # nm\r\n",
        "sep_max = 10 # nm\r\n",
        "kT = kb*T\r\n",
        "for i, value in enumerate(c_salt):\r\n",
        "  h, phi_edl = calc_edl(h_min=sep_min, h_max=sep_max, r_np_calc=r_np, c_s_bulk_calc=value, z_ion_calc=z, psi_p_calc=psi_p, psi_s_calc=psi_s)\r\n",
        "  plt.plot(h*1E9, phi_edl/kT, color =  plt.cm.Greys((1/len(c_salt))*(i+1)), label = ('Salt Concentration = ' + str(value) + ' M'))\r\n",
        "plt.legend(fontsize=12)\r\n",
        "plt.ylim([-10,10])\r\n",
        "# plt.title('EDL for 100 nm PS particle in NaCl')\r\n",
        "plt.xlabel('Separation Distance [nm]')\r\n",
        "plt.ylabel(r'$\\frac{\\phi_{EDL}}{k_{b}T}$', fontsize=18)"
      ],
      "execution_count": 4,
      "outputs": [
        {
          "output_type": "stream",
          "text": [
            "Debye Length for [NaCl]=0.001 M is 9.611392816745983 nm\n",
            "k*r_np is 1.04043193225616\n",
            "Debye Length for [NaCl]=0.01 M is 3.0393892787498658 nm\n",
            "k*r_np is 3.2901346562994753\n",
            "Debye Length for [NaCl]=0.1 M is 0.9611392816745984 nm\n",
            "k*r_np is 10.4043193225616\n",
            "Debye Length for [NaCl]=1 M is 0.30393892787498655 nm\n",
            "k*r_np is 32.90134656299475\n"
          ],
          "name": "stdout"
        },
        {
          "output_type": "execute_result",
          "data": {
            "text/plain": [
              "Text(0, 0.5, '$\\\\frac{\\\\phi_{EDL}}{k_{b}T}$')"
            ]
          },
          "metadata": {
            "tags": []
          },
          "execution_count": 4
        },
        {
          "output_type": "display_data",
          "data": {
            "image/png": "[encoded data removed]",
            "text/plain": [
              "<Figure size 432x288 with 1 Axes>"
            ]
          },
          "metadata": {
            "tags": [],
            "needs_background": "light"
          }
        }
      ]
    },
    {
      "cell_type": "markdown",
      "metadata": {
        "id": "cQNDG0FKIGIb"
      },
      "source": [
        "## VdW Interaction potentials have a minimum at -inf as the separation between particle and substrate approaches 0. This is clearly non-physical. In real experiments (ignoring molecular complications of the continuum assumption breakdown), repulsive forces (solvation, steric hidrances from polymers layers) increase the interaction potential as a particle approceas the surface. To account for this, Lee .et *al* model short range repulsion (Pauli exclusion) from overlapping molecular orbitals via a Born Repulsion term with a potential shown below. It is based on a Hamaker type summation of the molecular expression of the Born repulsion following a distance dependency of h−12 for the sphere-plate geometry"
      ]
    },
    {
      "cell_type": "code",
      "metadata": {
        "colab": {
          "base_uri": "https://localhost:8080/",
          "height": 294
        },
        "id": "-LwG5CAiIGab",
        "outputId": "3754f9cf-1ef3-4508-9c53-d6f3782ce555"
      },
      "source": [
        "def calc_born_rep(h_min, h_max, A_vdw, sigma_collision, r_np_calc):\r\n",
        "  h_calc = np.linspace(h_min, h_max, 1000)*1E-9 # m\r\n",
        "  r_calc = r_np_calc*1E-9 # converts nm to m\r\n",
        "  sigma_calc = sigma_collision*1E-9 # converts nm to m\r\n",
        "  phi_born_calc = ((A_vdw*sigma_calc**6/7560)*\r\n",
        "                   ((8*r_calc + h_calc)/((2*r_calc + h_calc)**7) + (6*r_calc - h_calc)/(h_calc**7))\r\n",
        "                  )\r\n",
        "  return h_calc, phi_born_calc\r\n",
        "\r\n",
        "r_np = 10 # nm\r\n",
        "sep_min = 0.001 # nm\r\n",
        "sep_max = 100 # nm\r\n",
        "sigma_collision = 0.7\r\n",
        "kT = kb*T\r\n",
        "h, phi_born = calc_born_rep(h_min=sep_min, h_max=sep_max, A_vdw=A_eff, r_np_calc=r_np, sigma_collision=sigma_collision)\r\n",
        "plt.plot(h*1E9, phi_born/kT, 'k', label = ('Born Repulsion'))\r\n",
        "#plt.ylim([0,10000])"
      ],
      "execution_count": 38,
      "outputs": [
        {
          "output_type": "execute_result",
          "data": {
            "text/plain": [
              "[<matplotlib.lines.Line2D at 0x7fec9a40ffd0>]"
            ]
          },
          "metadata": {
            "tags": []
          },
          "execution_count": 38
        },
        {
          "output_type": "display_data",
          "data": {
            "image/png": "[encoded data removed]",
            "text/plain": [
              "<Figure size 432x288 with 1 Axes>"
            ]
          },
          "metadata": {
            "tags": [],
            "needs_background": "light"
          }
        }
      ]
    },
    {
      "cell_type": "markdown",
      "metadata": {
        "id": "frVCnlRcK7d8"
      },
      "source": [
        "# Interactively plot the competition between all of them, with option to change any parameters"
      ]
    },
    {
      "cell_type": "code",
      "metadata": {
        "colab": {
          "base_uri": "https://localhost:8080/",
          "height": 643,
          "referenced_widgets": [
            "a8a3bfe06e49484d86416eadf802b9c0",
            "3ccce92a776f4f9296c7cb9329533105",
            "5a1972be193f4c1791a35a231a1f43ca",
            "774de8041118400ebaaf736094176ba4",
            "0d3c959b557a45e78e14d92388802a96",
            "4b5d77a61a8c495781aacf4ba04c806c",
            "4e09fb5659ee42398f76b3a32aa94060",
            "1226cb4ae16d45c987453b8c00a2178b",
            "253ebf31dfbd465b966e900e602ae66f",
            "7ceb541bcf1343f798940660a1371642",
            "fb0c1e917333482d8cbacf1ae475d862",
            "008f5e9404ca45a3ac89052219431a89",
            "fea32123230541aabf141be25d81b82a",
            "6fbaa44cb20e4fc49a9f7c5e521ab6f8",
            "030479196b6e48aa94f52bb4442ae6af",
            "8ba1474b649141c3a9fb4fc66f19f2cc",
            "3295af39f605409a93fd8fcb5b27f576",
            "2dba9ec3744744468b60aab0881c47ae",
            "0597966ac84f41ba8888e35d7ac21353",
            "4d3a50fd83da49d58d326212cfedd937",
            "3b6afc1a0e314c5ea4918d5597b730e3",
            "e4a1feb09cbb4177a3b1104cad68c30d",
            "52f47e328ade4a4e90310dff38f62408",
            "2152e2a32b784aab9118d50a0e25d856",
            "a3401d30b75247f78a9395f901f2b36b",
            "90b297c21c464bfea312125e1deb87fa",
            "dcb73ebe8d1b47edbf60a942a05f4b51",
            "f37cb1e190324f35b3fd988124914ae8",
            "d3e1bd869840401db731fcbc3fa688c1",
            "420020bc8caa4b6cacd6c84eb3e2f071",
            "01b90c6d8a21465288fd6bcbf8177673",
            "f0a1a95a6248489ba4fefb024f811839",
            "f44ffd473b3744599a5521b1a47a1bd5",
            "a2cbf6169b044898b249046248d56865"
          ]
        },
        "id": "UEzZspI0G6E5",
        "outputId": "5db28fd3-c382-49a3-91e2-0140e8618bc9"
      },
      "source": [
        "def interactive_potential(h_min_int,\r\n",
        "                          h_max_int,\r\n",
        "                          r_np_calc_int,\r\n",
        "                          A_vdw_int,\r\n",
        "                          psi_p_calc_int,\r\n",
        "                          psi_s_calc_int,\r\n",
        "                          c_s_bulk_calc_int,\r\n",
        "                          sigma_collision_int,\r\n",
        "                          y_plot_min_int,\r\n",
        "                          y_plot_max_int):\r\n",
        "  \r\n",
        "  h_vdw, phi_vdw = calc_vdw(h_min = h_min_int, \r\n",
        "                            h_max = h_max_int, \r\n",
        "                            r_np_calc = r_np_calc_int, \r\n",
        "                            A_vdw=A_vdw_int*1E-20, \r\n",
        "                            lambda_ion = lambda_char)\r\n",
        "\r\n",
        "  h_edl, phi_edl = calc_edl(h_min=h_min_int,\r\n",
        "                            h_max=h_max_int,\r\n",
        "                            r_np_calc=r_np_calc_int, \r\n",
        "                            c_s_bulk_calc=c_s_bulk_calc_int, \r\n",
        "                            z_ion_calc=1, \r\n",
        "                            psi_p_calc=psi_p_calc_int, \r\n",
        "                            psi_s_calc=psi_s_calc_int)\r\n",
        "  \r\n",
        "  h_born, phi_born = calc_born_rep(h_min=h_min_int,\r\n",
        "                                   h_max=h_max_int, \r\n",
        "                                   A_vdw = A_vdw_int*1E-20, \r\n",
        "                                   sigma_collision=sigma_collision_int,\r\n",
        "                                   r_np_calc=r_np_calc_int)\r\n",
        "  \r\n",
        "  phi_total = phi_born + phi_edl + phi_vdw\r\n",
        "\r\n",
        "  plt.plot(h_vdw*1E9, phi_vdw/kT, 'k', linestyle='dotted', label='VdW')\r\n",
        "  plt.plot(h_vdw*1E9, phi_edl/kT, 'k', linestyle='dashed', label='EDL')\r\n",
        "  plt.plot(h_vdw*1E9, phi_born/kT, 'k', linestyle='dashdot', label='Born')\r\n",
        "  plt.plot(h_vdw*1E9, phi_total/kT, 'k', linestyle='solid', label='Total')\r\n",
        "  plt.xlabel('Separation Distance (nm)')\r\n",
        "  plt.ylabel(r'$\\frac{\\phi}{k_{b}T}$', fontsize=18)\r\n",
        "  plt.ylim([y_plot_min_int, y_plot_max_int])\r\n",
        "  plt.legend()\r\n",
        "style = {'description_width': 'initial'}\r\n",
        "interactive_potential_plot = interactive(interactive_potential, \r\n",
        "                                         h_min_int= FloatText(value=0.001,min=0.001, description='Separation Range Minimum [nm]', continuous_update=True, style=style),\r\n",
        "                                         h_max_int= FloatText(value=10.0, description='Separation Range Maximum [nm]', continuous_update=True, style=style),\r\n",
        "                                         r_np_calc_int = FloatSlider(value = r_np, min=1.0, max=100.0, step=1, description='Particle Radius (nm)', continuous_update=True, style=style),\r\n",
        "                                         A_vdw_int = FloatSlider(value = A_eff, min=0.1, max=10, step=0.1, description='Hamaker Constant (10^-20 J)', continuous_update=True, style=style),\r\n",
        "                                         psi_p_calc_int = FloatSlider(value = psi_p, min=-100, max=100, step=1, description='Particle Potential (mV)', continuous_update=True, style=style),\r\n",
        "                                         psi_s_calc_int = FloatSlider(value = psi_s, min=-100, max=100, step=1, description='Substrate Potential (mV)', continuous_update=True, style=style),\r\n",
        "                                         c_s_bulk_calc_int = FloatSlider(value = 0.001, min=0, max=1.0, step=0.01, description='[NaCl](M)', continuous_update=True, style=style),\r\n",
        "                                         sigma_collision_int = FloatSlider(value = 0.5, min=0, max=2.0, step=0.1, description='Born Collision Diamete [nm]', continuous_update=True, style=style),\r\n",
        "                                         y_plot_min_int = FloatText(value=-10, description='Plot kT Range Minimum', continuous_update=True, style=style),\r\n",
        "                                         y_plot_max_int = FloatText(value=10, description='Plot kT Range Maximum', continuous_update=True, style=style)\r\n",
        "                                         )\r\n",
        "\r\n",
        "output = interactive_potential_plot.children[-1]\r\n",
        "interactive_potential_plot"
      ],
      "execution_count": 39,
      "outputs": [
        {
          "output_type": "display_data",
          "data": {
            "application/vnd.jupyter.widget-view+json": {
              "model_id": "a8a3bfe06e49484d86416eadf802b9c0",
              "version_minor": 0,
              "version_major": 2
            },
            "text/plain": [
              "interactive(children=(FloatText(value=0.001, continuous_update=True, description='Separation Range Minimum [nm…"
            ]
          },
          "metadata": {
            "tags": []
          }
        }
      ]
    },
    {
      "cell_type": "code",
      "metadata": {
        "colab": {
          "base_uri": "https://localhost:8080/"
        },
        "id": "5_eBSYcYKJlU",
        "outputId": "fbd40572-9124-4b92-f1c9-44d760c05010"
      },
      "source": [
        "interactive_potential_plot.close"
      ],
      "execution_count": 12,
      "outputs": [
        {
          "output_type": "execute_result",
          "data": {
            "text/plain": [
              "<bound method Widget.close of interactive(children=(FloatText(value=0.001, continuous_update=True, description='Separation Range Minimum [nm]'), FloatText(value=10.0, continuous_update=True, description='Separation Range Maximum [nm]'), FloatSlider(value=10.0, description='Particle Radius (nm)', min=1.0, step=1.0), FloatSlider(value=0.1, description='Hamaker Constant (10^-20 J)', max=10.0, min=0.1), FloatSlider(value=-25.0, description='Particle Potential (mV)', min=-100.0, step=1.0), FloatSlider(value=-25.0, description='Substrate Potential (mV)', min=-100.0, step=1.0), FloatSlider(value=0.001, description='[NaCl](M)', max=1.0, step=0.01), FloatSlider(value=0.5, description='Born Collision Diamete [nm]', max=2.0), FloatText(value=-10.0, continuous_update=True, description='Plot kT Range Minimum'), FloatText(value=10.0, continuous_update=True, description='Plot kT Range Maximum'), Output()), _dom_classes=('widget-interact',))>"
            ]
          },
          "metadata": {
            "tags": []
          },
          "execution_count": 12
        }
      ]
    },
    {
      "cell_type": "code",
      "metadata": {
        "id": "TXL10I0VKrgL"
      },
      "source": [
        ""
      ],
      "execution_count": null,
      "outputs": []
    }
  ]
}