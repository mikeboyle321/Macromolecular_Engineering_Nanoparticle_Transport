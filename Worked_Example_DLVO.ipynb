{
  "nbformat": 4,
  "nbformat_minor": 0,
  "metadata": {
    "colab": {
      "name": "Worked_Example_DLVO.ipynb",
      "provenance": [],
      "collapsed_sections": [],
      "authorship_tag": "ABX9TyMwq6GgMp4Xc8xY15Lft48A",
      "include_colab_link": true
    },
    "kernelspec": {
      "name": "python3",
      "display_name": "Python 3"
    },
    "widgets": {
      "application/vnd.jupyter.widget-state+json": {
        "8fbc7d6ead364f158287218d95dcf6da": {
          "model_module": "@jupyter-widgets/controls",
          "model_name": "VBoxModel",
          "state": {
            "_view_name": "VBoxView",
            "_dom_classes": [
              "widget-interact"
            ],
            "_model_name": "VBoxModel",
            "_view_module": "@jupyter-widgets/controls",
            "_model_module_version": "1.5.0",
            "_view_count": null,
            "_view_module_version": "1.5.0",
            "box_style": "",
            "layout": "IPY_MODEL_e3e612d916864127ba166b7e222591c4",
            "_model_module": "@jupyter-widgets/controls",
            "children": [
              "IPY_MODEL_a01b1c8cab844236ac7f6df6739b63e9",
              "IPY_MODEL_b934dc6a72c74cfca8e24ba933522d9b",
              "IPY_MODEL_1a7947c08df74c80bc2490b102df45fb",
              "IPY_MODEL_aecb2b4d52a24fc8a9467f24cbe50a19",
              "IPY_MODEL_486bb3e2011f49d88003f00f5d80281b",
              "IPY_MODEL_b44967d26edf4ee9ae277da4c919fc6b",
              "IPY_MODEL_df1c60864f534adca9614e226b02b220",
              "IPY_MODEL_c22fd13f2e42499e82898a632595a5be",
              "IPY_MODEL_18963166f0ca4808932edb2301ba99e3",
              "IPY_MODEL_2f0fcd8b164d40708820aa39dffaa213",
              "IPY_MODEL_a5138b54aca44133bae94a7fd415a1bc"
            ]
          }
        },
        "e3e612d916864127ba166b7e222591c4": {
          "model_module": "@jupyter-widgets/base",
          "model_name": "LayoutModel",
          "state": {
            "_view_name": "LayoutView",
            "grid_template_rows": null,
            "right": null,
            "justify_content": null,
            "_view_module": "@jupyter-widgets/base",
            "overflow": null,
            "_model_module_version": "1.2.0",
            "_view_count": null,
            "flex_flow": null,
            "width": null,
            "min_width": null,
            "border": null,
            "align_items": null,
            "bottom": null,
            "_model_module": "@jupyter-widgets/base",
            "top": null,
            "grid_column": null,
            "overflow_y": null,
            "overflow_x": null,
            "grid_auto_flow": null,
            "grid_area": null,
            "grid_template_columns": null,
            "flex": null,
            "_model_name": "LayoutModel",
            "justify_items": null,
            "grid_row": null,
            "max_height": null,
            "align_content": null,
            "visibility": null,
            "align_self": null,
            "height": null,
            "min_height": null,
            "padding": null,
            "grid_auto_rows": null,
            "grid_gap": null,
            "max_width": null,
            "order": null,
            "_view_module_version": "1.2.0",
            "grid_template_areas": null,
            "object_position": null,
            "object_fit": null,
            "grid_auto_columns": null,
            "margin": null,
            "display": null,
            "left": null
          }
        },
        "a01b1c8cab844236ac7f6df6739b63e9": {
          "model_module": "@jupyter-widgets/controls",
          "model_name": "FloatTextModel",
          "state": {
            "_view_name": "FloatTextView",
            "style": "IPY_MODEL_a0bba985e1504cab908129ad8bf937bb",
            "_dom_classes": [],
            "description": "Separation Range Minimum [nm]",
            "_model_name": "FloatTextModel",
            "_view_module": "@jupyter-widgets/controls",
            "_model_module_version": "1.5.0",
            "value": 0.001,
            "_view_count": null,
            "disabled": false,
            "_view_module_version": "1.5.0",
            "continuous_update": true,
            "step": null,
            "description_tooltip": null,
            "_model_module": "@jupyter-widgets/controls",
            "layout": "IPY_MODEL_f6183d50dc2b491c97389b2545980ee9"
          }
        },
        "b934dc6a72c74cfca8e24ba933522d9b": {
          "model_module": "@jupyter-widgets/controls",
          "model_name": "FloatTextModel",
          "state": {
            "_view_name": "FloatTextView",
            "style": "IPY_MODEL_2aa2a5e31678479ab86497906ac3039d",
            "_dom_classes": [],
            "description": "Separation Range Maximum [nm]",
            "_model_name": "FloatTextModel",
            "_view_module": "@jupyter-widgets/controls",
            "_model_module_version": "1.5.0",
            "value": 10,
            "_view_count": null,
            "disabled": false,
            "_view_module_version": "1.5.0",
            "continuous_update": true,
            "step": null,
            "description_tooltip": null,
            "_model_module": "@jupyter-widgets/controls",
            "layout": "IPY_MODEL_6b05cac4daaa43e7b9cf70aeb9290606"
          }
        },
        "1a7947c08df74c80bc2490b102df45fb": {
          "model_module": "@jupyter-widgets/controls",
          "model_name": "FloatSliderModel",
          "state": {
            "_view_name": "FloatSliderView",
            "style": "IPY_MODEL_04946cbec5d14a72a58f124b860b4dc2",
            "_dom_classes": [],
            "description": "Particle Radius (nm)",
            "step": 1,
            "_model_name": "FloatSliderModel",
            "orientation": "horizontal",
            "max": 100,
            "_view_module": "@jupyter-widgets/controls",
            "_model_module_version": "1.5.0",
            "value": 20,
            "_view_count": null,
            "disabled": false,
            "_view_module_version": "1.5.0",
            "min": 1,
            "continuous_update": true,
            "readout_format": ".2f",
            "description_tooltip": null,
            "readout": true,
            "_model_module": "@jupyter-widgets/controls",
            "layout": "IPY_MODEL_37c71dd2ce344b5a8cd37879182dbe19"
          }
        },
        "aecb2b4d52a24fc8a9467f24cbe50a19": {
          "model_module": "@jupyter-widgets/controls",
          "model_name": "FloatSliderModel",
          "state": {
            "_view_name": "FloatSliderView",
            "style": "IPY_MODEL_2d4192c3a21248d4b0396851a233397a",
            "_dom_classes": [],
            "description": "Hamaker Constant (10^-20 J)",
            "step": 0.1,
            "_model_name": "FloatSliderModel",
            "orientation": "horizontal",
            "max": 100,
            "_view_module": "@jupyter-widgets/controls",
            "_model_module_version": "1.5.0",
            "value": 1.5,
            "_view_count": null,
            "disabled": false,
            "_view_module_version": "1.5.0",
            "min": 0.1,
            "continuous_update": true,
            "readout_format": ".2f",
            "description_tooltip": null,
            "readout": true,
            "_model_module": "@jupyter-widgets/controls",
            "layout": "IPY_MODEL_78531e9eb6a6420d81d044056cd7475b"
          }
        },
        "486bb3e2011f49d88003f00f5d80281b": {
          "model_module": "@jupyter-widgets/controls",
          "model_name": "FloatSliderModel",
          "state": {
            "_view_name": "FloatSliderView",
            "style": "IPY_MODEL_4bfae8f759174773804008ce5bfb3c32",
            "_dom_classes": [],
            "description": "Particle Potential (mV)",
            "step": 1,
            "_model_name": "FloatSliderModel",
            "orientation": "horizontal",
            "max": 100,
            "_view_module": "@jupyter-widgets/controls",
            "_model_module_version": "1.5.0",
            "value": -28,
            "_view_count": null,
            "disabled": false,
            "_view_module_version": "1.5.0",
            "min": -100,
            "continuous_update": true,
            "readout_format": ".2f",
            "description_tooltip": null,
            "readout": true,
            "_model_module": "@jupyter-widgets/controls",
            "layout": "IPY_MODEL_8b92c6943897406d99627634398d6353"
          }
        },
        "b44967d26edf4ee9ae277da4c919fc6b": {
          "model_module": "@jupyter-widgets/controls",
          "model_name": "FloatSliderModel",
          "state": {
            "_view_name": "FloatSliderView",
            "style": "IPY_MODEL_5a79e559e97f400c870a57ec04ef7d75",
            "_dom_classes": [],
            "description": "Substrate Potential (mV)",
            "step": 1,
            "_model_name": "FloatSliderModel",
            "orientation": "horizontal",
            "max": 100,
            "_view_module": "@jupyter-widgets/controls",
            "_model_module_version": "1.5.0",
            "value": -28,
            "_view_count": null,
            "disabled": false,
            "_view_module_version": "1.5.0",
            "min": -100,
            "continuous_update": true,
            "readout_format": ".2f",
            "description_tooltip": null,
            "readout": true,
            "_model_module": "@jupyter-widgets/controls",
            "layout": "IPY_MODEL_9967563d53894573810b659835349526"
          }
        },
        "df1c60864f534adca9614e226b02b220": {
          "model_module": "@jupyter-widgets/controls",
          "model_name": "FloatSliderModel",
          "state": {
            "_view_name": "FloatSliderView",
            "style": "IPY_MODEL_4c0a3d79a6e747e89041144f23b9ee92",
            "_dom_classes": [],
            "description": "[NaCl](M)",
            "step": 0.01,
            "_model_name": "FloatSliderModel",
            "orientation": "horizontal",
            "max": 1,
            "_view_module": "@jupyter-widgets/controls",
            "_model_module_version": "1.5.0",
            "value": 0.01,
            "_view_count": null,
            "disabled": false,
            "_view_module_version": "1.5.0",
            "min": 0,
            "continuous_update": true,
            "readout_format": ".5f",
            "description_tooltip": null,
            "readout": true,
            "_model_module": "@jupyter-widgets/controls",
            "layout": "IPY_MODEL_24d9f2b72370484c8cc91483b4c8be63"
          }
        },
        "c22fd13f2e42499e82898a632595a5be": {
          "model_module": "@jupyter-widgets/controls",
          "model_name": "FloatSliderModel",
          "state": {
            "_view_name": "FloatSliderView",
            "style": "IPY_MODEL_840e3c482b1a4f5f90a9f4cc3dc33d63",
            "_dom_classes": [],
            "description": "Born Collision Diamete [nm]",
            "step": 0.1,
            "_model_name": "FloatSliderModel",
            "orientation": "horizontal",
            "max": 2,
            "_view_module": "@jupyter-widgets/controls",
            "_model_module_version": "1.5.0",
            "value": 0.4,
            "_view_count": null,
            "disabled": false,
            "_view_module_version": "1.5.0",
            "min": 0,
            "continuous_update": true,
            "readout_format": ".2f",
            "description_tooltip": null,
            "readout": true,
            "_model_module": "@jupyter-widgets/controls",
            "layout": "IPY_MODEL_e87ef956fa8f468fb784abfb960a5d21"
          }
        },
        "18963166f0ca4808932edb2301ba99e3": {
          "model_module": "@jupyter-widgets/controls",
          "model_name": "FloatTextModel",
          "state": {
            "_view_name": "FloatTextView",
            "style": "IPY_MODEL_f1ed3aebb38a4ed8a51594829679e519",
            "_dom_classes": [],
            "description": "Plot kT Range Minimum",
            "_model_name": "FloatTextModel",
            "_view_module": "@jupyter-widgets/controls",
            "_model_module_version": "1.5.0",
            "value": -100,
            "_view_count": null,
            "disabled": false,
            "_view_module_version": "1.5.0",
            "continuous_update": true,
            "step": null,
            "description_tooltip": null,
            "_model_module": "@jupyter-widgets/controls",
            "layout": "IPY_MODEL_2d376d72b64c467c9d397fca0f93376a"
          }
        },
        "2f0fcd8b164d40708820aa39dffaa213": {
          "model_module": "@jupyter-widgets/controls",
          "model_name": "FloatTextModel",
          "state": {
            "_view_name": "FloatTextView",
            "style": "IPY_MODEL_ec51e3e3b3e64a6090ff260636ed3845",
            "_dom_classes": [],
            "description": "Plot kT Range Maximum",
            "_model_name": "FloatTextModel",
            "_view_module": "@jupyter-widgets/controls",
            "_model_module_version": "1.5.0",
            "value": 100,
            "_view_count": null,
            "disabled": false,
            "_view_module_version": "1.5.0",
            "continuous_update": true,
            "step": null,
            "description_tooltip": null,
            "_model_module": "@jupyter-widgets/controls",
            "layout": "IPY_MODEL_132b7bb86cea4d1394f6573a8220c4e4"
          }
        },
        "a5138b54aca44133bae94a7fd415a1bc": {
          "model_module": "@jupyter-widgets/output",
          "model_name": "OutputModel",
          "state": {
            "_view_name": "OutputView",
            "msg_id": "",
            "_dom_classes": [],
            "_model_name": "OutputModel",
            "outputs": [
              {
                "output_type": "stream",
                "metadata": {
                  "tags": []
                },
                "text": "Debye Length for [NaCl]=0.01 M is 3.0393892787498658 nm\nk*r_np is 6.580269312598951\n",
                "stream": "stdout"
              },
              {
                "output_type": "display_data",
                "metadata": {
                  "tags": [],
                  "needs_background": "light"
                },
                "image/png": "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\n",
                "text/plain": "<Figure size 432x288 with 1 Axes>"
              }
            ],
            "_view_module": "@jupyter-widgets/output",
            "_model_module_version": "1.0.0",
            "_view_count": null,
            "_view_module_version": "1.0.0",
            "layout": "IPY_MODEL_47d4c48b3cfe4e09a617126d28ddef6b",
            "_model_module": "@jupyter-widgets/output"
          }
        },
        "a0bba985e1504cab908129ad8bf937bb": {
          "model_module": "@jupyter-widgets/controls",
          "model_name": "DescriptionStyleModel",
          "state": {
            "_view_name": "StyleView",
            "_model_name": "DescriptionStyleModel",
            "description_width": "initial",
            "_view_module": "@jupyter-widgets/base",
            "_model_module_version": "1.5.0",
            "_view_count": null,
            "_view_module_version": "1.2.0",
            "_model_module": "@jupyter-widgets/controls"
          }
        },
        "f6183d50dc2b491c97389b2545980ee9": {
          "model_module": "@jupyter-widgets/base",
          "model_name": "LayoutModel",
          "state": {
            "_view_name": "LayoutView",
            "grid_template_rows": null,
            "right": null,
            "justify_content": null,
            "_view_module": "@jupyter-widgets/base",
            "overflow": null,
            "_model_module_version": "1.2.0",
            "_view_count": null,
            "flex_flow": null,
            "width": null,
            "min_width": null,
            "border": null,
            "align_items": null,
            "bottom": null,
            "_model_module": "@jupyter-widgets/base",
            "top": null,
            "grid_column": null,
            "overflow_y": null,
            "overflow_x": null,
            "grid_auto_flow": null,
            "grid_area": null,
            "grid_template_columns": null,
            "flex": null,
            "_model_name": "LayoutModel",
            "justify_items": null,
            "grid_row": null,
            "max_height": null,
            "align_content": null,
            "visibility": null,
            "align_self": null,
            "height": null,
            "min_height": null,
            "padding": null,
            "grid_auto_rows": null,
            "grid_gap": null,
            "max_width": null,
            "order": null,
            "_view_module_version": "1.2.0",
            "grid_template_areas": null,
            "object_position": null,
            "object_fit": null,
            "grid_auto_columns": null,
            "margin": null,
            "display": null,
            "left": null
          }
        },
        "2aa2a5e31678479ab86497906ac3039d": {
          "model_module": "@jupyter-widgets/controls",
          "model_name": "DescriptionStyleModel",
          "state": {
            "_view_name": "StyleView",
            "_model_name": "DescriptionStyleModel",
            "description_width": "initial",
            "_view_module": "@jupyter-widgets/base",
            "_model_module_version": "1.5.0",
            "_view_count": null,
            "_view_module_version": "1.2.0",
            "_model_module": "@jupyter-widgets/controls"
          }
        },
        "6b05cac4daaa43e7b9cf70aeb9290606": {
          "model_module": "@jupyter-widgets/base",
          "model_name": "LayoutModel",
          "state": {
            "_view_name": "LayoutView",
            "grid_template_rows": null,
            "right": null,
            "justify_content": null,
            "_view_module": "@jupyter-widgets/base",
            "overflow": null,
            "_model_module_version": "1.2.0",
            "_view_count": null,
            "flex_flow": null,
            "width": null,
            "min_width": null,
            "border": null,
            "align_items": null,
            "bottom": null,
            "_model_module": "@jupyter-widgets/base",
            "top": null,
            "grid_column": null,
            "overflow_y": null,
            "overflow_x": null,
            "grid_auto_flow": null,
            "grid_area": null,
            "grid_template_columns": null,
            "flex": null,
            "_model_name": "LayoutModel",
            "justify_items": null,
            "grid_row": null,
            "max_height": null,
            "align_content": null,
            "visibility": null,
            "align_self": null,
            "height": null,
            "min_height": null,
            "padding": null,
            "grid_auto_rows": null,
            "grid_gap": null,
            "max_width": null,
            "order": null,
            "_view_module_version": "1.2.0",
            "grid_template_areas": null,
            "object_position": null,
            "object_fit": null,
            "grid_auto_columns": null,
            "margin": null,
            "display": null,
            "left": null
          }
        },
        "04946cbec5d14a72a58f124b860b4dc2": {
          "model_module": "@jupyter-widgets/controls",
          "model_name": "SliderStyleModel",
          "state": {
            "_view_name": "StyleView",
            "handle_color": null,
            "_model_name": "SliderStyleModel",
            "description_width": "initial",
            "_view_module": "@jupyter-widgets/base",
            "_model_module_version": "1.5.0",
            "_view_count": null,
            "_view_module_version": "1.2.0",
            "_model_module": "@jupyter-widgets/controls"
          }
        },
        "37c71dd2ce344b5a8cd37879182dbe19": {
          "model_module": "@jupyter-widgets/base",
          "model_name": "LayoutModel",
          "state": {
            "_view_name": "LayoutView",
            "grid_template_rows": null,
            "right": null,
            "justify_content": null,
            "_view_module": "@jupyter-widgets/base",
            "overflow": null,
            "_model_module_version": "1.2.0",
            "_view_count": null,
            "flex_flow": null,
            "width": null,
            "min_width": null,
            "border": null,
            "align_items": null,
            "bottom": null,
            "_model_module": "@jupyter-widgets/base",
            "top": null,
            "grid_column": null,
            "overflow_y": null,
            "overflow_x": null,
            "grid_auto_flow": null,
            "grid_area": null,
            "grid_template_columns": null,
            "flex": null,
            "_model_name": "LayoutModel",
            "justify_items": null,
            "grid_row": null,
            "max_height": null,
            "align_content": null,
            "visibility": null,
            "align_self": null,
            "height": null,
            "min_height": null,
            "padding": null,
            "grid_auto_rows": null,
            "grid_gap": null,
            "max_width": null,
            "order": null,
            "_view_module_version": "1.2.0",
            "grid_template_areas": null,
            "object_position": null,
            "object_fit": null,
            "grid_auto_columns": null,
            "margin": null,
            "display": null,
            "left": null
          }
        },
        "2d4192c3a21248d4b0396851a233397a": {
          "model_module": "@jupyter-widgets/controls",
          "model_name": "SliderStyleModel",
          "state": {
            "_view_name": "StyleView",
            "handle_color": null,
            "_model_name": "SliderStyleModel",
            "description_width": "initial",
            "_view_module": "@jupyter-widgets/base",
            "_model_module_version": "1.5.0",
            "_view_count": null,
            "_view_module_version": "1.2.0",
            "_model_module": "@jupyter-widgets/controls"
          }
        },
        "78531e9eb6a6420d81d044056cd7475b": {
          "model_module": "@jupyter-widgets/base",
          "model_name": "LayoutModel",
          "state": {
            "_view_name": "LayoutView",
            "grid_template_rows": null,
            "right": null,
            "justify_content": null,
            "_view_module": "@jupyter-widgets/base",
            "overflow": null,
            "_model_module_version": "1.2.0",
            "_view_count": null,
            "flex_flow": null,
            "width": null,
            "min_width": null,
            "border": null,
            "align_items": null,
            "bottom": null,
            "_model_module": "@jupyter-widgets/base",
            "top": null,
            "grid_column": null,
            "overflow_y": null,
            "overflow_x": null,
            "grid_auto_flow": null,
            "grid_area": null,
            "grid_template_columns": null,
            "flex": null,
            "_model_name": "LayoutModel",
            "justify_items": null,
            "grid_row": null,
            "max_height": null,
            "align_content": null,
            "visibility": null,
            "align_self": null,
            "height": null,
            "min_height": null,
            "padding": null,
            "grid_auto_rows": null,
            "grid_gap": null,
            "max_width": null,
            "order": null,
            "_view_module_version": "1.2.0",
            "grid_template_areas": null,
            "object_position": null,
            "object_fit": null,
            "grid_auto_columns": null,
            "margin": null,
            "display": null,
            "left": null
          }
        },
        "4bfae8f759174773804008ce5bfb3c32": {
          "model_module": "@jupyter-widgets/controls",
          "model_name": "SliderStyleModel",
          "state": {
            "_view_name": "StyleView",
            "handle_color": null,
            "_model_name": "SliderStyleModel",
            "description_width": "initial",
            "_view_module": "@jupyter-widgets/base",
            "_model_module_version": "1.5.0",
            "_view_count": null,
            "_view_module_version": "1.2.0",
            "_model_module": "@jupyter-widgets/controls"
          }
        },
        "8b92c6943897406d99627634398d6353": {
          "model_module": "@jupyter-widgets/base",
          "model_name": "LayoutModel",
          "state": {
            "_view_name": "LayoutView",
            "grid_template_rows": null,
            "right": null,
            "justify_content": null,
            "_view_module": "@jupyter-widgets/base",
            "overflow": null,
            "_model_module_version": "1.2.0",
            "_view_count": null,
            "flex_flow": null,
            "width": null,
            "min_width": null,
            "border": null,
            "align_items": null,
            "bottom": null,
            "_model_module": "@jupyter-widgets/base",
            "top": null,
            "grid_column": null,
            "overflow_y": null,
            "overflow_x": null,
            "grid_auto_flow": null,
            "grid_area": null,
            "grid_template_columns": null,
            "flex": null,
            "_model_name": "LayoutModel",
            "justify_items": null,
            "grid_row": null,
            "max_height": null,
            "align_content": null,
            "visibility": null,
            "align_self": null,
            "height": null,
            "min_height": null,
            "padding": null,
            "grid_auto_rows": null,
            "grid_gap": null,
            "max_width": null,
            "order": null,
            "_view_module_version": "1.2.0",
            "grid_template_areas": null,
            "object_position": null,
            "object_fit": null,
            "grid_auto_columns": null,
            "margin": null,
            "display": null,
            "left": null
          }
        },
        "5a79e559e97f400c870a57ec04ef7d75": {
          "model_module": "@jupyter-widgets/controls",
          "model_name": "SliderStyleModel",
          "state": {
            "_view_name": "StyleView",
            "handle_color": null,
            "_model_name": "SliderStyleModel",
            "description_width": "initial",
            "_view_module": "@jupyter-widgets/base",
            "_model_module_version": "1.5.0",
            "_view_count": null,
            "_view_module_version": "1.2.0",
            "_model_module": "@jupyter-widgets/controls"
          }
        },
        "9967563d53894573810b659835349526": {
          "model_module": "@jupyter-widgets/base",
          "model_name": "LayoutModel",
          "state": {
            "_view_name": "LayoutView",
            "grid_template_rows": null,
            "right": null,
            "justify_content": null,
            "_view_module": "@jupyter-widgets/base",
            "overflow": null,
            "_model_module_version": "1.2.0",
            "_view_count": null,
            "flex_flow": null,
            "width": null,
            "min_width": null,
            "border": null,
            "align_items": null,
            "bottom": null,
            "_model_module": "@jupyter-widgets/base",
            "top": null,
            "grid_column": null,
            "overflow_y": null,
            "overflow_x": null,
            "grid_auto_flow": null,
            "grid_area": null,
            "grid_template_columns": null,
            "flex": null,
            "_model_name": "LayoutModel",
            "justify_items": null,
            "grid_row": null,
            "max_height": null,
            "align_content": null,
            "visibility": null,
            "align_self": null,
            "height": null,
            "min_height": null,
            "padding": null,
            "grid_auto_rows": null,
            "grid_gap": null,
            "max_width": null,
            "order": null,
            "_view_module_version": "1.2.0",
            "grid_template_areas": null,
            "object_position": null,
            "object_fit": null,
            "grid_auto_columns": null,
            "margin": null,
            "display": null,
            "left": null
          }
        },
        "4c0a3d79a6e747e89041144f23b9ee92": {
          "model_module": "@jupyter-widgets/controls",
          "model_name": "SliderStyleModel",
          "state": {
            "_view_name": "StyleView",
            "handle_color": null,
            "_model_name": "SliderStyleModel",
            "description_width": "initial",
            "_view_module": "@jupyter-widgets/base",
            "_model_module_version": "1.5.0",
            "_view_count": null,
            "_view_module_version": "1.2.0",
            "_model_module": "@jupyter-widgets/controls"
          }
        },
        "24d9f2b72370484c8cc91483b4c8be63": {
          "model_module": "@jupyter-widgets/base",
          "model_name": "LayoutModel",
          "state": {
            "_view_name": "LayoutView",
            "grid_template_rows": null,
            "right": null,
            "justify_content": null,
            "_view_module": "@jupyter-widgets/base",
            "overflow": null,
            "_model_module_version": "1.2.0",
            "_view_count": null,
            "flex_flow": null,
            "width": null,
            "min_width": null,
            "border": null,
            "align_items": null,
            "bottom": null,
            "_model_module": "@jupyter-widgets/base",
            "top": null,
            "grid_column": null,
            "overflow_y": null,
            "overflow_x": null,
            "grid_auto_flow": null,
            "grid_area": null,
            "grid_template_columns": null,
            "flex": null,
            "_model_name": "LayoutModel",
            "justify_items": null,
            "grid_row": null,
            "max_height": null,
            "align_content": null,
            "visibility": null,
            "align_self": null,
            "height": null,
            "min_height": null,
            "padding": null,
            "grid_auto_rows": null,
            "grid_gap": null,
            "max_width": null,
            "order": null,
            "_view_module_version": "1.2.0",
            "grid_template_areas": null,
            "object_position": null,
            "object_fit": null,
            "grid_auto_columns": null,
            "margin": null,
            "display": null,
            "left": null
          }
        },
        "840e3c482b1a4f5f90a9f4cc3dc33d63": {
          "model_module": "@jupyter-widgets/controls",
          "model_name": "SliderStyleModel",
          "state": {
            "_view_name": "StyleView",
            "handle_color": null,
            "_model_name": "SliderStyleModel",
            "description_width": "initial",
            "_view_module": "@jupyter-widgets/base",
            "_model_module_version": "1.5.0",
            "_view_count": null,
            "_view_module_version": "1.2.0",
            "_model_module": "@jupyter-widgets/controls"
          }
        },
        "e87ef956fa8f468fb784abfb960a5d21": {
          "model_module": "@jupyter-widgets/base",
          "model_name": "LayoutModel",
          "state": {
            "_view_name": "LayoutView",
            "grid_template_rows": null,
            "right": null,
            "justify_content": null,
            "_view_module": "@jupyter-widgets/base",
            "overflow": null,
            "_model_module_version": "1.2.0",
            "_view_count": null,
            "flex_flow": null,
            "width": null,
            "min_width": null,
            "border": null,
            "align_items": null,
            "bottom": null,
            "_model_module": "@jupyter-widgets/base",
            "top": null,
            "grid_column": null,
            "overflow_y": null,
            "overflow_x": null,
            "grid_auto_flow": null,
            "grid_area": null,
            "grid_template_columns": null,
            "flex": null,
            "_model_name": "LayoutModel",
            "justify_items": null,
            "grid_row": null,
            "max_height": null,
            "align_content": null,
            "visibility": null,
            "align_self": null,
            "height": null,
            "min_height": null,
            "padding": null,
            "grid_auto_rows": null,
            "grid_gap": null,
            "max_width": null,
            "order": null,
            "_view_module_version": "1.2.0",
            "grid_template_areas": null,
            "object_position": null,
            "object_fit": null,
            "grid_auto_columns": null,
            "margin": null,
            "display": null,
            "left": null
          }
        },
        "f1ed3aebb38a4ed8a51594829679e519": {
          "model_module": "@jupyter-widgets/controls",
          "model_name": "DescriptionStyleModel",
          "state": {
            "_view_name": "StyleView",
            "_model_name": "DescriptionStyleModel",
            "description_width": "initial",
            "_view_module": "@jupyter-widgets/base",
            "_model_module_version": "1.5.0",
            "_view_count": null,
            "_view_module_version": "1.2.0",
            "_model_module": "@jupyter-widgets/controls"
          }
        },
        "2d376d72b64c467c9d397fca0f93376a": {
          "model_module": "@jupyter-widgets/base",
          "model_name": "LayoutModel",
          "state": {
            "_view_name": "LayoutView",
            "grid_template_rows": null,
            "right": null,
            "justify_content": null,
            "_view_module": "@jupyter-widgets/base",
            "overflow": null,
            "_model_module_version": "1.2.0",
            "_view_count": null,
            "flex_flow": null,
            "width": null,
            "min_width": null,
            "border": null,
            "align_items": null,
            "bottom": null,
            "_model_module": "@jupyter-widgets/base",
            "top": null,
            "grid_column": null,
            "overflow_y": null,
            "overflow_x": null,
            "grid_auto_flow": null,
            "grid_area": null,
            "grid_template_columns": null,
            "flex": null,
            "_model_name": "LayoutModel",
            "justify_items": null,
            "grid_row": null,
            "max_height": null,
            "align_content": null,
            "visibility": null,
            "align_self": null,
            "height": null,
            "min_height": null,
            "padding": null,
            "grid_auto_rows": null,
            "grid_gap": null,
            "max_width": null,
            "order": null,
            "_view_module_version": "1.2.0",
            "grid_template_areas": null,
            "object_position": null,
            "object_fit": null,
            "grid_auto_columns": null,
            "margin": null,
            "display": null,
            "left": null
          }
        },
        "ec51e3e3b3e64a6090ff260636ed3845": {
          "model_module": "@jupyter-widgets/controls",
          "model_name": "DescriptionStyleModel",
          "state": {
            "_view_name": "StyleView",
            "_model_name": "DescriptionStyleModel",
            "description_width": "initial",
            "_view_module": "@jupyter-widgets/base",
            "_model_module_version": "1.5.0",
            "_view_count": null,
            "_view_module_version": "1.2.0",
            "_model_module": "@jupyter-widgets/controls"
          }
        },
        "132b7bb86cea4d1394f6573a8220c4e4": {
          "model_module": "@jupyter-widgets/base",
          "model_name": "LayoutModel",
          "state": {
            "_view_name": "LayoutView",
            "grid_template_rows": null,
            "right": null,
            "justify_content": null,
            "_view_module": "@jupyter-widgets/base",
            "overflow": null,
            "_model_module_version": "1.2.0",
            "_view_count": null,
            "flex_flow": null,
            "width": null,
            "min_width": null,
            "border": null,
            "align_items": null,
            "bottom": null,
            "_model_module": "@jupyter-widgets/base",
            "top": null,
            "grid_column": null,
            "overflow_y": null,
            "overflow_x": null,
            "grid_auto_flow": null,
            "grid_area": null,
            "grid_template_columns": null,
            "flex": null,
            "_model_name": "LayoutModel",
            "justify_items": null,
            "grid_row": null,
            "max_height": null,
            "align_content": null,
            "visibility": null,
            "align_self": null,
            "height": null,
            "min_height": null,
            "padding": null,
            "grid_auto_rows": null,
            "grid_gap": null,
            "max_width": null,
            "order": null,
            "_view_module_version": "1.2.0",
            "grid_template_areas": null,
            "object_position": null,
            "object_fit": null,
            "grid_auto_columns": null,
            "margin": null,
            "display": null,
            "left": null
          }
        },
        "47d4c48b3cfe4e09a617126d28ddef6b": {
          "model_module": "@jupyter-widgets/base",
          "model_name": "LayoutModel",
          "state": {
            "_view_name": "LayoutView",
            "grid_template_rows": null,
            "right": null,
            "justify_content": null,
            "_view_module": "@jupyter-widgets/base",
            "overflow": null,
            "_model_module_version": "1.2.0",
            "_view_count": null,
            "flex_flow": null,
            "width": null,
            "min_width": null,
            "border": null,
            "align_items": null,
            "bottom": null,
            "_model_module": "@jupyter-widgets/base",
            "top": null,
            "grid_column": null,
            "overflow_y": null,
            "overflow_x": null,
            "grid_auto_flow": null,
            "grid_area": null,
            "grid_template_columns": null,
            "flex": null,
            "_model_name": "LayoutModel",
            "justify_items": null,
            "grid_row": null,
            "max_height": null,
            "align_content": null,
            "visibility": null,
            "align_self": null,
            "height": null,
            "min_height": null,
            "padding": null,
            "grid_auto_rows": null,
            "grid_gap": null,
            "max_width": null,
            "order": null,
            "_view_module_version": "1.2.0",
            "grid_template_areas": null,
            "object_position": null,
            "object_fit": null,
            "grid_auto_columns": null,
            "margin": null,
            "display": null,
            "left": null
          }
        }
      }
    }
  },
  "cells": [
    {
      "cell_type": "markdown",
      "metadata": {
        "id": "view-in-github",
        "colab_type": "text"
      },
      "source": [
        "<a href=\"https://colab.research.google.com/github/mikeboyle321/Macromolecular_Engineering_Nanoparticle_Transport/blob/main/Worked_Example_DLVO.ipynb\" target=\"_parent\"><img src=\"https://colab.research.google.com/assets/colab-badge.svg\" alt=\"Open In Colab\"/></a>"
      ]
    },
    {
      "cell_type": "markdown",
      "metadata": {
        "id": "dA5hpQmWu_37"
      },
      "source": [
        "# Extended DLVO - colloid interactions with a substrate in electrolyte solutions.\r\n",
        "\r\n",
        "This notebook walks through the analysis of a PS Nanoparticle Interacting with a silica substrate as a function of distance from the substrate using an extended DLVO model adapted from \r\n",
        "\r\n",
        "Handol Lee, Doris Segets, Sebastian Süß, Wolfgang Peukert, Sheng-Chieh Chen, David Y.H. Pui,\r\n",
        "Liquid filtration of nanoparticles through track-etched membrane filters under unfavorable and different ionic strength conditions: Experiments and modeling,\r\n",
        "Journal of Membrane Science,\r\n",
        "Volume 524,\r\n",
        "2017,\r\n",
        "Pages 682-690,\r\n",
        "ISSN 0376-7388,\r\n",
        "https://doi.org/10.1016/j.memsci.2016.11.023.\r\n",
        "(https://www.sciencedirect.com/science/article/pii/S0376738816312352)\r\n"
      ]
    },
    {
      "cell_type": "code",
      "metadata": {
        "id": "9Uerd1r3rDtd"
      },
      "source": [
        "# Import key python packages\r\n",
        "import numpy as np\r\n",
        "import pandas as pd\r\n",
        "import matplotlib.pyplot as plt\r\n",
        "from matplotlib import cm\r\n",
        "from ipywidgets import interactive, IntSlider, RadioButtons, FloatText, IntText, FloatSlider\r\n",
        "# set font size for plots globally\r\n",
        "plt.rcParams.update({'font.size': 14})"
      ],
      "execution_count": 1,
      "outputs": []
    },
    {
      "cell_type": "markdown",
      "metadata": {
        "id": "GxvJxSJlv8tO"
      },
      "source": [
        "## First we need to define some key constants"
      ]
    },
    {
      "cell_type": "code",
      "metadata": {
        "id": "1LvnoiD9v1W3"
      },
      "source": [
        "kb = 1.38064852E-23 # J/K, boltzmann constant\r\n",
        "lambda_char = 100*1E-9 # m, 100 nm characteristic retardation wavelength ~ ionization wavelength\r\n",
        "e_0 = 8.85418782E-12 # F/m\r\n",
        "e_r = 78.4 # relative permittivity of water\r\n",
        "e_coulomb = 1.602176634E-19 # C \r\n",
        "T = 298 # K\r\n",
        "Na = 6.022E23 #/mol, Avogadro"
      ],
      "execution_count": 2,
      "outputs": []
    },
    {
      "cell_type": "markdown",
      "metadata": {
        "id": "CeQxNTfRuyT6"
      },
      "source": [
        "## Plot the VdW interaction potential for varying separation particle sizes\r\n",
        "* Van der Waals interaction constants from Israelachvili, J.N., Intermolecular and Surface Forces, Third Edition 2011\r\n"
      ]
    },
    {
      "cell_type": "code",
      "metadata": {
        "colab": {
          "base_uri": "https://localhost:8080/",
          "height": 320
        },
        "id": "6lZ8bZ1CkML3",
        "outputId": "fe08fc34-db5d-46b5-e41e-15ad85a79002"
      },
      "source": [
        "# Define a function for calcuating VdW forces\r\n",
        "def calc_vdw(h_min, h_max, r_np_calc, A_vdw, lambda_ion):\r\n",
        "  h_calc = np.linspace(h_min, h_max, 1000)*1E-9 # m\r\n",
        "  r_calc = r_np_calc*1E-9 # converts nm to m\r\n",
        "  phi_vdw_calc = (-A_vdw*r_calc*(1 + 14*h_calc/lambda_ion)**(-1))/(6*h_calc) # J\r\n",
        "  return h_calc, phi_vdw_calc # returns m, J\r\n",
        "\r\n",
        "# Use combination rule to estimate Hamaker Constant, A_eff\r\n",
        "A_ps = np.mean([6.6E-20, 7.9E-20])  # J\r\n",
        "A_h2o = np.mean([3.7E-20, 5.5E-20]) # J\r\n",
        "A_sio2 = np.mean([5E-20, 6E-20]) # J\r\n",
        "A_eff = (np.sqrt(A_ps) - np.sqrt(A_h2o))*(np.sqrt(A_sio2) - np.sqrt(A_h2o)) # J\r\n",
        "print(f'A_eff = {A_eff} J')\r\n",
        "\r\n",
        "# define constants\r\n",
        "r_np = [1,10,100, 1000] #test  differnt parictle diameters, nm\r\n",
        "sep_min = 0.001 # nm\r\n",
        "sep_max = 10 # nm\r\n",
        "kT = kb*T\r\n",
        "for i, value in enumerate(r_np):\r\n",
        "  h, phi_vdw = calc_vdw(h_min = sep_min, h_max = sep_max, r_np_calc = value, A_vdw=A_eff, lambda_ion = lambda_char)\r\n",
        "  plt.plot(h*1E9, phi_vdw/kT, color =  plt.cm.Greys((1/len(r_np))*(i+1)), label = ('Particle Radius = ' + str(value) + ' nm'))\r\n",
        "  plt.legend()\r\n",
        "plt.ylim([-10,10])\r\n",
        "plt.xlabel('Separation Distance [nm]')\r\n",
        "plt.ylabel(r'$\\frac{\\phi_{VdW}}{k_{b}T}$', fontsize=18)"
      ],
      "execution_count": 3,
      "outputs": [
        {
          "output_type": "stream",
          "text": [
            "A_eff = 1.0980904698146341e-21 J\n"
          ],
          "name": "stdout"
        },
        {
          "output_type": "execute_result",
          "data": {
            "text/plain": [
              "Text(0, 0.5, '$\\\\frac{\\\\phi_{VdW}}{k_{b}T}$')"
            ]
          },
          "metadata": {
            "tags": []
          },
          "execution_count": 3
        },
        {
          "output_type": "display_data",
          "data": {
            "image/png": "[encoded data removed]",
            "text/plain": [
              "<Figure size 432x288 with 1 Axes>"
            ]
          },
          "metadata": {
            "tags": [],
            "needs_background": "light"
          }
        }
      ]
    },
    {
      "cell_type": "markdown",
      "metadata": {
        "id": "BtQnYHvuOSmI"
      },
      "source": [
        "# Plot the Electric Double Layer ion concentration profile for varying salt concentration"
      ]
    },
    {
      "cell_type": "code",
      "metadata": {
        "colab": {
          "base_uri": "https://localhost:8080/",
          "height": 448
        },
        "id": "6xO5EVM1Oix6",
        "outputId": "b9b53529-e27b-4018-90db-d63cecce3353"
      },
      "source": [
        "# Define a function for calcuating EDL forces\r\n",
        "def calc_edl(h_min, h_max, r_np_calc, c_s_bulk_calc, z_ion_calc, psi_p_calc, psi_s_calc):\r\n",
        "  psi_p_calc = psi_p_calc*1E-3 # converts mV to volts\r\n",
        "  psi_s_calc = psi_s_calc*1E-3 # converts mV to volts\r\n",
        "  h_calc = np.linspace(h_min, h_max, 1000)*1E-9 # m\r\n",
        "  r_calc = r_np_calc*1E-9 # converts nm to m\r\n",
        "  debye_param_calc = np.sqrt(2*(1000*c_s_bulk_calc*Na*e_coulomb**2*z_ion_calc**2)/(e_0*e_r*kb*T)) # m^-1\r\n",
        "  # From Lee et. al\r\n",
        "  # phi_edl_calc = (((64*np.pi*e_r*e_0)/debye_param_calc)*\r\n",
        "  #                 (kb*T/(z_ion_calc*e_coulomb))**2*\r\n",
        "  #                 np.tanh(z_ion_calc*e_coulomb*psi_s_calc/(4*kb*T))*\r\n",
        "  #                 np.tanh(z_ion_calc*e_coulomb*psi_p_calc/(4*kb*T))*\r\n",
        "  #                 ((debye_param_calc*r_calc - 1)*np.exp(-debye_param_calc*h_calc) + (debye_param_calc*r_calc + 1)*np.exp(-debye_param_calc*(h_calc+2*r_calc)))\r\n",
        "  #                 )\r\n",
        "  # from Adsorption and Desorption of Particles and Their Chromatographic Separation, Ruckenstein, Eli Prieve, Dennis C., AIChE Journal 1976\r\n",
        "  # phi_edl_calc = (16*e_r*e_0*(kb*T/e_coulomb)**2*\r\n",
        "  #                 r_calc*\r\n",
        "  #                 np.tanh(z_ion_calc*e_coulomb*psi_s_calc/(4*kb*T))*\r\n",
        "  #                 np.tanh(z_ion_calc*e_coulomb*psi_p_calc/(4*kb*T))*\r\n",
        "  #                 np.exp(-debye_param_calc*h_calc)\r\n",
        "  #                )\r\n",
        "  # from Intermolecular and Surface Forces, Israelachvili\r\n",
        "  phi_edl_calc = (r_calc*\r\n",
        "                  ((64*np.pi*e_r*e_0))*\r\n",
        "                  (kb*T/(z_ion_calc*e_coulomb))**2*\r\n",
        "                  np.tanh(z_ion_calc*e_coulomb*psi_s_calc/(4*kb*T))*\r\n",
        "                  np.tanh(z_ion_calc*e_coulomb*psi_p_calc/(4*kb*T))*\r\n",
        "                  np.exp(-debye_param_calc*h_calc)\r\n",
        "                  )\r\n",
        "  print(f'Debye Length for [NaCl]={c_s_bulk_calc} M is {1/debye_param_calc*1E9} nm')\r\n",
        "  print(f'k*r_np is {debye_param_calc*r_calc}')\r\n",
        "  return h_calc, phi_edl_calc # returns m, J\r\n",
        "\r\n",
        "r_np = 50 # nm\r\n",
        "psi_s = -25# mV\r\n",
        "psi_p = -25 # mV\r\n",
        "z = 1 # salt valency - 1 for monovalent salt like NaCl\r\n",
        "c_salt = [0.001, 0.01, 0.1, 1] # concentration of salt in the bulk soltuion in mol/L\r\n",
        "kT = kb*T\r\n",
        "# define constants\r\n",
        "sep_min = 0.001 # nm\r\n",
        "sep_max = 50 # nm\r\n",
        "kT = kb*T\r\n",
        "for i, value in enumerate(c_salt):\r\n",
        "  h, phi_edl = calc_edl(h_min=sep_min, h_max=sep_max, r_np_calc=r_np, c_s_bulk_calc=value, z_ion_calc=z, psi_p_calc=psi_p, psi_s_calc=psi_s)\r\n",
        "  plt.plot(h*1E9, phi_edl/kT, color =  plt.cm.Greys((1/len(c_salt))*(i+1)), label = ('Salt Concentration = ' + str(value) + ' M'))\r\n",
        "plt.legend(fontsize=12)\r\n",
        "plt.ylim([-10,10])\r\n",
        "# plt.title('EDL for 100 nm PS particle in NaCl')\r\n",
        "plt.xlabel('Separation Distance [nm]')\r\n",
        "plt.ylabel(r'$\\frac{\\phi_{EDL}}{k_{b}T}$', fontsize=18)"
      ],
      "execution_count": 16,
      "outputs": [
        {
          "output_type": "stream",
          "text": [
            "Debye Length for [NaCl]=0.001 M is 9.611392816745983 nm\n",
            "k*r_np is 5.2021596612808\n",
            "Debye Length for [NaCl]=0.01 M is 3.0393892787498658 nm\n",
            "k*r_np is 16.45067328149738\n",
            "Debye Length for [NaCl]=0.1 M is 0.9611392816745984 nm\n",
            "k*r_np is 52.021596612808004\n",
            "Debye Length for [NaCl]=1 M is 0.30393892787498655 nm\n",
            "k*r_np is 164.5067328149738\n"
          ],
          "name": "stdout"
        },
        {
          "output_type": "execute_result",
          "data": {
            "text/plain": [
              "Text(0, 0.5, '$\\\\frac{\\\\phi_{EDL}}{k_{b}T}$')"
            ]
          },
          "metadata": {
            "tags": []
          },
          "execution_count": 16
        },
        {
          "output_type": "display_data",
          "data": {
            "image/png": "[encoded data removed]",
            "text/plain": [
              "<Figure size 432x288 with 1 Axes>"
            ]
          },
          "metadata": {
            "tags": [],
            "needs_background": "light"
          }
        }
      ]
    },
    {
      "cell_type": "markdown",
      "metadata": {
        "id": "cQNDG0FKIGIb"
      },
      "source": [
        "## VdW Interaction potentials have a minimum at -inf as the separation between particle and substrate approaches 0. This is clearly non-physical. In real experiments (ignoring molecular complications of the continuum assumption breakdown), repulsive forces (solvation, steric hidrances from polymers layers) increase the interaction potential as a particle approceas the surface. To account for this, Lee .et *al* model short range repulsion (Pauli exclusion) from overlapping molecular orbitals via a Born Repulsion term with a potential shown below. It is based on a Hamaker type summation of the molecular expression of the Born repulsion following a distance dependency of h−12 for the sphere-plate geometry"
      ]
    },
    {
      "cell_type": "code",
      "metadata": {
        "colab": {
          "base_uri": "https://localhost:8080/",
          "height": 301
        },
        "id": "-LwG5CAiIGab",
        "outputId": "81a50ffb-b63a-4001-c07b-33bb9e9b588c"
      },
      "source": [
        "def calc_born_rep(h_min, h_max, A_vdw, sigma_collision, r_np_calc):\r\n",
        "  h_calc = np.linspace(h_min, h_max, 1000)*1E-9 # m\r\n",
        "  r_calc = r_np_calc*1E-9 # converts nm to m\r\n",
        "  sigma_calc = sigma_collision*1E-9 # converts nm to m\r\n",
        "  phi_born_calc = ((A_vdw*sigma_calc**6/7560)*\r\n",
        "                   ((8*r_calc + h_calc)/((2*r_calc + h_calc)**7) + (6*r_calc - h_calc)/(h_calc**7))\r\n",
        "                  )\r\n",
        "  return h_calc, phi_born_calc\r\n",
        "\r\n",
        "r_np = 10 # nm\r\n",
        "sep_min = 0.001 # nm\r\n",
        "sep_max = 1 # nm\r\n",
        "sigma_collision_plot = [0.3, 0.5, 0.7, 0.9] # nm\r\n",
        "kT = kb*T\r\n",
        "for i, value in enumerate(sigma_collision_plot):\r\n",
        "  h, phi_born = calc_born_rep(h_min=sep_min, h_max=sep_max, r_np_calc=r_np, A_vdw=A_eff, sigma_collision=value)\r\n",
        "  plt.plot(h*1E9, phi_born/kT, color =  plt.cm.Greys((1/len(sigma_collision_plot))*(i+1)), label = ('Collision Diameter = ' + str(value) + ' nm'))\r\n",
        "plt.legend(fontsize=12)\r\n",
        "plt.ylim([-10,10])\r\n",
        "# plt.title('EDL for 100 nm PS particle in NaCl')\r\n",
        "plt.xlabel('Separation Distance [nm]')\r\n",
        "plt.ylabel(r'$\\frac{\\phi_{Born}}{k_{b}T}$', fontsize=18)"
      ],
      "execution_count": 17,
      "outputs": [
        {
          "output_type": "execute_result",
          "data": {
            "text/plain": [
              "Text(0, 0.5, '$\\\\frac{\\\\phi_{Born}}{k_{b}T}$')"
            ]
          },
          "metadata": {
            "tags": []
          },
          "execution_count": 17
        },
        {
          "output_type": "display_data",
          "data": {
            "image/png": "[encoded data removed]",
            "text/plain": [
              "<Figure size 432x288 with 1 Axes>"
            ]
          },
          "metadata": {
            "tags": [],
            "needs_background": "light"
          }
        }
      ]
    },
    {
      "cell_type": "markdown",
      "metadata": {
        "id": "frVCnlRcK7d8"
      },
      "source": [
        "# Interactively plot the competition between all of them, with option to change any parameters"
      ]
    },
    {
      "cell_type": "code",
      "metadata": {
        "colab": {
          "base_uri": "https://localhost:8080/",
          "height": 643,
          "referenced_widgets": [
            "8fbc7d6ead364f158287218d95dcf6da",
            "e3e612d916864127ba166b7e222591c4",
            "a01b1c8cab844236ac7f6df6739b63e9",
            "b934dc6a72c74cfca8e24ba933522d9b",
            "1a7947c08df74c80bc2490b102df45fb",
            "aecb2b4d52a24fc8a9467f24cbe50a19",
            "486bb3e2011f49d88003f00f5d80281b",
            "b44967d26edf4ee9ae277da4c919fc6b",
            "df1c60864f534adca9614e226b02b220",
            "c22fd13f2e42499e82898a632595a5be",
            "18963166f0ca4808932edb2301ba99e3",
            "2f0fcd8b164d40708820aa39dffaa213",
            "a5138b54aca44133bae94a7fd415a1bc",
            "a0bba985e1504cab908129ad8bf937bb",
            "f6183d50dc2b491c97389b2545980ee9",
            "2aa2a5e31678479ab86497906ac3039d",
            "6b05cac4daaa43e7b9cf70aeb9290606",
            "04946cbec5d14a72a58f124b860b4dc2",
            "37c71dd2ce344b5a8cd37879182dbe19",
            "2d4192c3a21248d4b0396851a233397a",
            "78531e9eb6a6420d81d044056cd7475b",
            "4bfae8f759174773804008ce5bfb3c32",
            "8b92c6943897406d99627634398d6353",
            "5a79e559e97f400c870a57ec04ef7d75",
            "9967563d53894573810b659835349526",
            "4c0a3d79a6e747e89041144f23b9ee92",
            "24d9f2b72370484c8cc91483b4c8be63",
            "840e3c482b1a4f5f90a9f4cc3dc33d63",
            "e87ef956fa8f468fb784abfb960a5d21",
            "f1ed3aebb38a4ed8a51594829679e519",
            "2d376d72b64c467c9d397fca0f93376a",
            "ec51e3e3b3e64a6090ff260636ed3845",
            "132b7bb86cea4d1394f6573a8220c4e4",
            "47d4c48b3cfe4e09a617126d28ddef6b"
          ]
        },
        "id": "UEzZspI0G6E5",
        "outputId": "350614c2-fe86-4665-e9fa-486885b92b25"
      },
      "source": [
        "def interactive_potential(h_min_int,\r\n",
        "                          h_max_int,\r\n",
        "                          r_np_calc_int,\r\n",
        "                          A_vdw_int,\r\n",
        "                          psi_p_calc_int,\r\n",
        "                          psi_s_calc_int,\r\n",
        "                          c_s_bulk_calc_int,\r\n",
        "                          sigma_collision_int,\r\n",
        "                          y_plot_min_int,\r\n",
        "                          y_plot_max_int):\r\n",
        "  \r\n",
        "  h_vdw, phi_vdw = calc_vdw(h_min = h_min_int, \r\n",
        "                            h_max = h_max_int, \r\n",
        "                            r_np_calc = r_np_calc_int, \r\n",
        "                            A_vdw=A_vdw_int*1E-20, \r\n",
        "                            lambda_ion = lambda_char)\r\n",
        "\r\n",
        "  h_edl, phi_edl = calc_edl(h_min=h_min_int,\r\n",
        "                            h_max=h_max_int,\r\n",
        "                            r_np_calc=r_np_calc_int, \r\n",
        "                            c_s_bulk_calc=c_s_bulk_calc_int, \r\n",
        "                            z_ion_calc=1, \r\n",
        "                            psi_p_calc=psi_p_calc_int, \r\n",
        "                            psi_s_calc=psi_s_calc_int)\r\n",
        "  \r\n",
        "  h_born, phi_born = calc_born_rep(h_min=h_min_int,\r\n",
        "                                   h_max=h_max_int, \r\n",
        "                                   A_vdw = A_vdw_int*1E-20, \r\n",
        "                                   sigma_collision=sigma_collision_int,\r\n",
        "                                   r_np_calc=r_np_calc_int)\r\n",
        "  \r\n",
        "  phi_total = phi_born + phi_edl + phi_vdw\r\n",
        "\r\n",
        "  plt.plot(h_vdw*1E9, phi_vdw/kT, 'k', linestyle='dotted', label='VdW')\r\n",
        "  plt.plot(h_vdw*1E9, phi_edl/kT, 'k', linestyle='dashed', label='EDL')\r\n",
        "  plt.plot(h_vdw*1E9, phi_born/kT, 'k', linestyle='dashdot', label='Born')\r\n",
        "  plt.plot(h_vdw*1E9, phi_total/kT, 'k', linestyle='solid', label='Total')\r\n",
        "  plt.xlabel('Separation Distance (nm)')\r\n",
        "  plt.ylabel(r'$\\frac{\\phi}{k_{b}T}$', fontsize=18)\r\n",
        "  plt.ylim([y_plot_min_int, y_plot_max_int])\r\n",
        "  plt.legend()\r\n",
        "style = {'description_width': 'initial'}\r\n",
        "interactive_potential_plot = interactive(interactive_potential, \r\n",
        "                                         h_min_int= FloatText(value=0.001,min=0.001, description='Separation Range Minimum [nm]', continuous_update=True, style=style),\r\n",
        "                                         h_max_int= FloatText(value=10.0, description='Separation Range Maximum [nm]', continuous_update=True, style=style),\r\n",
        "                                         r_np_calc_int = FloatSlider(value = r_np, min=1.0, max=100.0, step=1, description='Particle Radius (nm)', continuous_update=True, style=style),\r\n",
        "                                         A_vdw_int = FloatSlider(value = A_eff, min=0.1, max=100, step=0.1, description='Hamaker Constant (10^-20 J)', continuous_update=True, style=style),\r\n",
        "                                         psi_p_calc_int = FloatSlider(value = psi_p, min=-100, max=100, step=1, description='Particle Potential (mV)', continuous_update=True, style=style),\r\n",
        "                                         psi_s_calc_int = FloatSlider(value = psi_s, min=-100, max=100, step=1, description='Substrate Potential (mV)', continuous_update=True, style=style),\r\n",
        "                                         c_s_bulk_calc_int = FloatSlider(value = 0.01, min=0, max=1.0, step=0.01, description='[NaCl](M)', continuous_update=True, style=style, readout_format='.5f'),\r\n",
        "                                         sigma_collision_int = FloatSlider(value = 0.5, min=0, max=2.0, step=0.1, description='Born Collision Diamete [nm]', continuous_update=True, style=style),\r\n",
        "                                         y_plot_min_int = FloatText(value=-10, description='Plot kT Range Minimum', continuous_update=True, style=style),\r\n",
        "                                         y_plot_max_int = FloatText(value=10, description='Plot kT Range Maximum', continuous_update=True, style=style)\r\n",
        "                                         )\r\n",
        "\r\n",
        "output = interactive_potential_plot.children[-1]\r\n",
        "interactive_potential_plot"
      ],
      "execution_count": 19,
      "outputs": [
        {
          "output_type": "display_data",
          "data": {
            "application/vnd.jupyter.widget-view+json": {
              "model_id": "8fbc7d6ead364f158287218d95dcf6da",
              "version_minor": 0,
              "version_major": 2
            },
            "text/plain": [
              "interactive(children=(FloatText(value=0.001, continuous_update=True, description='Separation Range Minimum [nm…"
            ]
          },
          "metadata": {
            "tags": []
          }
        }
      ]
    },
    {
      "cell_type": "code",
      "metadata": {
        "colab": {
          "base_uri": "https://localhost:8080/"
        },
        "id": "5_eBSYcYKJlU",
        "outputId": "fbd40572-9124-4b92-f1c9-44d760c05010"
      },
      "source": [
        "interactive_potential_plot.close"
      ],
      "execution_count": 12,
      "outputs": [
        {
          "output_type": "execute_result",
          "data": {
            "text/plain": [
              "<bound method Widget.close of interactive(children=(FloatText(value=0.001, continuous_update=True, description='Separation Range Minimum [nm]'), FloatText(value=10.0, continuous_update=True, description='Separation Range Maximum [nm]'), FloatSlider(value=10.0, description='Particle Radius (nm)', min=1.0, step=1.0), FloatSlider(value=0.1, description='Hamaker Constant (10^-20 J)', max=10.0, min=0.1), FloatSlider(value=-25.0, description='Particle Potential (mV)', min=-100.0, step=1.0), FloatSlider(value=-25.0, description='Substrate Potential (mV)', min=-100.0, step=1.0), FloatSlider(value=0.001, description='[NaCl](M)', max=1.0, step=0.01), FloatSlider(value=0.5, description='Born Collision Diamete [nm]', max=2.0), FloatText(value=-10.0, continuous_update=True, description='Plot kT Range Minimum'), FloatText(value=10.0, continuous_update=True, description='Plot kT Range Maximum'), Output()), _dom_classes=('widget-interact',))>"
            ]
          },
          "metadata": {
            "tags": []
          },
          "execution_count": 12
        }
      ]
    },
    {
      "cell_type": "code",
      "metadata": {
        "id": "TXL10I0VKrgL"
      },
      "source": [
        ""
      ],
      "execution_count": null,
      "outputs": []
    }
  ]
}