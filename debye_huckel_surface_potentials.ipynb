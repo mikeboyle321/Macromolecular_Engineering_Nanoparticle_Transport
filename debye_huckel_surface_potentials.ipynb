{
  "nbformat": 4,
  "nbformat_minor": 0,
  "metadata": {
    "colab": {
      "name": "debye-huckel_surface_potentials.ipynb",
      "provenance": [],
      "authorship_tag": "ABX9TyOehgg2AJdUShrHyNeLWy4l",
      "include_colab_link": true
    },
    "kernelspec": {
      "name": "python3",
      "display_name": "Python 3"
    },
    "language_info": {
      "name": "python"
    }
  },
  "cells": [
    {
      "cell_type": "markdown",
      "metadata": {
        "id": "view-in-github",
        "colab_type": "text"
      },
      "source": [
        "<a href=\"https://colab.research.google.com/github/mikeboyle321/Macromolecular_Engineering_Nanoparticle_Transport/blob/main/debye_huckel_surface_potentials.ipynb\" target=\"_parent\"><img src=\"https://colab.research.google.com/assets/colab-badge.svg\" alt=\"Open In Colab\"/></a>"
      ]
    },
    {
      "cell_type": "markdown",
      "metadata": {
        "id": "eOZo64L-LRWa"
      },
      "source": [
        "# Charged surfaces in Electrolyte Solutions\n",
        "\n",
        "*   Debye Huckel Theory\n",
        "\n"
      ]
    },
    {
      "cell_type": "code",
      "metadata": {
        "id": "A-ia_iHmLZFf"
      },
      "source": [
        "# import key packages\n",
        "import numpy as np\n",
        "import pandas as pd\n",
        "import "
      ],
      "execution_count": null,
      "outputs": []
    },
    {
      "cell_type": "code",
      "metadata": {
        "id": "xP7QIF2YMMMp"
      },
      "source": [
        "Ch"
      ],
      "execution_count": null,
      "outputs": []
    },
    {
      "cell_type": "code",
      "metadata": {
        "id": "sVylgBU6LNBN"
      },
      "source": [
        ""
      ],
      "execution_count": null,
      "outputs": []
    },
    {
      "cell_type": "markdown",
      "metadata": {
        "id": "zS9jDNaULReW"
      },
      "source": [
        ""
      ]
    }
  ]
}