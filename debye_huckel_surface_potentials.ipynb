{
  "nbformat": 4,
  "nbformat_minor": 0,
  "metadata": {
    "colab": {
      "name": "debye-huckel_surface_potentials.ipynb",
      "provenance": [],
      "toc_visible": true,
      "authorship_tag": "ABX9TyO7qnYredcwKi6MuEYCLmV3",
      "include_colab_link": true
    },
    "kernelspec": {
      "name": "python3",
      "display_name": "Python 3"
    },
    "language_info": {
      "name": "python"
    }
  },
  "cells": [
    {
      "cell_type": "markdown",
      "metadata": {
        "id": "view-in-github",
        "colab_type": "text"
      },
      "source": [
        "<a href=\"https://colab.research.google.com/github/mikeboyle321/Macromolecular_Engineering_Nanoparticle_Transport/blob/main/debye_huckel_surface_potentials.ipynb\" target=\"_parent\"><img src=\"https://colab.research.google.com/assets/colab-badge.svg\" alt=\"Open In Colab\"/></a>"
      ]
    },
    {
      "cell_type": "markdown",
      "metadata": {
        "id": "eOZo64L-LRWa"
      },
      "source": [
        "# Charged surfaces in Electrolyte Solutions\n",
        "\n",
        "*   Debye Huckel Theory\n",
        "\n"
      ]
    },
    {
      "cell_type": "code",
      "metadata": {
        "id": "A-ia_iHmLZFf"
      },
      "source": [
        "# import key packages\n",
        "import numpy as np\n",
        "import pandas as pd\n",
        "import matplotlib.pyplot as plt"
      ],
      "execution_count": 6,
      "outputs": []
    },
    {
      "cell_type": "markdown",
      "metadata": {
        "id": "8kX4ZXXuOj5a"
      },
      "source": [
        "## Initialize variables"
      ]
    },
    {
      "cell_type": "code",
      "metadata": {
        "id": "xP7QIF2YMMMp"
      },
      "source": [
        "kb = 1.38064852E-23 # J/K, boltzmann constant\n",
        "lambda_char = 100*1E-9 # m, 100 nm characteristic retardation wavelength ~ ionization wavelength\n",
        "e_0 = 8.85418782E-12 # F/m\n",
        "e_r = 78.4 # relative permittivity of water\n",
        "e_coulomb = 1.602176634E-19 # C \n",
        "T = 298 # K\n",
        "Na = 6.022E23 #/mol, Avogadro"
      ],
      "execution_count": 7,
      "outputs": []
    },
    {
      "cell_type": "code",
      "metadata": {
        "colab": {
          "base_uri": "https://localhost:8080/"
        },
        "id": "sVylgBU6LNBN",
        "outputId": "bf376b26-500e-403e-dc91-e06e87cddc20"
      },
      "source": [
        "kT = kb*T\n",
        "c_s = 0.01 # M\n",
        "z_s = 1 # NaCl\n",
        "debye_param_calc = np.sqrt(2*(1000*c_s*Na*e_coulomb**2*z_s**2)/(e_0*e_r*kb*T)) # m^-1\n",
        "debye_legnth_m = 1/debye_param_calc\n",
        "debye_legnth_nm = debye_legnth_m*1E9\n",
        "print(\"Debye Legnth =\", debye_legnth_nm, \"nm\")\n",
        "# sigma = 0.12 # C/m^2\n",
        "# phi_stern_V = sigma*stern_layer_m/(e_0*e_r)\n",
        "# phi_stern_mV = phi_stern_V*1E3"
      ],
      "execution_count": 53,
      "outputs": [
        {
          "output_type": "stream",
          "text": [
            "Debye Legnth = 3.0393892787498658 nm\n"
          ],
          "name": "stdout"
        }
      ]
    },
    {
      "cell_type": "code",
      "metadata": {
        "colab": {
          "base_uri": "https://localhost:8080/",
          "height": 197
        },
        "id": "tpz5PAHkViao",
        "outputId": "b73b3d5a-ccb0-4073-d2c2-a647bf71dc95"
      },
      "source": [
        "xlength = 5\n",
        "phi_surface_mV = 30\n",
        "phi_stern_mV = 25\n",
        "phi_stern_V = phi_stern_mV*1E-3\n",
        "stern_layer_nm = 0.2\n",
        "stern_layer_m = stern_layer_nm*1E-9 \n",
        "x_stern_nm = np.linspace(0, stern_layer_nm, 10000)\n",
        "x_stern_m = x_stern_nm*1E-9\n",
        "phi_x_stern = phi_surface_mV + ((phi_stern_mV - phi_surface_mV)/(stern_layer_nm))*x_stern_nm\n",
        "x_nm = np.linspace(stern_layer_nm, xlength, 1000)\n",
        "x_m = x_nm*1E-9\n",
        "phi_x_V = phi_stern_V*np.exp(-debye_param_calc*(x_m- stern_layer_m))\n",
        "phi_x_mV = phi_x_V*1E3\n",
        "fig, ax = plt.subplots(figsize = (5,3))\n",
        "ax.plot(x_stern_nm, phi_x_stern, 'k', linewidth=1)\n",
        "ax.plot(x_nm ,phi_x_mV, 'k', linewidth=1)\n",
        "ax.spines['top'].set_visible(False)\n",
        "ax.spines['right'].set_visible(False)\n",
        "ax.get_xaxis().set_ticks([])\n",
        "ax.get_yaxis().set_ticks([])\n",
        "ax.set_xlim([0,xlength])\n",
        "ax.set_ylim([0,30])\n",
        "ax.vlines(x=debye_legnth_nm + stern_layer_nm, ymin=0, ymax=30, linestyles='dashed', colors='k')\n",
        "ax.vlines(x=stern_layer_nm, ymin=0, ymax=30, linestyles='dashed', colors='k')\n",
        "fig.savefig('surface_potential.svg')"
      ],
      "execution_count": 54,
      "outputs": [
        {
          "output_type": "display_data",
          "data": {
            "image/png": "[encoded data removed]",
            "text/plain": [
              "<Figure size 360x216 with 1 Axes>"
            ]
          },
          "metadata": {
            "tags": []
          }
        }
      ]
    },
    {
      "cell_type": "code",
      "metadata": {
        "id": "_Qmc4of3hh27"
      },
      "source": [
        "rho_cl = c_s*np.exp(z_s*e_coulomb*phi_x_V/kT)\n",
        "rho_na = c_s*np.exp(-z_s*e_coulomb*phi_x_V/kT)"
      ],
      "execution_count": 55,
      "outputs": []
    },
    {
      "cell_type": "code",
      "metadata": {
        "colab": {
          "base_uri": "https://localhost:8080/",
          "height": 197
        },
        "id": "IolgsKyinAsc",
        "outputId": "25495971-9a98-4a16-ed89-921589ecd4cb"
      },
      "source": [
        "fig2, ax2 = plt.subplots(figsize = (5,3))\n",
        "ax2.plot(x_stern_nm, np.full(x_stern_nm.shape, rho_cl[0]), 'r', linewidth=1)\n",
        "ax2.plot(x_stern_nm, np.full(x_stern_nm.shape, rho_na[0]), 'b', linewidth=1)\n",
        "ax2.vlines(x=stern_layer_nm, ymin=0, ymax=30, linestyles='dashed', colors='k')\n",
        "ax2.plot(x_nm ,rho_cl, 'r', linewidth=1)\n",
        "ax2.plot(x_nm,rho_na, 'b', linewidth=1)\n",
        "ax2.hlines(y=c_s, xmin=0, xmax=xlength, linestyles ='dashed', colors='k')\n",
        "ax2.vlines(x=debye_legnth_nm + stern_layer_nm, ymin=0, ymax=0.03, linestyles='dashed', colors='k')\n",
        "ax2.get_xaxis().set_ticks([])\n",
        "ax2.get_yaxis().set_ticks([])\n",
        "ax2.set_xlim([0,xlength])\n",
        "ax2.spines['top'].set_visible(False)\n",
        "ax2.spines['right'].set_visible(False)\n",
        "ax2.set_xlim([0,xlength])\n",
        "ax2.set_ylim([0,0.03])\n",
        "fig2.savefig('ionconentration.svg')"
      ],
      "execution_count": 64,
      "outputs": [
        {
          "output_type": "display_data",
          "data": {
            "image/png": "[encoded data removed]",
            "text/plain": [
              "<Figure size 360x216 with 1 Axes>"
            ]
          },
          "metadata": {
            "tags": []
          }
        }
      ]
    },
    {
      "cell_type": "code",
      "metadata": {
        "id": "wGCq908HnCCY"
      },
      "source": [
        ""
      ],
      "execution_count": null,
      "outputs": []
    }
  ]
}