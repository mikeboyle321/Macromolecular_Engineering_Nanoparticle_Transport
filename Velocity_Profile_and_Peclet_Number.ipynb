{
  "nbformat": 4,
  "nbformat_minor": 0,
  "metadata": {
    "colab": {
      "name": "Velocity_Profile_and Peclet_Number.ipynb",
      "provenance": [],
      "authorship_tag": "ABX9TyMdzNWojaLMEoWAbzdgeofI",
      "include_colab_link": true
    },
    "kernelspec": {
      "name": "python3",
      "display_name": "Python 3"
    }
  },
  "cells": [
    {
      "cell_type": "markdown",
      "metadata": {
        "id": "view-in-github",
        "colab_type": "text"
      },
      "source": [
        "<a href=\"https://colab.research.google.com/github/mikeboyle321/Macromolecular_Engineering_Nanoparticle_Transport/blob/main/Velocity_Profile_and_Peclet_Number.ipynb\" target=\"_parent\"><img src=\"https://colab.research.google.com/assets/colab-badge.svg\" alt=\"Open In Colab\"/></a>"
      ]
    },
    {
      "cell_type": "markdown",
      "metadata": {
        "id": "U-0X5XN4DIW_"
      },
      "source": [
        "# Boundary Layer Thickness for Pousille Flow\r\n",
        "https://en.wikipedia.org/wiki/Hagen%E2%80%93Poiseuille_equation"
      ]
    },
    {
      "cell_type": "code",
      "metadata": {
        "id": "96QbxznSDHfF"
      },
      "source": [
        "import numpy as np\r\n",
        "import pandas as pd\r\n",
        "import matplotlib.pyplot as plt\r\n",
        "plt.rcParams.update({'font.size': 14})"
      ],
      "execution_count": null,
      "outputs": []
    },
    {
      "cell_type": "code",
      "metadata": {
        "id": "XrnN2R1VD0SJ"
      },
      "source": [
        "nu = 8.90E-4 # viscosity of water at 25C in Pa-s, SI units\r\n",
        "T = 298 # K\r\n",
        "kb = 1.38064852E-23 # J/K, boltzmann constant\r\n",
        "Q_ul = 500 # uL/min\r\n",
        "Q_m3_sec = Q_ul*(1/60)*1E-9 # m^3/s\r\n",
        "W =  3E-3 # width of diameter of QCM crystal - m\r\n",
        "H = 0.75E-3 # chamber thickness - m\r\n",
        "A = W*H # cross sectional area in m^3\r\n",
        "v = Q_m3_sec/A # velocity ul/min\r\n",
        "y = np.linspace(0,H, 1000) # numeric array for evaluation\r\n",
        "u_y = (H**2/(2*nu))*(12*Q_m3_sec*nu/H**3)*((y/H)*(1-(y/H))) # m/s\r\n",
        "r_np = 10*1E-9 # particle size in nm\r\n",
        "D = (kb*T)/(6*np.pi*nu*r_np) # m^2/s\r\n",
        "Pe = (2*r_np*u_y)/D\r\n",
        "print(v) # m/s"
      ],
      "execution_count": null,
      "outputs": []
    },
    {
      "cell_type": "code",
      "metadata": {
        "colab": {
          "base_uri": "https://localhost:8080/",
          "height": 301
        },
        "id": "m0D2hxV4aR3S",
        "outputId": "15de406e-0eb3-4c99-e978-0c24b3c70860"
      },
      "source": [
        "plt.plot(y, u_y)"
      ],
      "execution_count": null,
      "outputs": [
        {
          "output_type": "execute_result",
          "data": {
            "text/plain": [
              "[<matplotlib.lines.Line2D at 0x7f079ab592e8>]"
            ]
          },
          "metadata": {
            "tags": []
          },
          "execution_count": 43
        },
        {
          "output_type": "display_data",
          "data": {
            "image/png": "[encoded data removed]",
            "text/plain": [
              "<Figure size 432x288 with 1 Axes>"
            ]
          },
          "metadata": {
            "tags": [],
            "needs_background": "light"
          }
        }
      ]
    },
    {
      "cell_type": "code",
      "metadata": {
        "colab": {
          "base_uri": "https://localhost:8080/",
          "height": 287
        },
        "id": "E-90_7mnabWF",
        "outputId": "99455b90-1817-41c5-bc6e-2e593d540d8b"
      },
      "source": [
        "plt.plot(y, Pe)"
      ],
      "execution_count": null,
      "outputs": [
        {
          "output_type": "execute_result",
          "data": {
            "text/plain": [
              "[<matplotlib.lines.Line2D at 0x7f079ab26c50>]"
            ]
          },
          "metadata": {
            "tags": []
          },
          "execution_count": 44
        },
        {
          "output_type": "display_data",
          "data": {
            "image/png": "[encoded data removed]",
            "text/plain": [
              "<Figure size 432x288 with 1 Axes>"
            ]
          },
          "metadata": {
            "tags": [],
            "needs_background": "light"
          }
        }
      ]
    },
    {
      "cell_type": "code",
      "metadata": {
        "colab": {
          "base_uri": "https://localhost:8080/"
        },
        "id": "clEpyiAkav3E",
        "outputId": "460737a4-bee4-4890-809b-e14164796bc3"
      },
      "source": [
        "v"
      ],
      "execution_count": null,
      "outputs": [
        {
          "output_type": "execute_result",
          "data": {
            "text/plain": [
              "0.0037037037037037043"
            ]
          },
          "metadata": {
            "tags": []
          },
          "execution_count": 45
        }
      ]
    },
    {
      "cell_type": "code",
      "metadata": {
        "id": "OER27fQwby6S"
      },
      "source": [
        ""
      ],
      "execution_count": null,
      "outputs": []
    }
  ]
}