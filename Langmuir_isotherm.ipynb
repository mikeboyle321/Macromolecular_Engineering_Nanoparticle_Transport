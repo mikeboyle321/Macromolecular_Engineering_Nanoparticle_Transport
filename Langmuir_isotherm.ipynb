{
  "nbformat": 4,
  "nbformat_minor": 0,
  "metadata": {
    "colab": {
      "name": "Langmuir_isotherm.ipynb",
      "provenance": [],
      "toc_visible": true,
      "authorship_tag": "ABX9TyPn20FdDFTTaY31AeT6RGOG",
      "include_colab_link": true
    },
    "kernelspec": {
      "name": "python3",
      "display_name": "Python 3"
    }
  },
  "cells": [
    {
      "cell_type": "markdown",
      "metadata": {
        "id": "view-in-github",
        "colab_type": "text"
      },
      "source": [
        "<a href=\"https://colab.research.google.com/github/mikeboyle321/Macromolecular_Engineering_Nanoparticle_Transport/blob/main/Langmuir_isotherm.ipynb\" target=\"_parent\"><img src=\"https://colab.research.google.com/assets/colab-badge.svg\" alt=\"Open In Colab\"/></a>"
      ]
    },
    {
      "cell_type": "markdown",
      "metadata": {
        "id": "w9rQ7IyMswzi"
      },
      "source": [
        "# Langmuir Isotherms\r\n"
      ]
    },
    {
      "cell_type": "code",
      "metadata": {
        "id": "D20HmIcUsrQp"
      },
      "source": [
        "import numpy as np\r\n",
        "import pandas as pd\r\n",
        "import matplotlib.pyplot as plt\r\n",
        "import matplotlib.pyplot as plt\r\n",
        "from matplotlib import cm, rc\r\n",
        "from ipywidgets import interactive, IntSlider, RadioButtons, FloatText, IntText, FloatSlider\r\n",
        "# set font size for plots globally\r\n",
        "plt.rcParams.update({'font.size': 14})"
      ],
      "execution_count": 2,
      "outputs": []
    },
    {
      "cell_type": "code",
      "metadata": {
        "colab": {
          "base_uri": "https://localhost:8080/",
          "height": 283
        },
        "id": "urS_BprSs8Wh",
        "outputId": "440b5f32-78a9-4d89-b48b-5927da590c06"
      },
      "source": [
        "k_a = [1, 10, 100, 1000]  # 1/s\r\n",
        "k_d = 10 # 1/s\r\n",
        "# c_o = np.array([20, 50, 100])*08958 # ppm -> nM\r\n",
        "c_np = np.linspace(0,1000, 1000)*0.08958  # ppm -> nM\r\n",
        "for i, value in enumerate(k_a):\r\n",
        "  K = value/k_d\r\n",
        "  theta_eq = (K*c_np)/(1+K*c_np)\r\n",
        "  plt.plot(c_np, theta_eq, color =  plt.cm.Greys((1/len(k_a))*(i+1)), label = (r'$k_{a}$ = ' + str(value) + r' $s^{-1}$, ' +\r\n",
        "                                                                               r'$k_{d}$ = ' + str(k_d) + r' $s^{-1}$, ' +\r\n",
        "                                                                               r'$K$ = ' + str(np.round(K, 3))\r\n",
        "                                                                               )\r\n",
        "          )\r\n",
        "plt.xlabel('NP Concentration [nM]', fontsize=14)\r\n",
        "plt.ylabel(r'$\\theta_{eq}$', fontsize=14)\r\n",
        "plt.legend()\r\n",
        "plt.savefig('langmuir_iso_therm.svg')"
      ],
      "execution_count": 30,
      "outputs": [
        {
          "output_type": "display_data",
          "data": {
            "image/png": "[encoded data removed]",
            "text/plain": [
              "<Figure size 432x288 with 1 Axes>"
            ]
          },
          "metadata": {
            "tags": [],
            "needs_background": "light"
          }
        }
      ]
    },
    {
      "cell_type": "code",
      "metadata": {
        "colab": {
          "base_uri": "https://localhost:8080/"
        },
        "id": "rHhPSk2ZoOHN",
        "outputId": "631c0c38-3544-4fed-a6d8-6b796e94c987"
      },
      "source": [
        "4/3*np.pi*7.5**3*1E-21*10.49*6.022E23"
      ],
      "execution_count": 6,
      "outputs": [
        {
          "output_type": "execute_result",
          "data": {
            "text/plain": [
              "11163198.283286456"
            ]
          },
          "metadata": {
            "tags": []
          },
          "execution_count": 6
        }
      ]
    },
    {
      "cell_type": "code",
      "metadata": {
        "id": "a1PJxL7IoUrf"
      },
      "source": [
        ""
      ],
      "execution_count": null,
      "outputs": []
    }
  ]
}